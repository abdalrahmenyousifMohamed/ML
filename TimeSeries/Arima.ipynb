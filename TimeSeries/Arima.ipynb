{
  "cells": [
    {
      "cell_type": "markdown",
      "metadata": {
        "id": "view-in-github",
        "colab_type": "text"
      },
      "source": [
        "<a href=\"https://colab.research.google.com/github/abdalrahmenyousifMohamed/ML/blob/main/TimeSeries/Arima.ipynb\" target=\"_parent\"><img src=\"https://colab.research.google.com/assets/colab-badge.svg\" alt=\"Open In Colab\"/></a>"
      ]
    },
    {
      "cell_type": "markdown",
      "metadata": {
        "id": "H4NqDTSiq5Cu"
      },
      "source": [
        "## Importing the relevant packages"
      ]
    },
    {
      "cell_type": "code",
      "source": [],
      "metadata": {
        "id": "GKNGAKxwrCHI"
      },
      "execution_count": 2,
      "outputs": []
    },
    {
      "cell_type": "code",
      "execution_count": 3,
      "metadata": {
        "id": "8cyj-PaIq5Cv"
      },
      "outputs": [],
      "source": [
        "import pandas as pd\n",
        "import numpy as np\n",
        "import matplotlib.pyplot as plt\n",
        "import statsmodels.graphics.tsaplots as sgt\n",
        "import statsmodels.tsa.stattools as sts\n",
        "from statsmodels.tsa.arima_model import ARIMA\n",
        "from scipy.stats.distributions import chi2 \n",
        "from math import sqrt\n",
        "import seaborn as sns\n",
        "sns.set()"
      ]
    },
    {
      "cell_type": "markdown",
      "metadata": {
        "id": "waUIGPA4q5Cw"
      },
      "source": [
        " "
      ]
    },
    {
      "cell_type": "markdown",
      "metadata": {
        "id": "NXCImMwZq5Cx"
      },
      "source": [
        "## Importing the Data and Pre-processing "
      ]
    },
    {
      "cell_type": "code",
      "execution_count": 4,
      "metadata": {
        "id": "gLDOoWo_q5Cx"
      },
      "outputs": [],
      "source": [
        "raw_csv_data = pd.read_csv(\"/content/drive/MyDrive/TimeSeries/Index2018.csv\") \n",
        "df_comp=raw_csv_data.copy()\n",
        "df_comp.date = pd.to_datetime(df_comp.date, dayfirst = True)\n",
        "df_comp.set_index(\"date\", inplace=True)\n",
        "df_comp=df_comp.asfreq('b')\n",
        "df_comp=df_comp.fillna(method='ffill')"
      ]
    },
    {
      "cell_type": "code",
      "execution_count": 5,
      "metadata": {
        "id": "wShjLnz3q5Cx"
      },
      "outputs": [],
      "source": [
        "df_comp['market_value']=df_comp.ftse"
      ]
    },
    {
      "cell_type": "code",
      "execution_count": 6,
      "metadata": {
        "id": "5gSSkewsq5Cy"
      },
      "outputs": [],
      "source": [
        "import warnings\n",
        "warnings.filterwarnings(\"ignore\")"
      ]
    },
    {
      "cell_type": "code",
      "execution_count": 7,
      "metadata": {
        "id": "xF2rR6x1q5Cy"
      },
      "outputs": [],
      "source": [
        "#del df_comp['spx']\n",
        "#del df_comp['dax']\n",
        "#del df_comp['ftse']\n",
        "#del df_comp['nikkei']\n",
        "size = int(len(df_comp)*0.8)\n",
        "df, df_test = df_comp.iloc[:size], df_comp.iloc[size:]"
      ]
    },
    {
      "cell_type": "markdown",
      "metadata": {
        "id": "YHtvKIfqq5Cz"
      },
      "source": [
        " "
      ]
    },
    {
      "cell_type": "markdown",
      "metadata": {
        "id": "ILEdjlTvq5Cz"
      },
      "source": [
        "## The LLR Test"
      ]
    },
    {
      "cell_type": "code",
      "execution_count": 8,
      "metadata": {
        "id": "Fh4BO8Rkq5Cz"
      },
      "outputs": [],
      "source": [
        "def LLR_test(mod_1, mod_2, DF = 1):\n",
        "    L1 = mod_1.fit(start_ar_lags = 11).llf\n",
        "    L2 = mod_2.fit(start_ar_lags = 11).llf\n",
        "    LR = (2*(L2-L1))    \n",
        "    p = chi2.sf(LR, DF).round(3)\n",
        "    return p"
      ]
    },
    {
      "cell_type": "markdown",
      "metadata": {
        "id": "HuQzhzmbq5C0"
      },
      "source": [
        "## Creating Returns"
      ]
    },
    {
      "cell_type": "code",
      "execution_count": 9,
      "metadata": {
        "scrolled": true,
        "id": "usrpjfeYq5C0"
      },
      "outputs": [],
      "source": [
        "df['returns'] = df.market_value.pct_change(1)*100"
      ]
    },
    {
      "cell_type": "markdown",
      "metadata": {
        "id": "dtb87nXJq5C0"
      },
      "source": [
        "## ARIMA(1,1,1)"
      ]
    },
    {
      "cell_type": "code",
      "execution_count": 10,
      "metadata": {
        "colab": {
          "base_uri": "https://localhost:8080/",
          "height": 351
        },
        "id": "aCTBmntOq5C1",
        "outputId": "9e83b248-65fb-4fd5-a74f-d317a204a7f2"
      },
      "outputs": [
        {
          "output_type": "execute_result",
          "data": {
            "text/plain": [
              "<class 'statsmodels.iolib.summary.Summary'>\n",
              "\"\"\"\n",
              "                             ARIMA Model Results                              \n",
              "==============================================================================\n",
              "Dep. Variable:         D.market_value   No. Observations:                 5020\n",
              "Model:                 ARIMA(1, 1, 1)   Log Likelihood              -27603.666\n",
              "Method:                       css-mle   S.D. of innovations             59.134\n",
              "Date:                Sat, 19 Nov 2022   AIC                          55215.333\n",
              "Time:                        02:17:29   BIC                          55241.418\n",
              "Sample:                    01-10-1994   HQIC                         55224.473\n",
              "                         - 04-05-2013                                         \n",
              "========================================================================================\n",
              "                           coef    std err          z      P>|z|      [0.025      0.975]\n",
              "----------------------------------------------------------------------------------------\n",
              "const                    0.5655      0.682      0.829      0.407      -0.772       1.903\n",
              "ar.L1.D.market_value     0.7475      0.070     10.652      0.000       0.610       0.885\n",
              "ma.L1.D.market_value    -0.7936      0.064    -12.378      0.000      -0.919      -0.668\n",
              "                                    Roots                                    \n",
              "=============================================================================\n",
              "                  Real          Imaginary           Modulus         Frequency\n",
              "-----------------------------------------------------------------------------\n",
              "AR.1            1.3378           +0.0000j            1.3378            0.0000\n",
              "MA.1            1.2601           +0.0000j            1.2601            0.0000\n",
              "-----------------------------------------------------------------------------\n",
              "\"\"\""
            ],
            "text/html": [
              "<table class=\"simpletable\">\n",
              "<caption>ARIMA Model Results</caption>\n",
              "<tr>\n",
              "  <th>Dep. Variable:</th>  <td>D.market_value</td>  <th>  No. Observations:  </th>    <td>5020</td>   \n",
              "</tr>\n",
              "<tr>\n",
              "  <th>Model:</th>          <td>ARIMA(1, 1, 1)</td>  <th>  Log Likelihood     </th> <td>-27603.666</td>\n",
              "</tr>\n",
              "<tr>\n",
              "  <th>Method:</th>             <td>css-mle</td>     <th>  S.D. of innovations</th>   <td>59.134</td>  \n",
              "</tr>\n",
              "<tr>\n",
              "  <th>Date:</th>          <td>Sat, 19 Nov 2022</td> <th>  AIC                </th>  <td>55215.333</td>\n",
              "</tr>\n",
              "<tr>\n",
              "  <th>Time:</th>              <td>02:17:29</td>     <th>  BIC                </th>  <td>55241.418</td>\n",
              "</tr>\n",
              "<tr>\n",
              "  <th>Sample:</th>           <td>01-10-1994</td>    <th>  HQIC               </th>  <td>55224.473</td>\n",
              "</tr>\n",
              "<tr>\n",
              "  <th></th>                 <td>- 04-05-2013</td>   <th>                     </th>      <td> </td>    \n",
              "</tr>\n",
              "</table>\n",
              "<table class=\"simpletable\">\n",
              "<tr>\n",
              "            <td></td>              <th>coef</th>     <th>std err</th>      <th>z</th>      <th>P>|z|</th>  <th>[0.025</th>    <th>0.975]</th>  \n",
              "</tr>\n",
              "<tr>\n",
              "  <th>const</th>                <td>    0.5655</td> <td>    0.682</td> <td>    0.829</td> <td> 0.407</td> <td>   -0.772</td> <td>    1.903</td>\n",
              "</tr>\n",
              "<tr>\n",
              "  <th>ar.L1.D.market_value</th> <td>    0.7475</td> <td>    0.070</td> <td>   10.652</td> <td> 0.000</td> <td>    0.610</td> <td>    0.885</td>\n",
              "</tr>\n",
              "<tr>\n",
              "  <th>ma.L1.D.market_value</th> <td>   -0.7936</td> <td>    0.064</td> <td>  -12.378</td> <td> 0.000</td> <td>   -0.919</td> <td>   -0.668</td>\n",
              "</tr>\n",
              "</table>\n",
              "<table class=\"simpletable\">\n",
              "<caption>Roots</caption>\n",
              "<tr>\n",
              "    <td></td>   <th>            Real</th>  <th>         Imaginary</th> <th>         Modulus</th>  <th>        Frequency</th>\n",
              "</tr>\n",
              "<tr>\n",
              "  <th>AR.1</th> <td>           1.3378</td> <td>          +0.0000j</td> <td>           1.3378</td> <td>           0.0000</td>\n",
              "</tr>\n",
              "<tr>\n",
              "  <th>MA.1</th> <td>           1.2601</td> <td>          +0.0000j</td> <td>           1.2601</td> <td>           0.0000</td>\n",
              "</tr>\n",
              "</table>"
            ]
          },
          "metadata": {},
          "execution_count": 10
        }
      ],
      "source": [
        "model_ar_1_i_1_ma_1 = ARIMA(df.market_value, order=(1,1,1))\n",
        "results_ar_1_i_1_ma_1 = model_ar_1_i_1_ma_1.fit()\n",
        "results_ar_1_i_1_ma_1.summary()"
      ]
    },
    {
      "cell_type": "markdown",
      "metadata": {
        "id": "ctfMR555q5C1"
      },
      "source": [
        "## Residuals of the ARIMA(1,1,1)"
      ]
    },
    {
      "cell_type": "code",
      "execution_count": 11,
      "metadata": {
        "colab": {
          "base_uri": "https://localhost:8080/",
          "height": 289
        },
        "id": "0f6aN2Dxq5C2",
        "outputId": "2e61e63e-7769-4b11-d985-3994ff13ad30"
      },
      "outputs": [
        {
          "output_type": "display_data",
          "data": {
            "text/plain": [
              "<Figure size 432x288 with 1 Axes>"
            ],
            "image/png": "[encoded data removed]"
          },
          "metadata": {}
        }
      ],
      "source": [
        "df['res_ar_1_i_1_ma_1'] = results_ar_1_i_1_ma_1.resid\n",
        "sgt.plot_acf(df.res_ar_1_i_1_ma_1, zero = False, lags = 40)\n",
        "plt.title(\"ACF Of Residuals for ARIMA(1,1,1)\",size=20)\n",
        "plt.show()"
      ]
    },
    {
      "cell_type": "code",
      "execution_count": 12,
      "metadata": {
        "colab": {
          "base_uri": "https://localhost:8080/",
          "height": 289
        },
        "id": "qReAPugAq5C2",
        "outputId": "2e729c63-e79a-45fd-f1ab-9f1a644c4c69"
      },
      "outputs": [
        {
          "output_type": "display_data",
          "data": {
            "text/plain": [
              "<Figure size 432x288 with 1 Axes>"
            ],
            "image/png": "[encoded data removed]"
          },
          "metadata": {}
        }
      ],
      "source": [
        "df['res_ar_1_i_1_ma_1'] = results_ar_1_i_1_ma_1.resid.iloc[:]\n",
        "sgt.plot_acf(df.res_ar_1_i_1_ma_1[1:], zero = False, lags = 40)\n",
        "plt.title(\"ACF Of Residuals for ARIMA(1,1,1)\",size=20)\n",
        "plt.show()"
      ]
    },
    {
      "cell_type": "markdown",
      "metadata": {
        "id": "5AFT_Ta0q5C2"
      },
      "source": [
        "## Higher-Lag ARIMA Models"
      ]
    },
    {
      "cell_type": "code",
      "execution_count": 13,
      "metadata": {
        "id": "SMUC_E4Oq5C3"
      },
      "outputs": [],
      "source": [
        "model_ar_1_i_1_ma_2 = ARIMA(df.market_value, order=(1,1,2))\n",
        "results_ar_1_i_1_ma_2 = model_ar_1_i_1_ma_2.fit()\n",
        "model_ar_1_i_1_ma_3 = ARIMA(df.market_value, order=(1,1,3))\n",
        "results_ar_1_i_1_ma_3 = model_ar_1_i_1_ma_3.fit()\n",
        "model_ar_2_i_1_ma_1 = ARIMA(df.market_value, order=(2,1,1))\n",
        "results_ar_2_i_1_ma_1 = model_ar_2_i_1_ma_1.fit()\n",
        "model_ar_3_i_1_ma_1 = ARIMA(df.market_value, order=(3,1,1))\n",
        "results_ar_3_i_1_ma_1 = model_ar_3_i_1_ma_1.fit()\n",
        "model_ar_3_i_1_ma_2 = ARIMA(df.market_value, order=(3,1,2))\n",
        "results_ar_3_i_1_ma_2 = model_ar_3_i_1_ma_2.fit(start_ar_lags=5)"
      ]
    },
    {
      "cell_type": "code",
      "execution_count": 14,
      "metadata": {
        "colab": {
          "base_uri": "https://localhost:8080/"
        },
        "id": "zV7fYLzuq5C3",
        "outputId": "0057f942-c6d4-46f4-96ef-992f92f581a0"
      },
      "outputs": [
        {
          "output_type": "stream",
          "name": "stdout",
          "text": [
            "ARIMA(1,1,1):  \t LL =  -27603.666412774845 \t AIC =  55215.33282554969\n",
            "ARIMA(1,1,2):  \t LL =  -27600.081863139967 \t AIC =  55210.163726279934\n",
            "ARIMA(1,1,3):  \t LL =  -27590.424032545823 \t AIC =  55192.848065091646\n",
            "ARIMA(2,1,1):  \t LL =  -27599.80748784872 \t AIC =  55209.61497569744\n",
            "ARIMA(3,1,1):  \t LL =  -27592.05537170885 \t AIC =  55196.1107434177\n",
            "ARIMA(3,1,2):  \t LL =  -27590.660808987082 \t AIC =  55195.321617974165\n"
          ]
        }
      ],
      "source": [
        "print(\"ARIMA(1,1,1):  \\t LL = \", results_ar_1_i_1_ma_1.llf, \"\\t AIC = \", results_ar_1_i_1_ma_1.aic)\n",
        "print(\"ARIMA(1,1,2):  \\t LL = \", results_ar_1_i_1_ma_2.llf, \"\\t AIC = \", results_ar_1_i_1_ma_2.aic)\n",
        "print(\"ARIMA(1,1,3):  \\t LL = \", results_ar_1_i_1_ma_3.llf, \"\\t AIC = \", results_ar_1_i_1_ma_3.aic)\n",
        "print(\"ARIMA(2,1,1):  \\t LL = \", results_ar_2_i_1_ma_1.llf, \"\\t AIC = \", results_ar_2_i_1_ma_1.aic)\n",
        "print(\"ARIMA(3,1,1):  \\t LL = \", results_ar_3_i_1_ma_1.llf, \"\\t AIC = \", results_ar_3_i_1_ma_1.aic)\n",
        "print(\"ARIMA(3,1,2):  \\t LL = \", results_ar_3_i_1_ma_2.llf, \"\\t AIC = \", results_ar_3_i_1_ma_2.aic)"
      ]
    },
    {
      "cell_type": "code",
      "execution_count": 15,
      "metadata": {
        "colab": {
          "base_uri": "https://localhost:8080/"
        },
        "id": "hKIHmJ7qq5C3",
        "outputId": "9d672398-4f85-48c8-c7bc-2a76af748c39"
      },
      "outputs": [
        {
          "output_type": "stream",
          "name": "stdout",
          "text": [
            "\n",
            "LLR test p-value = 0.0\n"
          ]
        }
      ],
      "source": [
        "print(\"\\nLLR test p-value = \" + str(LLR_test(model_ar_1_i_1_ma_2, model_ar_1_i_1_ma_3)))"
      ]
    },
    {
      "cell_type": "code",
      "execution_count": 16,
      "metadata": {
        "colab": {
          "base_uri": "https://localhost:8080/"
        },
        "id": "8EgJQ5VDq5C4",
        "outputId": "8b65707d-8992-4799-af75-10de1fc8c9db"
      },
      "outputs": [
        {
          "output_type": "stream",
          "name": "stdout",
          "text": [
            "\n",
            "LLR test p-value = 0.0\n"
          ]
        }
      ],
      "source": [
        "print(\"\\nLLR test p-value = \" + str(LLR_test(model_ar_1_i_1_ma_1, model_ar_1_i_1_ma_3, DF = 2)))"
      ]
    },
    {
      "cell_type": "code",
      "execution_count": 17,
      "metadata": {
        "colab": {
          "base_uri": "https://localhost:8080/",
          "height": 289
        },
        "id": "6f--GiZ0q5C4",
        "outputId": "35b9d3b6-8eee-4aca-c6f0-9032946c2fd6"
      },
      "outputs": [
        {
          "output_type": "display_data",
          "data": {
            "text/plain": [
              "<Figure size 432x288 with 1 Axes>"
            ],
            "image/png": "[encoded data removed]"
          },
          "metadata": {}
        }
      ],
      "source": [
        "df['res_ar_1_i_1_ma_3'] = results_ar_1_i_1_ma_3.resid\n",
        "sgt.plot_acf(df.res_ar_1_i_1_ma_3[1:], zero = False, lags = 40)\n",
        "plt.title(\"ACF Of Residuals for ARIMA(1,1,3)\", size=20)\n",
        "plt.show()"
      ]
    },
    {
      "cell_type": "code",
      "execution_count": 18,
      "metadata": {
        "id": "21DgS7vWq5C4"
      },
      "outputs": [],
      "source": [
        "model_ar_5_i_1_ma_1 = ARIMA(df.market_value, order=(5,1,1))\n",
        "results_ar_5_i_1_ma_1 = model_ar_5_i_1_ma_1.fit(start_ar_lags=11)\n",
        "model_ar_6_i_1_ma_3 = ARIMA(df.market_value, order=(6,1,3))\n",
        "results_ar_6_i_1_ma_3 = model_ar_6_i_1_ma_3.fit(start_ar_lags=11)"
      ]
    },
    {
      "cell_type": "code",
      "execution_count": 19,
      "metadata": {
        "colab": {
          "base_uri": "https://localhost:8080/",
          "height": 519
        },
        "id": "7K6u1zPGq5C4",
        "outputId": "79fd754c-0f6c-4e0c-985c-58ddd7cd0eff"
      },
      "outputs": [
        {
          "output_type": "execute_result",
          "data": {
            "text/plain": [
              "<class 'statsmodels.iolib.summary.Summary'>\n",
              "\"\"\"\n",
              "                             ARIMA Model Results                              \n",
              "==============================================================================\n",
              "Dep. Variable:         D.market_value   No. Observations:                 5020\n",
              "Model:                 ARIMA(5, 1, 1)   Log Likelihood              -27586.512\n",
              "Method:                       css-mle   S.D. of innovations             58.932\n",
              "Date:                Sat, 19 Nov 2022   AIC                          55189.024\n",
              "Time:                        02:17:44   BIC                          55241.193\n",
              "Sample:                    01-10-1994   HQIC                         55207.305\n",
              "                         - 04-05-2013                                         \n",
              "========================================================================================\n",
              "                           coef    std err          z      P>|z|      [0.025      0.975]\n",
              "----------------------------------------------------------------------------------------\n",
              "const                    0.5662      0.690      0.820      0.412      -0.787       1.919\n",
              "ar.L1.D.market_value     0.4011      0.159      2.530      0.011       0.090       0.712\n",
              "ar.L2.D.market_value    -0.0445      0.016     -2.856      0.004      -0.075      -0.014\n",
              "ar.L3.D.market_value    -0.0543      0.017     -3.163      0.002      -0.088      -0.021\n",
              "ar.L4.D.market_value     0.0586      0.019      3.069      0.002       0.021       0.096\n",
              "ar.L5.D.market_value    -0.0581      0.014     -4.118      0.000      -0.086      -0.030\n",
              "ma.L1.D.market_value    -0.4214      0.158     -2.659      0.008      -0.732      -0.111\n",
              "                                    Roots                                    \n",
              "=============================================================================\n",
              "                  Real          Imaginary           Modulus         Frequency\n",
              "-----------------------------------------------------------------------------\n",
              "AR.1           -1.7609           -0.0000j            1.7609           -0.5000\n",
              "AR.2            1.4633           -0.8605j            1.6975           -0.0846\n",
              "AR.3            1.4633           +0.8605j            1.6975            0.0846\n",
              "AR.4           -0.0789           -1.8393j            1.8410           -0.2568\n",
              "AR.5           -0.0789           +1.8393j            1.8410            0.2568\n",
              "MA.1            2.3732           +0.0000j            2.3732            0.0000\n",
              "-----------------------------------------------------------------------------\n",
              "\"\"\""
            ],
            "text/html": [
              "<table class=\"simpletable\">\n",
              "<caption>ARIMA Model Results</caption>\n",
              "<tr>\n",
              "  <th>Dep. Variable:</th>  <td>D.market_value</td>  <th>  No. Observations:  </th>    <td>5020</td>   \n",
              "</tr>\n",
              "<tr>\n",
              "  <th>Model:</th>          <td>ARIMA(5, 1, 1)</td>  <th>  Log Likelihood     </th> <td>-27586.512</td>\n",
              "</tr>\n",
              "<tr>\n",
              "  <th>Method:</th>             <td>css-mle</td>     <th>  S.D. of innovations</th>   <td>58.932</td>  \n",
              "</tr>\n",
              "<tr>\n",
              "  <th>Date:</th>          <td>Sat, 19 Nov 2022</td> <th>  AIC                </th>  <td>55189.024</td>\n",
              "</tr>\n",
              "<tr>\n",
              "  <th>Time:</th>              <td>02:17:44</td>     <th>  BIC                </th>  <td>55241.193</td>\n",
              "</tr>\n",
              "<tr>\n",
              "  <th>Sample:</th>           <td>01-10-1994</td>    <th>  HQIC               </th>  <td>55207.305</td>\n",
              "</tr>\n",
              "<tr>\n",
              "  <th></th>                 <td>- 04-05-2013</td>   <th>                     </th>      <td> </td>    \n",
              "</tr>\n",
              "</table>\n",
              "<table class=\"simpletable\">\n",
              "<tr>\n",
              "            <td></td>              <th>coef</th>     <th>std err</th>      <th>z</th>      <th>P>|z|</th>  <th>[0.025</th>    <th>0.975]</th>  \n",
              "</tr>\n",
              "<tr>\n",
              "  <th>const</th>                <td>    0.5662</td> <td>    0.690</td> <td>    0.820</td> <td> 0.412</td> <td>   -0.787</td> <td>    1.919</td>\n",
              "</tr>\n",
              "<tr>\n",
              "  <th>ar.L1.D.market_value</th> <td>    0.4011</td> <td>    0.159</td> <td>    2.530</td> <td> 0.011</td> <td>    0.090</td> <td>    0.712</td>\n",
              "</tr>\n",
              "<tr>\n",
              "  <th>ar.L2.D.market_value</th> <td>   -0.0445</td> <td>    0.016</td> <td>   -2.856</td> <td> 0.004</td> <td>   -0.075</td> <td>   -0.014</td>\n",
              "</tr>\n",
              "<tr>\n",
              "  <th>ar.L3.D.market_value</th> <td>   -0.0543</td> <td>    0.017</td> <td>   -3.163</td> <td> 0.002</td> <td>   -0.088</td> <td>   -0.021</td>\n",
              "</tr>\n",
              "<tr>\n",
              "  <th>ar.L4.D.market_value</th> <td>    0.0586</td> <td>    0.019</td> <td>    3.069</td> <td> 0.002</td> <td>    0.021</td> <td>    0.096</td>\n",
              "</tr>\n",
              "<tr>\n",
              "  <th>ar.L5.D.market_value</th> <td>   -0.0581</td> <td>    0.014</td> <td>   -4.118</td> <td> 0.000</td> <td>   -0.086</td> <td>   -0.030</td>\n",
              "</tr>\n",
              "<tr>\n",
              "  <th>ma.L1.D.market_value</th> <td>   -0.4214</td> <td>    0.158</td> <td>   -2.659</td> <td> 0.008</td> <td>   -0.732</td> <td>   -0.111</td>\n",
              "</tr>\n",
              "</table>\n",
              "<table class=\"simpletable\">\n",
              "<caption>Roots</caption>\n",
              "<tr>\n",
              "    <td></td>   <th>            Real</th>  <th>         Imaginary</th> <th>         Modulus</th>  <th>        Frequency</th>\n",
              "</tr>\n",
              "<tr>\n",
              "  <th>AR.1</th> <td>          -1.7609</td> <td>          -0.0000j</td> <td>           1.7609</td> <td>          -0.5000</td>\n",
              "</tr>\n",
              "<tr>\n",
              "  <th>AR.2</th> <td>           1.4633</td> <td>          -0.8605j</td> <td>           1.6975</td> <td>          -0.0846</td>\n",
              "</tr>\n",
              "<tr>\n",
              "  <th>AR.3</th> <td>           1.4633</td> <td>          +0.8605j</td> <td>           1.6975</td> <td>           0.0846</td>\n",
              "</tr>\n",
              "<tr>\n",
              "  <th>AR.4</th> <td>          -0.0789</td> <td>          -1.8393j</td> <td>           1.8410</td> <td>          -0.2568</td>\n",
              "</tr>\n",
              "<tr>\n",
              "  <th>AR.5</th> <td>          -0.0789</td> <td>          +1.8393j</td> <td>           1.8410</td> <td>           0.2568</td>\n",
              "</tr>\n",
              "<tr>\n",
              "  <th>MA.1</th> <td>           2.3732</td> <td>          +0.0000j</td> <td>           2.3732</td> <td>           0.0000</td>\n",
              "</tr>\n",
              "</table>"
            ]
          },
          "metadata": {},
          "execution_count": 19
        }
      ],
      "source": [
        "results_ar_5_i_1_ma_1.summary()"
      ]
    },
    {
      "cell_type": "code",
      "execution_count": 20,
      "metadata": {
        "colab": {
          "base_uri": "https://localhost:8080/"
        },
        "id": "gwQTyPM6q5C5",
        "outputId": "f8584159-15cc-4636-f9df-1abc93914d4d"
      },
      "outputs": [
        {
          "output_type": "stream",
          "name": "stdout",
          "text": [
            "ARIMA(1,1,3):  \t LL =  -27590.424032545823 \t AIC =  55192.848065091646\n",
            "ARIMA(5,1,1):  \t LL =  -27586.51188812616 \t AIC =  55189.02377625232\n",
            "ARIMA(6,1,3):  \t LL =  -27583.565320399106 \t AIC =  55189.13064079821\n"
          ]
        }
      ],
      "source": [
        "print(\"ARIMA(1,1,3):  \\t LL = \", results_ar_1_i_1_ma_3.llf, \"\\t AIC = \", results_ar_1_i_1_ma_3.aic)\n",
        "print(\"ARIMA(5,1,1):  \\t LL = \", results_ar_5_i_1_ma_1.llf, \"\\t AIC = \", results_ar_5_i_1_ma_1.aic)\n",
        "print(\"ARIMA(6,1,3):  \\t LL = \", results_ar_6_i_1_ma_3.llf, \"\\t AIC = \", results_ar_6_i_1_ma_3.aic)"
      ]
    },
    {
      "cell_type": "code",
      "execution_count": 21,
      "metadata": {
        "colab": {
          "base_uri": "https://localhost:8080/"
        },
        "id": "HtZk873zq5C5",
        "outputId": "2c1c3c81-6009-4487-a55a-af888e9ff162"
      },
      "outputs": [
        {
          "output_type": "stream",
          "name": "stdout",
          "text": [
            "\n",
            "LLR test p-value = 0.018\n"
          ]
        }
      ],
      "source": [
        "print(\"\\nLLR test p-value = \" + str(LLR_test(model_ar_1_i_1_ma_3, model_ar_6_i_1_ma_3, DF = 5)))"
      ]
    },
    {
      "cell_type": "code",
      "execution_count": 22,
      "metadata": {
        "colab": {
          "base_uri": "https://localhost:8080/"
        },
        "id": "AVR0JmXEq5C5",
        "outputId": "c705f335-ed85-4746-ad7d-a4a7cb0f51b4"
      },
      "outputs": [
        {
          "output_type": "stream",
          "name": "stdout",
          "text": [
            "\n",
            "LLR test p-value = 0.117\n"
          ]
        }
      ],
      "source": [
        "print(\"\\nLLR test p-value = \" + str(LLR_test(model_ar_5_i_1_ma_1, model_ar_6_i_1_ma_3, DF = 3)))"
      ]
    },
    {
      "cell_type": "code",
      "execution_count": 23,
      "metadata": {
        "colab": {
          "base_uri": "https://localhost:8080/",
          "height": 289
        },
        "id": "VZrU37xFq5C6",
        "outputId": "7d85cd29-7323-452c-82f0-e317820d32c6"
      },
      "outputs": [
        {
          "output_type": "display_data",
          "data": {
            "text/plain": [
              "<Figure size 432x288 with 1 Axes>"
            ],
            "image/png": "[encoded data removed]"
          },
          "metadata": {}
        }
      ],
      "source": [
        "df['res_ar_5_i_1_ma_1'] = results_ar_5_i_1_ma_1.resid\n",
        "sgt.plot_acf(df.res_ar_5_i_1_ma_1[1:], zero = False, lags = 40)\n",
        "plt.title(\"ACF Of Residuals for ARIMA(5,1,1)\", size=20)\n",
        "plt.show()"
      ]
    },
    {
      "cell_type": "markdown",
      "metadata": {
        "id": "FNiVKkANq5C6"
      },
      "source": [
        "## Models with Higher Levels of Integration"
      ]
    },
    {
      "cell_type": "code",
      "execution_count": 24,
      "metadata": {
        "id": "t4kT9JIlq5C6"
      },
      "outputs": [],
      "source": [
        "df['delta_prices']=df.market_value.diff(1)"
      ]
    },
    {
      "cell_type": "code",
      "execution_count": 25,
      "metadata": {
        "scrolled": true,
        "colab": {
          "base_uri": "https://localhost:8080/",
          "height": 351
        },
        "id": "L-Vhmqrgq5C6",
        "outputId": "ec638887-62aa-4e54-d48a-6520457104a8"
      },
      "outputs": [
        {
          "output_type": "execute_result",
          "data": {
            "text/plain": [
              "<class 'statsmodels.iolib.summary.Summary'>\n",
              "\"\"\"\n",
              "                              ARMA Model Results                              \n",
              "==============================================================================\n",
              "Dep. Variable:           delta_prices   No. Observations:                 5020\n",
              "Model:                     ARMA(1, 1)   Log Likelihood              -27603.666\n",
              "Method:                       css-mle   S.D. of innovations             59.134\n",
              "Date:                Sat, 19 Nov 2022   AIC                          55215.333\n",
              "Time:                        02:17:57   BIC                          55241.418\n",
              "Sample:                    01-10-1994   HQIC                         55224.473\n",
              "                         - 04-05-2013                                         \n",
              "======================================================================================\n",
              "                         coef    std err          z      P>|z|      [0.025      0.975]\n",
              "--------------------------------------------------------------------------------------\n",
              "const                  0.5655      0.682      0.829      0.407      -0.772       1.903\n",
              "ar.L1.delta_prices     0.7475      0.070     10.652      0.000       0.610       0.885\n",
              "ma.L1.delta_prices    -0.7936      0.064    -12.378      0.000      -0.919      -0.668\n",
              "                                    Roots                                    \n",
              "=============================================================================\n",
              "                  Real          Imaginary           Modulus         Frequency\n",
              "-----------------------------------------------------------------------------\n",
              "AR.1            1.3378           +0.0000j            1.3378            0.0000\n",
              "MA.1            1.2601           +0.0000j            1.2601            0.0000\n",
              "-----------------------------------------------------------------------------\n",
              "\"\"\""
            ],
            "text/html": [
              "<table class=\"simpletable\">\n",
              "<caption>ARMA Model Results</caption>\n",
              "<tr>\n",
              "  <th>Dep. Variable:</th>   <td>delta_prices</td>   <th>  No. Observations:  </th>    <td>5020</td>   \n",
              "</tr>\n",
              "<tr>\n",
              "  <th>Model:</th>            <td>ARMA(1, 1)</td>    <th>  Log Likelihood     </th> <td>-27603.666</td>\n",
              "</tr>\n",
              "<tr>\n",
              "  <th>Method:</th>             <td>css-mle</td>     <th>  S.D. of innovations</th>   <td>59.134</td>  \n",
              "</tr>\n",
              "<tr>\n",
              "  <th>Date:</th>          <td>Sat, 19 Nov 2022</td> <th>  AIC                </th>  <td>55215.333</td>\n",
              "</tr>\n",
              "<tr>\n",
              "  <th>Time:</th>              <td>02:17:57</td>     <th>  BIC                </th>  <td>55241.418</td>\n",
              "</tr>\n",
              "<tr>\n",
              "  <th>Sample:</th>           <td>01-10-1994</td>    <th>  HQIC               </th>  <td>55224.473</td>\n",
              "</tr>\n",
              "<tr>\n",
              "  <th></th>                 <td>- 04-05-2013</td>   <th>                     </th>      <td> </td>    \n",
              "</tr>\n",
              "</table>\n",
              "<table class=\"simpletable\">\n",
              "<tr>\n",
              "           <td></td>             <th>coef</th>     <th>std err</th>      <th>z</th>      <th>P>|z|</th>  <th>[0.025</th>    <th>0.975]</th>  \n",
              "</tr>\n",
              "<tr>\n",
              "  <th>const</th>              <td>    0.5655</td> <td>    0.682</td> <td>    0.829</td> <td> 0.407</td> <td>   -0.772</td> <td>    1.903</td>\n",
              "</tr>\n",
              "<tr>\n",
              "  <th>ar.L1.delta_prices</th> <td>    0.7475</td> <td>    0.070</td> <td>   10.652</td> <td> 0.000</td> <td>    0.610</td> <td>    0.885</td>\n",
              "</tr>\n",
              "<tr>\n",
              "  <th>ma.L1.delta_prices</th> <td>   -0.7936</td> <td>    0.064</td> <td>  -12.378</td> <td> 0.000</td> <td>   -0.919</td> <td>   -0.668</td>\n",
              "</tr>\n",
              "</table>\n",
              "<table class=\"simpletable\">\n",
              "<caption>Roots</caption>\n",
              "<tr>\n",
              "    <td></td>   <th>            Real</th>  <th>         Imaginary</th> <th>         Modulus</th>  <th>        Frequency</th>\n",
              "</tr>\n",
              "<tr>\n",
              "  <th>AR.1</th> <td>           1.3378</td> <td>          +0.0000j</td> <td>           1.3378</td> <td>           0.0000</td>\n",
              "</tr>\n",
              "<tr>\n",
              "  <th>MA.1</th> <td>           1.2601</td> <td>          +0.0000j</td> <td>           1.2601</td> <td>           0.0000</td>\n",
              "</tr>\n",
              "</table>"
            ]
          },
          "metadata": {},
          "execution_count": 25
        }
      ],
      "source": [
        "model_delta_ar_1_i_1_ma_1 = ARIMA(df.delta_prices[1:], order=(1,0,1))\n",
        "results_delta_ar_1_i_1_ma_1 = model_delta_ar_1_i_1_ma_1.fit()\n",
        "results_delta_ar_1_i_1_ma_1.summary()"
      ]
    },
    {
      "cell_type": "code",
      "execution_count": 26,
      "metadata": {
        "colab": {
          "base_uri": "https://localhost:8080/"
        },
        "id": "Vj1QmN2Iq5C6",
        "outputId": "80711e04-4467-45fe-c078-25dab9fd185a"
      },
      "outputs": [
        {
          "output_type": "execute_result",
          "data": {
            "text/plain": [
              "(-32.244093495707475,\n",
              " 0.0,\n",
              " 5,\n",
              " 5014,\n",
              " {'1%': -3.4316548765428174,\n",
              "  '5%': -2.8621166146845334,\n",
              "  '10%': -2.5670769326348926},\n",
              " 54845.96104221891)"
            ]
          },
          "metadata": {},
          "execution_count": 26
        }
      ],
      "source": [
        "sts.adfuller(df.delta_prices[1:])"
      ]
    },
    {
      "cell_type": "code",
      "execution_count": 27,
      "metadata": {
        "colab": {
          "base_uri": "https://localhost:8080/",
          "height": 351
        },
        "id": "GcaNT9Wcq5C6",
        "outputId": "af79b90a-4de2-44a8-d9ef-61c54bf14a87"
      },
      "outputs": [
        {
          "output_type": "execute_result",
          "data": {
            "text/plain": [
              "<class 'statsmodels.iolib.summary.Summary'>\n",
              "\"\"\"\n",
              "                             ARIMA Model Results                              \n",
              "==============================================================================\n",
              "Dep. Variable:        D2.market_value   No. Observations:                 5019\n",
              "Model:                 ARIMA(1, 2, 1)   Log Likelihood              -27614.165\n",
              "Method:                       css-mle   S.D. of innovations             59.274\n",
              "Date:                Sat, 19 Nov 2022   AIC                          55236.331\n",
              "Time:                        02:17:59   BIC                          55262.415\n",
              "Sample:                    01-11-1994   HQIC                         55245.471\n",
              "                         - 04-05-2013                                         \n",
              "=========================================================================================\n",
              "                            coef    std err          z      P>|z|      [0.025      0.975]\n",
              "-----------------------------------------------------------------------------------------\n",
              "const                    -0.0001      0.001     -0.200      0.841      -0.001       0.001\n",
              "ar.L1.D2.market_value    -0.0178      0.014     -1.262      0.207      -0.045       0.010\n",
              "ma.L1.D2.market_value    -0.9999      0.001  -1690.414      0.000      -1.001      -0.999\n",
              "                                    Roots                                    \n",
              "=============================================================================\n",
              "                  Real          Imaginary           Modulus         Frequency\n",
              "-----------------------------------------------------------------------------\n",
              "AR.1          -56.1294           +0.0000j           56.1294            0.5000\n",
              "MA.1            1.0001           +0.0000j            1.0001            0.0000\n",
              "-----------------------------------------------------------------------------\n",
              "\"\"\""
            ],
            "text/html": [
              "<table class=\"simpletable\">\n",
              "<caption>ARIMA Model Results</caption>\n",
              "<tr>\n",
              "  <th>Dep. Variable:</th>  <td>D2.market_value</td> <th>  No. Observations:  </th>    <td>5019</td>   \n",
              "</tr>\n",
              "<tr>\n",
              "  <th>Model:</th>          <td>ARIMA(1, 2, 1)</td>  <th>  Log Likelihood     </th> <td>-27614.165</td>\n",
              "</tr>\n",
              "<tr>\n",
              "  <th>Method:</th>             <td>css-mle</td>     <th>  S.D. of innovations</th>   <td>59.274</td>  \n",
              "</tr>\n",
              "<tr>\n",
              "  <th>Date:</th>          <td>Sat, 19 Nov 2022</td> <th>  AIC                </th>  <td>55236.331</td>\n",
              "</tr>\n",
              "<tr>\n",
              "  <th>Time:</th>              <td>02:17:59</td>     <th>  BIC                </th>  <td>55262.415</td>\n",
              "</tr>\n",
              "<tr>\n",
              "  <th>Sample:</th>           <td>01-11-1994</td>    <th>  HQIC               </th>  <td>55245.471</td>\n",
              "</tr>\n",
              "<tr>\n",
              "  <th></th>                 <td>- 04-05-2013</td>   <th>                     </th>      <td> </td>    \n",
              "</tr>\n",
              "</table>\n",
              "<table class=\"simpletable\">\n",
              "<tr>\n",
              "            <td></td>               <th>coef</th>     <th>std err</th>      <th>z</th>      <th>P>|z|</th>  <th>[0.025</th>    <th>0.975]</th>  \n",
              "</tr>\n",
              "<tr>\n",
              "  <th>const</th>                 <td>   -0.0001</td> <td>    0.001</td> <td>   -0.200</td> <td> 0.841</td> <td>   -0.001</td> <td>    0.001</td>\n",
              "</tr>\n",
              "<tr>\n",
              "  <th>ar.L1.D2.market_value</th> <td>   -0.0178</td> <td>    0.014</td> <td>   -1.262</td> <td> 0.207</td> <td>   -0.045</td> <td>    0.010</td>\n",
              "</tr>\n",
              "<tr>\n",
              "  <th>ma.L1.D2.market_value</th> <td>   -0.9999</td> <td>    0.001</td> <td>-1690.414</td> <td> 0.000</td> <td>   -1.001</td> <td>   -0.999</td>\n",
              "</tr>\n",
              "</table>\n",
              "<table class=\"simpletable\">\n",
              "<caption>Roots</caption>\n",
              "<tr>\n",
              "    <td></td>   <th>            Real</th>  <th>         Imaginary</th> <th>         Modulus</th>  <th>        Frequency</th>\n",
              "</tr>\n",
              "<tr>\n",
              "  <th>AR.1</th> <td>         -56.1294</td> <td>          +0.0000j</td> <td>          56.1294</td> <td>           0.5000</td>\n",
              "</tr>\n",
              "<tr>\n",
              "  <th>MA.1</th> <td>           1.0001</td> <td>          +0.0000j</td> <td>           1.0001</td> <td>           0.0000</td>\n",
              "</tr>\n",
              "</table>"
            ]
          },
          "metadata": {},
          "execution_count": 27
        }
      ],
      "source": [
        "model_ar_1_i_2_ma_1 = ARIMA(df.market_value, order=(1,2,1))\n",
        "results_ar_1_i_2_ma_1 = model_ar_1_i_2_ma_1.fit(start_ar_lags=10)\n",
        "results_ar_1_i_2_ma_1.summary()"
      ]
    },
    {
      "cell_type": "code",
      "execution_count": 28,
      "metadata": {
        "colab": {
          "base_uri": "https://localhost:8080/",
          "height": 289
        },
        "id": "QfcsM4Uxq5C7",
        "outputId": "b16697dd-9a5e-4e7d-b460-21841b152fab"
      },
      "outputs": [
        {
          "output_type": "display_data",
          "data": {
            "text/plain": [
              "<Figure size 432x288 with 1 Axes>"
            ],
            "image/png": "[encoded data removed]"
          },
          "metadata": {}
        }
      ],
      "source": [
        "df['res_ar_1_i_2_ma_1'] = results_ar_1_i_2_ma_1.resid.iloc[:]\n",
        "sgt.plot_acf(df.res_ar_1_i_2_ma_1[2:], zero = False, lags = 40)\n",
        "plt.title(\"ACF Of Residuals for ARIMA(1,2,1)\",size=20)\n",
        "plt.show()"
      ]
    },
    {
      "cell_type": "markdown",
      "metadata": {
        "id": "2VIP5SGJq5C7"
      },
      "source": [
        "## ARIMAX "
      ]
    },
    {
      "cell_type": "code",
      "execution_count": 29,
      "metadata": {
        "colab": {
          "base_uri": "https://localhost:8080/",
          "height": 372
        },
        "id": "7pevQ7pzq5C7",
        "outputId": "a4d9c05b-c358-49e5-a1cd-cb6149c95d43"
      },
      "outputs": [
        {
          "output_type": "execute_result",
          "data": {
            "text/plain": [
              "<class 'statsmodels.iolib.summary.Summary'>\n",
              "\"\"\"\n",
              "                             ARIMA Model Results                              \n",
              "==============================================================================\n",
              "Dep. Variable:         D.market_value   No. Observations:                 5020\n",
              "Model:                 ARIMA(1, 1, 1)   Log Likelihood              -27603.556\n",
              "Method:                       css-mle   S.D. of innovations             59.132\n",
              "Date:                Sat, 19 Nov 2022   AIC                          55217.112\n",
              "Time:                        02:18:02   BIC                          55249.718\n",
              "Sample:                    01-10-1994   HQIC                         55228.538\n",
              "                         - 04-05-2013                                         \n",
              "========================================================================================\n",
              "                           coef    std err          z      P>|z|      [0.025      0.975]\n",
              "----------------------------------------------------------------------------------------\n",
              "const                   -0.5874      2.655     -0.221      0.825      -5.790       4.616\n",
              "spx                      0.0011      0.002      0.451      0.652      -0.004       0.006\n",
              "ar.L1.D.market_value     0.7463      0.070     10.602      0.000       0.608       0.884\n",
              "ma.L1.D.market_value    -0.7923      0.064    -12.305      0.000      -0.918      -0.666\n",
              "                                    Roots                                    \n",
              "=============================================================================\n",
              "                  Real          Imaginary           Modulus         Frequency\n",
              "-----------------------------------------------------------------------------\n",
              "AR.1            1.3400           +0.0000j            1.3400            0.0000\n",
              "MA.1            1.2622           +0.0000j            1.2622            0.0000\n",
              "-----------------------------------------------------------------------------\n",
              "\"\"\""
            ],
            "text/html": [
              "<table class=\"simpletable\">\n",
              "<caption>ARIMA Model Results</caption>\n",
              "<tr>\n",
              "  <th>Dep. Variable:</th>  <td>D.market_value</td>  <th>  No. Observations:  </th>    <td>5020</td>   \n",
              "</tr>\n",
              "<tr>\n",
              "  <th>Model:</th>          <td>ARIMA(1, 1, 1)</td>  <th>  Log Likelihood     </th> <td>-27603.556</td>\n",
              "</tr>\n",
              "<tr>\n",
              "  <th>Method:</th>             <td>css-mle</td>     <th>  S.D. of innovations</th>   <td>59.132</td>  \n",
              "</tr>\n",
              "<tr>\n",
              "  <th>Date:</th>          <td>Sat, 19 Nov 2022</td> <th>  AIC                </th>  <td>55217.112</td>\n",
              "</tr>\n",
              "<tr>\n",
              "  <th>Time:</th>              <td>02:18:02</td>     <th>  BIC                </th>  <td>55249.718</td>\n",
              "</tr>\n",
              "<tr>\n",
              "  <th>Sample:</th>           <td>01-10-1994</td>    <th>  HQIC               </th>  <td>55228.538</td>\n",
              "</tr>\n",
              "<tr>\n",
              "  <th></th>                 <td>- 04-05-2013</td>   <th>                     </th>      <td> </td>    \n",
              "</tr>\n",
              "</table>\n",
              "<table class=\"simpletable\">\n",
              "<tr>\n",
              "            <td></td>              <th>coef</th>     <th>std err</th>      <th>z</th>      <th>P>|z|</th>  <th>[0.025</th>    <th>0.975]</th>  \n",
              "</tr>\n",
              "<tr>\n",
              "  <th>const</th>                <td>   -0.5874</td> <td>    2.655</td> <td>   -0.221</td> <td> 0.825</td> <td>   -5.790</td> <td>    4.616</td>\n",
              "</tr>\n",
              "<tr>\n",
              "  <th>spx</th>                  <td>    0.0011</td> <td>    0.002</td> <td>    0.451</td> <td> 0.652</td> <td>   -0.004</td> <td>    0.006</td>\n",
              "</tr>\n",
              "<tr>\n",
              "  <th>ar.L1.D.market_value</th> <td>    0.7463</td> <td>    0.070</td> <td>   10.602</td> <td> 0.000</td> <td>    0.608</td> <td>    0.884</td>\n",
              "</tr>\n",
              "<tr>\n",
              "  <th>ma.L1.D.market_value</th> <td>   -0.7923</td> <td>    0.064</td> <td>  -12.305</td> <td> 0.000</td> <td>   -0.918</td> <td>   -0.666</td>\n",
              "</tr>\n",
              "</table>\n",
              "<table class=\"simpletable\">\n",
              "<caption>Roots</caption>\n",
              "<tr>\n",
              "    <td></td>   <th>            Real</th>  <th>         Imaginary</th> <th>         Modulus</th>  <th>        Frequency</th>\n",
              "</tr>\n",
              "<tr>\n",
              "  <th>AR.1</th> <td>           1.3400</td> <td>          +0.0000j</td> <td>           1.3400</td> <td>           0.0000</td>\n",
              "</tr>\n",
              "<tr>\n",
              "  <th>MA.1</th> <td>           1.2622</td> <td>          +0.0000j</td> <td>           1.2622</td> <td>           0.0000</td>\n",
              "</tr>\n",
              "</table>"
            ]
          },
          "metadata": {},
          "execution_count": 29
        }
      ],
      "source": [
        "model_ar_1_i_1_ma_1_Xspx = ARIMA(df.market_value, exog = df.spx, order=(1,1,1))\n",
        "results_ar_1_i_1_ma_1_Xspx = model_ar_1_i_1_ma_1_Xspx.fit()\n",
        "results_ar_1_i_1_ma_1_Xspx.summary()"
      ]
    },
    {
      "cell_type": "markdown",
      "source": [
        "# SARIMX"
      ],
      "metadata": {
        "id": "XkThHQxEr2br"
      }
    },
    {
      "cell_type": "code",
      "source": [
        "from statsmodels.tsa.statespace.sarimax import SARIMAX"
      ],
      "metadata": {
        "id": "BaNNKC9mr08F"
      },
      "execution_count": 30,
      "outputs": []
    },
    {
      "cell_type": "code",
      "source": [
        "model_sarimax = SARIMAX(df.market_value, exog = df.spx, order=(1,0,1),seasonal_order=(2,0,1,5))\n",
        "model_sarimax = model_sarimax.fit()\n",
        "model_sarimax.summary()"
      ],
      "metadata": {
        "colab": {
          "base_uri": "https://localhost:8080/",
          "height": 507
        },
        "id": "Fgz0aZwisKo7",
        "outputId": "df6eb680-1840-433e-b606-2449e37b2e0d"
      },
      "execution_count": 31,
      "outputs": [
        {
          "output_type": "execute_result",
          "data": {
            "text/plain": [
              "<class 'statsmodels.iolib.summary.Summary'>\n",
              "\"\"\"\n",
              "                                     SARIMAX Results                                     \n",
              "=========================================================================================\n",
              "Dep. Variable:                      market_value   No. Observations:                 5021\n",
              "Model:             SARIMAX(1, 0, 1)x(2, 0, 1, 5)   Log Likelihood              -26712.576\n",
              "Date:                           Sat, 19 Nov 2022   AIC                          53439.152\n",
              "Time:                                   02:24:44   BIC                          53484.802\n",
              "Sample:                               01-07-1994   HQIC                         53455.148\n",
              "                                    - 04-05-2013                                         \n",
              "Covariance Type:                             opg                                         \n",
              "==============================================================================\n",
              "                 coef    std err          z      P>|z|      [0.025      0.975]\n",
              "------------------------------------------------------------------------------\n",
              "spx            2.7045      0.034     78.637      0.000       2.637       2.772\n",
              "ar.L1          0.9999      0.000   2671.878      0.000       0.999       1.001\n",
              "ma.L1         -0.3108      0.009    -33.193      0.000      -0.329      -0.292\n",
              "ar.S.L5        0.9653      0.011     88.069      0.000       0.944       0.987\n",
              "ar.S.L10       0.0344      0.010      3.347      0.001       0.014       0.055\n",
              "ma.S.L5       -0.9991      0.006   -153.774      0.000      -1.012      -0.986\n",
              "sigma2      2441.2174     28.239     86.448      0.000    2385.870    2496.565\n",
              "===================================================================================\n",
              "Ljung-Box (L1) (Q):                   1.74   Jarque-Bera (JB):              4200.84\n",
              "Prob(Q):                              0.19   Prob(JB):                         0.00\n",
              "Heteroskedasticity (H):               1.23   Skew:                            -0.52\n",
              "Prob(H) (two-sided):                  0.00   Kurtosis:                         7.36\n",
              "===================================================================================\n",
              "\n",
              "Warnings:\n",
              "[1] Covariance matrix calculated using the outer product of gradients (complex-step).\n",
              "\"\"\""
            ],
            "text/html": [
              "<table class=\"simpletable\">\n",
              "<caption>SARIMAX Results</caption>\n",
              "<tr>\n",
              "  <th>Dep. Variable:</th>           <td>market_value</td>          <th>  No. Observations:  </th>    <td>5021</td>   \n",
              "</tr>\n",
              "<tr>\n",
              "  <th>Model:</th>           <td>SARIMAX(1, 0, 1)x(2, 0, 1, 5)</td> <th>  Log Likelihood     </th> <td>-26712.576</td>\n",
              "</tr>\n",
              "<tr>\n",
              "  <th>Date:</th>                  <td>Sat, 19 Nov 2022</td>        <th>  AIC                </th>  <td>53439.152</td>\n",
              "</tr>\n",
              "<tr>\n",
              "  <th>Time:</th>                      <td>02:24:44</td>            <th>  BIC                </th>  <td>53484.802</td>\n",
              "</tr>\n",
              "<tr>\n",
              "  <th>Sample:</th>                   <td>01-07-1994</td>           <th>  HQIC               </th>  <td>53455.148</td>\n",
              "</tr>\n",
              "<tr>\n",
              "  <th></th>                         <td>- 04-05-2013</td>          <th>                     </th>      <td> </td>    \n",
              "</tr>\n",
              "<tr>\n",
              "  <th>Covariance Type:</th>              <td>opg</td>              <th>                     </th>      <td> </td>    \n",
              "</tr>\n",
              "</table>\n",
              "<table class=\"simpletable\">\n",
              "<tr>\n",
              "      <td></td>        <th>coef</th>     <th>std err</th>      <th>z</th>      <th>P>|z|</th>  <th>[0.025</th>    <th>0.975]</th>  \n",
              "</tr>\n",
              "<tr>\n",
              "  <th>spx</th>      <td>    2.7045</td> <td>    0.034</td> <td>   78.637</td> <td> 0.000</td> <td>    2.637</td> <td>    2.772</td>\n",
              "</tr>\n",
              "<tr>\n",
              "  <th>ar.L1</th>    <td>    0.9999</td> <td>    0.000</td> <td> 2671.878</td> <td> 0.000</td> <td>    0.999</td> <td>    1.001</td>\n",
              "</tr>\n",
              "<tr>\n",
              "  <th>ma.L1</th>    <td>   -0.3108</td> <td>    0.009</td> <td>  -33.193</td> <td> 0.000</td> <td>   -0.329</td> <td>   -0.292</td>\n",
              "</tr>\n",
              "<tr>\n",
              "  <th>ar.S.L5</th>  <td>    0.9653</td> <td>    0.011</td> <td>   88.069</td> <td> 0.000</td> <td>    0.944</td> <td>    0.987</td>\n",
              "</tr>\n",
              "<tr>\n",
              "  <th>ar.S.L10</th> <td>    0.0344</td> <td>    0.010</td> <td>    3.347</td> <td> 0.001</td> <td>    0.014</td> <td>    0.055</td>\n",
              "</tr>\n",
              "<tr>\n",
              "  <th>ma.S.L5</th>  <td>   -0.9991</td> <td>    0.006</td> <td> -153.774</td> <td> 0.000</td> <td>   -1.012</td> <td>   -0.986</td>\n",
              "</tr>\n",
              "<tr>\n",
              "  <th>sigma2</th>   <td> 2441.2174</td> <td>   28.239</td> <td>   86.448</td> <td> 0.000</td> <td> 2385.870</td> <td> 2496.565</td>\n",
              "</tr>\n",
              "</table>\n",
              "<table class=\"simpletable\">\n",
              "<tr>\n",
              "  <th>Ljung-Box (L1) (Q):</th>     <td>1.74</td> <th>  Jarque-Bera (JB):  </th> <td>4200.84</td>\n",
              "</tr>\n",
              "<tr>\n",
              "  <th>Prob(Q):</th>                <td>0.19</td> <th>  Prob(JB):          </th>  <td>0.00</td>  \n",
              "</tr>\n",
              "<tr>\n",
              "  <th>Heteroskedasticity (H):</th> <td>1.23</td> <th>  Skew:              </th>  <td>-0.52</td> \n",
              "</tr>\n",
              "<tr>\n",
              "  <th>Prob(H) (two-sided):</th>    <td>0.00</td> <th>  Kurtosis:          </th>  <td>7.36</td>  \n",
              "</tr>\n",
              "</table><br/><br/>Warnings:<br/>[1] Covariance matrix calculated using the outer product of gradients (complex-step)."
            ]
          },
          "metadata": {},
          "execution_count": 31
        }
      ]
    },
    {
      "cell_type": "code",
      "source": [],
      "metadata": {
        "id": "h7eBnfn4s3OB"
      },
      "execution_count": null,
      "outputs": []
    },
    {
      "cell_type": "markdown",
      "source": [
        "# QUIZES\n",
        "1. What are an ARIMA (1,0,2) and an ARIMA (0,0,1) equivalent to?\n",
        "1. An ARMA (1,2) and an MA(1)\n",
        "\n",
        "2. Why does an ARIMA(p,d,q) model estimate the same number of coefficients as an ARMA(p,q) model if the former has a higher  total order?\n",
        "2. Because the order of integration does not affect the number of coefficients we are trying to find.\n",
        "\n",
        "3. Why do we expect the best non-integrated ARMA models for returns would hold the best fits for the AR and MA orders of the ARIMA(p,d,q) for prices?\n",
        "3. Because price returns are a form of weighted integration.\n",
        "\n",
        "4. Why do we NOT need higher levels of integration in this case?\n",
        "4. The purpose of integration is to reach stationarity and we reach it after 1 integration.\n",
        "\n",
        "5. Why don't we use integrated models on stationary data?\n",
        "5. The purpose of integration is to ensure stationarity.\n",
        "This will only needlessly complicate the model.\n",
        "The more we integrate without having to, the more difficult it is to comprehend the values and extract an insight.\n",
        "\n",
        "6. Why are MAX models useful?\n",
        "6. Because they allow us to incorporate outside factors into the model."
      ],
      "metadata": {
        "id": "C7Lh-lHktArf"
      }
    },
    {
      "cell_type": "code",
      "source": [],
      "metadata": {
        "id": "DUh1flt3tjA4"
      },
      "execution_count": null,
      "outputs": []
    }
  ],
  "metadata": {
    "kernelspec": {
      "display_name": "Python 3",
      "language": "python",
      "name": "python3"
    },
    "language_info": {
      "codemirror_mode": {
        "name": "ipython",
        "version": 3
      },
      "file_extension": ".py",
      "mimetype": "text/x-python",
      "name": "python",
      "nbconvert_exporter": "python",
      "pygments_lexer": "ipython3",
      "version": "3.6.7"
    },
    "colab": {
      "provenance": [],
      "include_colab_link": true
    }
  },
  "nbformat": 4,
  "nbformat_minor": 0
}