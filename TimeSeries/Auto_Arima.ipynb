{
  "cells": [
    {
      "cell_type": "markdown",
      "metadata": {
        "id": "view-in-github",
        "colab_type": "text"
      },
      "source": [
        "<a href=\"https://colab.research.google.com/github/abdalrahmenyousifMohamed/ML/blob/main/TimeSeries/Auto_Arima.ipynb\" target=\"_parent\"><img src=\"https://colab.research.google.com/assets/colab-badge.svg\" alt=\"Open In Colab\"/></a>"
      ]
    },
    {
      "cell_type": "markdown",
      "metadata": {
        "id": "9zAeATT2GYcb"
      },
      "source": [
        "### Packages"
      ]
    },
    {
      "cell_type": "code",
      "source": [
        "! pip install  yfinance"
      ],
      "metadata": {
        "colab": {
          "base_uri": "https://localhost:8080/"
        },
        "id": "0GTdw9GPGnPD",
        "outputId": "76206485-fbc0-4cc5-a3c4-ed1fe93ac07a"
      },
      "execution_count": 2,
      "outputs": [
        {
          "output_type": "stream",
          "name": "stdout",
          "text": [
            "Looking in indexes: https://pypi.org/simple, https://us-python.pkg.dev/colab-wheels/public/simple/\n",
            "Requirement already satisfied: yfinance in /usr/local/lib/python3.7/dist-packages (0.1.87)\n",
            "Requirement already satisfied: requests>=2.26 in /usr/local/lib/python3.7/dist-packages (from yfinance) (2.28.1)\n",
            "Requirement already satisfied: appdirs>=1.4.4 in /usr/local/lib/python3.7/dist-packages (from yfinance) (1.4.4)\n",
            "Requirement already satisfied: multitasking>=0.0.7 in /usr/local/lib/python3.7/dist-packages (from yfinance) (0.0.11)\n",
            "Requirement already satisfied: numpy>=1.15 in /usr/local/lib/python3.7/dist-packages (from yfinance) (1.21.6)\n",
            "Requirement already satisfied: pandas>=0.24.0 in /usr/local/lib/python3.7/dist-packages (from yfinance) (1.3.5)\n",
            "Requirement already satisfied: lxml>=4.5.1 in /usr/local/lib/python3.7/dist-packages (from yfinance) (4.9.1)\n",
            "Requirement already satisfied: python-dateutil>=2.7.3 in /usr/local/lib/python3.7/dist-packages (from pandas>=0.24.0->yfinance) (2.8.2)\n",
            "Requirement already satisfied: pytz>=2017.3 in /usr/local/lib/python3.7/dist-packages (from pandas>=0.24.0->yfinance) (2022.6)\n",
            "Requirement already satisfied: six>=1.5 in /usr/local/lib/python3.7/dist-packages (from python-dateutil>=2.7.3->pandas>=0.24.0->yfinance) (1.15.0)\n",
            "Requirement already satisfied: idna<4,>=2.5 in /usr/local/lib/python3.7/dist-packages (from requests>=2.26->yfinance) (2.10)\n",
            "Requirement already satisfied: charset-normalizer<3,>=2 in /usr/local/lib/python3.7/dist-packages (from requests>=2.26->yfinance) (2.1.1)\n",
            "Requirement already satisfied: urllib3<1.27,>=1.21.1 in /usr/local/lib/python3.7/dist-packages (from requests>=2.26->yfinance) (1.24.3)\n",
            "Requirement already satisfied: certifi>=2017.4.17 in /usr/local/lib/python3.7/dist-packages (from requests>=2.26->yfinance) (2022.9.24)\n"
          ]
        }
      ]
    },
    {
      "cell_type": "code",
      "execution_count": 3,
      "metadata": {
        "id": "_MjPy0btGYce"
      },
      "outputs": [],
      "source": [
        "import numpy as np\n",
        "import pandas as pd\n",
        "import scipy\n",
        "import statsmodels.api as sm\n",
        "import matplotlib.pyplot as plt\n",
        "import seaborn as sns\n",
        "import sklearn\n",
        "from statsmodels.tsa.arima_model import ARIMA\n",
        "from arch import arch_model\n",
        "import seaborn as sns\n",
        "import yfinance\n",
        "import warnings\n",
        "warnings.filterwarnings(\"ignore\")\n",
        "sns.set()"
      ]
    },
    {
      "cell_type": "markdown",
      "metadata": {
        "id": "IVcM2r1_GYcg"
      },
      "source": [
        "### Loading the data"
      ]
    },
    {
      "cell_type": "code",
      "execution_count": 4,
      "metadata": {
        "colab": {
          "base_uri": "https://localhost:8080/"
        },
        "id": "xaqQdm9aGYcg",
        "outputId": "d0071aa7-5e7c-4e5a-fc39-6967e55369fe"
      },
      "outputs": [
        {
          "output_type": "stream",
          "name": "stdout",
          "text": [
            "[*********************100%***********************]  4 of 4 completed\n"
          ]
        }
      ],
      "source": [
        "raw_data = yfinance.download (tickers = \"^GSPC ^FTSE ^N225 ^GDAXI\", start = \"1994-01-07\", end = \"2018-01-29\", \n",
        "                              interval = \"1d\", group_by = 'ticker', auto_adjust = True, treads = True)"
      ]
    },
    {
      "cell_type": "code",
      "execution_count": 5,
      "metadata": {
        "id": "CltHeJzIGYch"
      },
      "outputs": [],
      "source": [
        "df_comp = raw_data.copy()"
      ]
    },
    {
      "cell_type": "code",
      "execution_count": 6,
      "metadata": {
        "id": "0dh-yEZpGYch"
      },
      "outputs": [],
      "source": [
        "df_comp['spx'] = df_comp['^GSPC'].Close[:]\n",
        "df_comp['dax'] = df_comp['^GDAXI'].Close[:]\n",
        "df_comp['ftse'] = df_comp['^FTSE'].Close[:]\n",
        "df_comp['nikkei'] = df_comp['^N225'].Close[:]"
      ]
    },
    {
      "cell_type": "code",
      "execution_count": 7,
      "metadata": {
        "scrolled": true,
        "id": "iXHddD9CGYch"
      },
      "outputs": [],
      "source": [
        "df_comp = df_comp.iloc[1:]\n",
        "del df_comp['^N225']\n",
        "del df_comp['^GSPC']\n",
        "del df_comp['^GDAXI']\n",
        "del df_comp['^FTSE']\n",
        "df_comp=df_comp.asfreq('b')\n",
        "df_comp=df_comp.fillna(method='ffill')"
      ]
    },
    {
      "cell_type": "markdown",
      "metadata": {
        "id": "la5lzXblGYci"
      },
      "source": [
        "### Creating Returns"
      ]
    },
    {
      "cell_type": "code",
      "execution_count": 8,
      "metadata": {
        "id": "nOgVG29QGYci"
      },
      "outputs": [],
      "source": [
        "df_comp['ret_spx'] = df_comp.spx.pct_change(1)*100\n",
        "df_comp['ret_ftse'] = df_comp.ftse.pct_change(1)*100\n",
        "df_comp['ret_dax'] = df_comp.dax.pct_change(1)*100\n",
        "df_comp['ret_nikkei'] = df_comp.nikkei.pct_change(1)*100"
      ]
    },
    {
      "cell_type": "markdown",
      "metadata": {
        "id": "lt1nDhEFGYci"
      },
      "source": [
        "### Splitting the Data"
      ]
    },
    {
      "cell_type": "code",
      "execution_count": 9,
      "metadata": {
        "id": "Jf2uOTH0GYcj"
      },
      "outputs": [],
      "source": [
        "size = int(len(df_comp)*0.8)\n",
        "df, df_test = df_comp.iloc[:size], df_comp.iloc[size:]"
      ]
    },
    {
      "cell_type": "markdown",
      "metadata": {
        "id": "uYgGhUn4GYcj"
      },
      "source": [
        "### Fitting a Model"
      ]
    },
    {
      "cell_type": "code",
      "source": [
        "! pip install pmdarima"
      ],
      "metadata": {
        "colab": {
          "base_uri": "https://localhost:8080/",
          "height": 599
        },
        "id": "R2MFCQrhHC2l",
        "outputId": "5a803c9d-5d7e-4200-9712-b77d0aea533a"
      },
      "execution_count": 11,
      "outputs": [
        {
          "output_type": "stream",
          "name": "stdout",
          "text": [
            "Looking in indexes: https://pypi.org/simple, https://us-python.pkg.dev/colab-wheels/public/simple/\n",
            "Collecting pmdarima\n",
            "  Downloading pmdarima-2.0.1-cp37-cp37m-manylinux_2_17_x86_64.manylinux2014_x86_64.manylinux_2_28_x86_64.whl (1.8 MB)\n",
            "\u001b[K     |████████████████████████████████| 1.8 MB 5.1 MB/s \n",
            "\u001b[?25hCollecting statsmodels>=0.13.2\n",
            "  Downloading statsmodels-0.13.5-cp37-cp37m-manylinux_2_17_x86_64.manylinux2014_x86_64.whl (9.9 MB)\n",
            "\u001b[K     |████████████████████████████████| 9.9 MB 44.9 MB/s \n",
            "\u001b[?25hRequirement already satisfied: pandas>=0.19 in /usr/local/lib/python3.7/dist-packages (from pmdarima) (1.3.5)\n",
            "Requirement already satisfied: joblib>=0.11 in /usr/local/lib/python3.7/dist-packages (from pmdarima) (1.2.0)\n",
            "Requirement already satisfied: numpy>=1.21 in /usr/local/lib/python3.7/dist-packages (from pmdarima) (1.21.6)\n",
            "Requirement already satisfied: urllib3 in /usr/local/lib/python3.7/dist-packages (from pmdarima) (1.24.3)\n",
            "Requirement already satisfied: setuptools!=50.0.0,>=38.6.0 in /usr/local/lib/python3.7/dist-packages (from pmdarima) (57.4.0)\n",
            "Requirement already satisfied: Cython!=0.29.18,!=0.29.31,>=0.29 in /usr/local/lib/python3.7/dist-packages (from pmdarima) (0.29.32)\n",
            "Requirement already satisfied: scipy>=1.3.2 in /usr/local/lib/python3.7/dist-packages (from pmdarima) (1.7.3)\n",
            "Requirement already satisfied: scikit-learn>=0.22 in /usr/local/lib/python3.7/dist-packages (from pmdarima) (1.0.2)\n",
            "Requirement already satisfied: python-dateutil>=2.7.3 in /usr/local/lib/python3.7/dist-packages (from pandas>=0.19->pmdarima) (2.8.2)\n",
            "Requirement already satisfied: pytz>=2017.3 in /usr/local/lib/python3.7/dist-packages (from pandas>=0.19->pmdarima) (2022.6)\n",
            "Requirement already satisfied: six>=1.5 in /usr/local/lib/python3.7/dist-packages (from python-dateutil>=2.7.3->pandas>=0.19->pmdarima) (1.15.0)\n",
            "Requirement already satisfied: threadpoolctl>=2.0.0 in /usr/local/lib/python3.7/dist-packages (from scikit-learn>=0.22->pmdarima) (3.1.0)\n",
            "Requirement already satisfied: packaging>=21.3 in /usr/local/lib/python3.7/dist-packages (from statsmodels>=0.13.2->pmdarima) (21.3)\n",
            "Requirement already satisfied: patsy>=0.5.2 in /usr/local/lib/python3.7/dist-packages (from statsmodels>=0.13.2->pmdarima) (0.5.3)\n",
            "Requirement already satisfied: pyparsing!=3.0.5,>=2.0.2 in /usr/local/lib/python3.7/dist-packages (from packaging>=21.3->statsmodels>=0.13.2->pmdarima) (3.0.9)\n",
            "Installing collected packages: statsmodels, pmdarima\n",
            "  Attempting uninstall: statsmodels\n",
            "    Found existing installation: statsmodels 0.12.2\n",
            "    Uninstalling statsmodels-0.12.2:\n",
            "      Successfully uninstalled statsmodels-0.12.2\n",
            "Successfully installed pmdarima-2.0.1 statsmodels-0.13.5\n"
          ]
        },
        {
          "output_type": "display_data",
          "data": {
            "application/vnd.colab-display-data+json": {
              "pip_warning": {
                "packages": [
                  "statsmodels"
                ]
              }
            }
          },
          "metadata": {}
        }
      ]
    },
    {
      "cell_type": "code",
      "execution_count": 12,
      "metadata": {
        "id": "yFgR4IN8GYcj"
      },
      "outputs": [],
      "source": [
        "from pmdarima.arima import auto_arima"
      ]
    },
    {
      "cell_type": "code",
      "execution_count": 13,
      "metadata": {
        "id": "2nRTJIJkGYcj"
      },
      "outputs": [],
      "source": [
        "model_auto = auto_arima(df.ret_ftse[1:])"
      ]
    },
    {
      "cell_type": "code",
      "execution_count": 14,
      "metadata": {
        "colab": {
          "base_uri": "https://localhost:8080/"
        },
        "id": "KIySfWRvGYck",
        "outputId": "8f2e721e-82b9-4471-832a-cc5a8760101c"
      },
      "outputs": [
        {
          "output_type": "execute_result",
          "data": {
            "text/plain": [
              "ARIMA(order=(4, 0, 5), scoring_args={}, suppress_warnings=True,\n",
              "      with_intercept=False)"
            ]
          },
          "metadata": {},
          "execution_count": 14
        }
      ],
      "source": [
        "model_auto"
      ]
    },
    {
      "cell_type": "code",
      "execution_count": 15,
      "metadata": {
        "colab": {
          "base_uri": "https://localhost:8080/",
          "height": 570
        },
        "id": "yfIFxmhxGYck",
        "outputId": "9fbf9e2c-e883-43ea-d812-14e459279270"
      },
      "outputs": [
        {
          "output_type": "execute_result",
          "data": {
            "text/plain": [
              "<class 'statsmodels.iolib.summary.Summary'>\n",
              "\"\"\"\n",
              "                               SARIMAX Results                                \n",
              "==============================================================================\n",
              "Dep. Variable:                      y   No. Observations:                 5019\n",
              "Model:               SARIMAX(4, 0, 5)   Log Likelihood               -7882.776\n",
              "Date:                Mon, 21 Nov 2022   AIC                          15785.552\n",
              "Time:                        02:59:31   BIC                          15850.762\n",
              "Sample:                    01-11-1994   HQIC                         15808.403\n",
              "                         - 04-05-2013                                         \n",
              "Covariance Type:                  opg                                         \n",
              "==============================================================================\n",
              "                 coef    std err          z      P>|z|      [0.025      0.975]\n",
              "------------------------------------------------------------------------------\n",
              "ar.L1          0.0121      0.082      0.148      0.882      -0.148       0.172\n",
              "ar.L2         -0.6541      0.077     -8.456      0.000      -0.806      -0.503\n",
              "ar.L3         -0.1627      0.071     -2.289      0.022      -0.302      -0.023\n",
              "ar.L4          0.2015      0.074      2.714      0.007       0.056       0.347\n",
              "ma.L1         -0.0358      0.081     -0.441      0.659      -0.195       0.123\n",
              "ma.L2          0.6066      0.078      7.767      0.000       0.454       0.760\n",
              "ma.L3          0.0621      0.068      0.907      0.364      -0.072       0.196\n",
              "ma.L4         -0.1935      0.073     -2.652      0.008      -0.337      -0.050\n",
              "ma.L5         -0.1052      0.010    -11.066      0.000      -0.124      -0.087\n",
              "sigma2         1.3542      0.015     91.442      0.000       1.325       1.383\n",
              "===================================================================================\n",
              "Ljung-Box (L1) (Q):                   0.00   Jarque-Bera (JB):              6354.72\n",
              "Prob(Q):                              0.96   Prob(JB):                         0.00\n",
              "Heteroskedasticity (H):               1.99   Skew:                            -0.20\n",
              "Prob(H) (two-sided):                  0.00   Kurtosis:                         8.50\n",
              "===================================================================================\n",
              "\n",
              "Warnings:\n",
              "[1] Covariance matrix calculated using the outer product of gradients (complex-step).\n",
              "\"\"\""
            ],
            "text/html": [
              "<table class=\"simpletable\">\n",
              "<caption>SARIMAX Results</caption>\n",
              "<tr>\n",
              "  <th>Dep. Variable:</th>           <td>y</td>        <th>  No. Observations:  </th>   <td>5019</td>   \n",
              "</tr>\n",
              "<tr>\n",
              "  <th>Model:</th>           <td>SARIMAX(4, 0, 5)</td> <th>  Log Likelihood     </th> <td>-7882.776</td>\n",
              "</tr>\n",
              "<tr>\n",
              "  <th>Date:</th>            <td>Mon, 21 Nov 2022</td> <th>  AIC                </th> <td>15785.552</td>\n",
              "</tr>\n",
              "<tr>\n",
              "  <th>Time:</th>                <td>02:59:31</td>     <th>  BIC                </th> <td>15850.762</td>\n",
              "</tr>\n",
              "<tr>\n",
              "  <th>Sample:</th>             <td>01-11-1994</td>    <th>  HQIC               </th> <td>15808.403</td>\n",
              "</tr>\n",
              "<tr>\n",
              "  <th></th>                   <td>- 04-05-2013</td>   <th>                     </th>     <td> </td>    \n",
              "</tr>\n",
              "<tr>\n",
              "  <th>Covariance Type:</th>        <td>opg</td>       <th>                     </th>     <td> </td>    \n",
              "</tr>\n",
              "</table>\n",
              "<table class=\"simpletable\">\n",
              "<tr>\n",
              "     <td></td>       <th>coef</th>     <th>std err</th>      <th>z</th>      <th>P>|z|</th>  <th>[0.025</th>    <th>0.975]</th>  \n",
              "</tr>\n",
              "<tr>\n",
              "  <th>ar.L1</th>  <td>    0.0121</td> <td>    0.082</td> <td>    0.148</td> <td> 0.882</td> <td>   -0.148</td> <td>    0.172</td>\n",
              "</tr>\n",
              "<tr>\n",
              "  <th>ar.L2</th>  <td>   -0.6541</td> <td>    0.077</td> <td>   -8.456</td> <td> 0.000</td> <td>   -0.806</td> <td>   -0.503</td>\n",
              "</tr>\n",
              "<tr>\n",
              "  <th>ar.L3</th>  <td>   -0.1627</td> <td>    0.071</td> <td>   -2.289</td> <td> 0.022</td> <td>   -0.302</td> <td>   -0.023</td>\n",
              "</tr>\n",
              "<tr>\n",
              "  <th>ar.L4</th>  <td>    0.2015</td> <td>    0.074</td> <td>    2.714</td> <td> 0.007</td> <td>    0.056</td> <td>    0.347</td>\n",
              "</tr>\n",
              "<tr>\n",
              "  <th>ma.L1</th>  <td>   -0.0358</td> <td>    0.081</td> <td>   -0.441</td> <td> 0.659</td> <td>   -0.195</td> <td>    0.123</td>\n",
              "</tr>\n",
              "<tr>\n",
              "  <th>ma.L2</th>  <td>    0.6066</td> <td>    0.078</td> <td>    7.767</td> <td> 0.000</td> <td>    0.454</td> <td>    0.760</td>\n",
              "</tr>\n",
              "<tr>\n",
              "  <th>ma.L3</th>  <td>    0.0621</td> <td>    0.068</td> <td>    0.907</td> <td> 0.364</td> <td>   -0.072</td> <td>    0.196</td>\n",
              "</tr>\n",
              "<tr>\n",
              "  <th>ma.L4</th>  <td>   -0.1935</td> <td>    0.073</td> <td>   -2.652</td> <td> 0.008</td> <td>   -0.337</td> <td>   -0.050</td>\n",
              "</tr>\n",
              "<tr>\n",
              "  <th>ma.L5</th>  <td>   -0.1052</td> <td>    0.010</td> <td>  -11.066</td> <td> 0.000</td> <td>   -0.124</td> <td>   -0.087</td>\n",
              "</tr>\n",
              "<tr>\n",
              "  <th>sigma2</th> <td>    1.3542</td> <td>    0.015</td> <td>   91.442</td> <td> 0.000</td> <td>    1.325</td> <td>    1.383</td>\n",
              "</tr>\n",
              "</table>\n",
              "<table class=\"simpletable\">\n",
              "<tr>\n",
              "  <th>Ljung-Box (L1) (Q):</th>     <td>0.00</td> <th>  Jarque-Bera (JB):  </th> <td>6354.72</td>\n",
              "</tr>\n",
              "<tr>\n",
              "  <th>Prob(Q):</th>                <td>0.96</td> <th>  Prob(JB):          </th>  <td>0.00</td>  \n",
              "</tr>\n",
              "<tr>\n",
              "  <th>Heteroskedasticity (H):</th> <td>1.99</td> <th>  Skew:              </th>  <td>-0.20</td> \n",
              "</tr>\n",
              "<tr>\n",
              "  <th>Prob(H) (two-sided):</th>    <td>0.00</td> <th>  Kurtosis:          </th>  <td>8.50</td>  \n",
              "</tr>\n",
              "</table><br/><br/>Warnings:<br/>[1] Covariance matrix calculated using the outer product of gradients (complex-step)."
            ]
          },
          "metadata": {},
          "execution_count": 15
        }
      ],
      "source": [
        "model_auto.summary()"
      ]
    },
    {
      "cell_type": "markdown",
      "metadata": {
        "id": "-bYo_l2IGYcl"
      },
      "source": [
        "### Important Arguments"
      ]
    },
    {
      "cell_type": "code",
      "execution_count": 16,
      "metadata": {
        "scrolled": true,
        "id": "6w9Kcpe6GYcl"
      },
      "outputs": [],
      "source": [
        "model_auto = auto_arima(df_comp.ret_ftse[1:], exogenous = df_comp[['ret_spx', 'ret_dax', 'ret_nikkei']][1:], m = 5,\n",
        "                       max_order = None, max_p = 7, max_q = 7, max_d = 2, max_P = 4, max_Q = 4, max_D = 2,\n",
        "                       maxiter = 50, alpha = 0.05, n_jobs = -1, trend = 'ct', information_criterion = 'oob',\n",
        "                       out_of_sample = int(len(df_comp)*0.2))\n",
        "\n",
        "\n",
        "# !!! Important Note: In pdmarima v1.5.2, out_of_sample_size is replaced with out_of_sample, so make sure to use the latter!\n",
        "\n",
        "\n",
        "# exogenous -> outside factors (e.g other time series)\n",
        "# m -> seasonal cycle length\n",
        "# max_order -> maximum amount of variables to be used in the regression (p + q)\n",
        "# max_p -> maximum AR components\n",
        "# max_q -> maximum MA components\n",
        "# max_d -> maximum Integrations\n",
        "# maxiter -> maximum iterations we're giving the model to converge the coefficients (becomes harder as the order increases)\n",
        "# alpha -> level of significance, default is 5%, which we should be using most of the time\n",
        "# n_jobs -> how many models to fit at a time (-1 indicates \"as many as possible\")\n",
        "# trend -> \"ct\" usually\n",
        "# information_criterion -> 'aic', 'aicc', 'bic', 'hqic', 'oob' \n",
        "#        (Akaike Information Criterion, Corrected Akaike Information Criterion,\n",
        "#        Bayesian Information Criterion, Hannan-Quinn Information Criterion, or\n",
        "#        \"out of bag\"--for validation scoring--respectively)\n",
        "# out_of_smaple -> validates the model selection (pass the entire dataset, and set 20% to be the out_of_sample_size)"
      ]
    },
    {
      "cell_type": "code",
      "execution_count": 17,
      "metadata": {
        "colab": {
          "base_uri": "https://localhost:8080/",
          "height": 528
        },
        "id": "Cy2XJXfRGYcl",
        "outputId": "6617d5ad-202f-462f-d056-8b8746899347"
      },
      "outputs": [
        {
          "output_type": "execute_result",
          "data": {
            "text/plain": [
              "<class 'statsmodels.iolib.summary.Summary'>\n",
              "\"\"\"\n",
              "                                      SARIMAX Results                                      \n",
              "===========================================================================================\n",
              "Dep. Variable:                                   y   No. Observations:                 6274\n",
              "Model:             SARIMAX(0, 0, 4)x(0, 0, [1], 5)   Log Likelihood               -9560.337\n",
              "Date:                             Mon, 21 Nov 2022   AIC                          19136.673\n",
              "Time:                                     03:08:46   BIC                          19190.627\n",
              "Sample:                                 01-11-1994   HQIC                         19155.368\n",
              "                                      - 01-26-2018                                         \n",
              "Covariance Type:                               opg                                         \n",
              "==============================================================================\n",
              "                 coef    std err          z      P>|z|      [0.025      0.975]\n",
              "------------------------------------------------------------------------------\n",
              "intercept      0.0246      0.028      0.884      0.377      -0.030       0.079\n",
              "drift      -2.025e-06   7.91e-06     -0.256      0.798   -1.75e-05    1.35e-05\n",
              "ma.L1         -0.0201      0.008     -2.496      0.013      -0.036      -0.004\n",
              "ma.L2         -0.0496      0.007     -6.925      0.000      -0.064      -0.036\n",
              "ma.L3         -0.0694      0.007     -9.724      0.000      -0.083      -0.055\n",
              "ma.L4          0.0333      0.008      4.385      0.000       0.018       0.048\n",
              "ma.S.L5       -0.0513      0.007     -7.261      0.000      -0.065      -0.037\n",
              "sigma2         1.2386      0.012    104.270      0.000       1.215       1.262\n",
              "===================================================================================\n",
              "Ljung-Box (L1) (Q):                   0.00   Jarque-Bera (JB):              8783.36\n",
              "Prob(Q):                              0.98   Prob(JB):                         0.00\n",
              "Heteroskedasticity (H):               0.86   Skew:                            -0.17\n",
              "Prob(H) (two-sided):                  0.00   Kurtosis:                         8.79\n",
              "===================================================================================\n",
              "\n",
              "Warnings:\n",
              "[1] Covariance matrix calculated using the outer product of gradients (complex-step).\n",
              "\"\"\""
            ],
            "text/html": [
              "<table class=\"simpletable\">\n",
              "<caption>SARIMAX Results</caption>\n",
              "<tr>\n",
              "  <th>Dep. Variable:</th>                  <td>y</td>                <th>  No. Observations:  </th>   <td>6274</td>   \n",
              "</tr>\n",
              "<tr>\n",
              "  <th>Model:</th>           <td>SARIMAX(0, 0, 4)x(0, 0, [1], 5)</td> <th>  Log Likelihood     </th> <td>-9560.337</td>\n",
              "</tr>\n",
              "<tr>\n",
              "  <th>Date:</th>                   <td>Mon, 21 Nov 2022</td>         <th>  AIC                </th> <td>19136.673</td>\n",
              "</tr>\n",
              "<tr>\n",
              "  <th>Time:</th>                       <td>03:08:46</td>             <th>  BIC                </th> <td>19190.627</td>\n",
              "</tr>\n",
              "<tr>\n",
              "  <th>Sample:</th>                    <td>01-11-1994</td>            <th>  HQIC               </th> <td>19155.368</td>\n",
              "</tr>\n",
              "<tr>\n",
              "  <th></th>                          <td>- 01-26-2018</td>           <th>                     </th>     <td> </td>    \n",
              "</tr>\n",
              "<tr>\n",
              "  <th>Covariance Type:</th>               <td>opg</td>               <th>                     </th>     <td> </td>    \n",
              "</tr>\n",
              "</table>\n",
              "<table class=\"simpletable\">\n",
              "<tr>\n",
              "      <td></td>         <th>coef</th>     <th>std err</th>      <th>z</th>      <th>P>|z|</th>  <th>[0.025</th>    <th>0.975]</th>  \n",
              "</tr>\n",
              "<tr>\n",
              "  <th>intercept</th> <td>    0.0246</td> <td>    0.028</td> <td>    0.884</td> <td> 0.377</td> <td>   -0.030</td> <td>    0.079</td>\n",
              "</tr>\n",
              "<tr>\n",
              "  <th>drift</th>     <td>-2.025e-06</td> <td> 7.91e-06</td> <td>   -0.256</td> <td> 0.798</td> <td>-1.75e-05</td> <td> 1.35e-05</td>\n",
              "</tr>\n",
              "<tr>\n",
              "  <th>ma.L1</th>     <td>   -0.0201</td> <td>    0.008</td> <td>   -2.496</td> <td> 0.013</td> <td>   -0.036</td> <td>   -0.004</td>\n",
              "</tr>\n",
              "<tr>\n",
              "  <th>ma.L2</th>     <td>   -0.0496</td> <td>    0.007</td> <td>   -6.925</td> <td> 0.000</td> <td>   -0.064</td> <td>   -0.036</td>\n",
              "</tr>\n",
              "<tr>\n",
              "  <th>ma.L3</th>     <td>   -0.0694</td> <td>    0.007</td> <td>   -9.724</td> <td> 0.000</td> <td>   -0.083</td> <td>   -0.055</td>\n",
              "</tr>\n",
              "<tr>\n",
              "  <th>ma.L4</th>     <td>    0.0333</td> <td>    0.008</td> <td>    4.385</td> <td> 0.000</td> <td>    0.018</td> <td>    0.048</td>\n",
              "</tr>\n",
              "<tr>\n",
              "  <th>ma.S.L5</th>   <td>   -0.0513</td> <td>    0.007</td> <td>   -7.261</td> <td> 0.000</td> <td>   -0.065</td> <td>   -0.037</td>\n",
              "</tr>\n",
              "<tr>\n",
              "  <th>sigma2</th>    <td>    1.2386</td> <td>    0.012</td> <td>  104.270</td> <td> 0.000</td> <td>    1.215</td> <td>    1.262</td>\n",
              "</tr>\n",
              "</table>\n",
              "<table class=\"simpletable\">\n",
              "<tr>\n",
              "  <th>Ljung-Box (L1) (Q):</th>     <td>0.00</td> <th>  Jarque-Bera (JB):  </th> <td>8783.36</td>\n",
              "</tr>\n",
              "<tr>\n",
              "  <th>Prob(Q):</th>                <td>0.98</td> <th>  Prob(JB):          </th>  <td>0.00</td>  \n",
              "</tr>\n",
              "<tr>\n",
              "  <th>Heteroskedasticity (H):</th> <td>0.86</td> <th>  Skew:              </th>  <td>-0.17</td> \n",
              "</tr>\n",
              "<tr>\n",
              "  <th>Prob(H) (two-sided):</th>    <td>0.00</td> <th>  Kurtosis:          </th>  <td>8.79</td>  \n",
              "</tr>\n",
              "</table><br/><br/>Warnings:<br/>[1] Covariance matrix calculated using the outer product of gradients (complex-step)."
            ]
          },
          "metadata": {},
          "execution_count": 17
        }
      ],
      "source": [
        "model_auto.summary()"
      ]
    },
    {
      "cell_type": "code",
      "source": [],
      "metadata": {
        "id": "oLpbPXhqHRAD"
      },
      "execution_count": null,
      "outputs": []
    }
  ],
  "metadata": {
    "kernelspec": {
      "display_name": "Python 3",
      "language": "python",
      "name": "python3"
    },
    "language_info": {
      "codemirror_mode": {
        "name": "ipython",
        "version": 3
      },
      "file_extension": ".py",
      "mimetype": "text/x-python",
      "name": "python",
      "nbconvert_exporter": "python",
      "pygments_lexer": "ipython3",
      "version": "3.6.7"
    },
    "colab": {
      "provenance": [],
      "include_colab_link": true
    }
  },
  "nbformat": 4,
  "nbformat_minor": 0
}