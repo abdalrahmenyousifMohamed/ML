{
  "cells": [
    {
      "cell_type": "markdown",
      "metadata": {
        "id": "view-in-github",
        "colab_type": "text"
      },
      "source": [
        "<a href=\"https://colab.research.google.com/github/abdalrahmenyousifMohamed/ML/blob/main/notebooks/multi-classification.ipynb\" target=\"_parent\"><img src=\"https://colab.research.google.com/assets/colab-badge.svg\" alt=\"Open In Colab\"/></a>"
      ]
    },
    {
      "cell_type": "markdown",
      "metadata": {
        "id": "-pVhOfzLx9us"
      },
      "source": [
        "# Using Google Colab with GitHub\n",
        "\n"
      ]
    },
    {
      "cell_type": "markdown",
      "metadata": {
        "id": "wKJ4bd5rt1wy"
      },
      "source": [
        "\n",
        "[Google Colaboratory](http://colab.research.google.com) is designed to integrate cleanly with GitHub, allowing both loading notebooks from github and saving notebooks to github."
      ]
    },
    {
      "cell_type": "markdown",
      "metadata": {
        "id": "K-NVg7RjyeTk"
      },
      "source": [
        "## Loading Public Notebooks Directly from GitHub\n",
        "\n",
        "Colab can load public github notebooks directly, with no required authorization step.\n",
        "\n",
        "For example, consider the notebook at this address: https://github.com/googlecolab/colabtools/blob/master/notebooks/colab-github-demo.ipynb.\n",
        "\n",
        "The direct colab link to this notebook is: https://colab.research.google.com/github/googlecolab/colabtools/blob/master/notebooks/colab-github-demo.ipynb.\n",
        "\n",
        "To generate such links in one click, you can use the [Open in Colab](https://chrome.google.com/webstore/detail/open-in-colab/iogfkhleblhcpcekbiedikdehleodpjo) Chrome extension."
      ]
    },
    {
      "cell_type": "markdown",
      "metadata": {
        "id": "WzIRIt9d2huC"
      },
      "source": [
        "## Browsing GitHub Repositories from Colab\n",
        "\n",
        "Colab also supports special URLs that link directly to a GitHub browser for any user/organization, repository, or branch. For example:\n",
        "\n",
        "- http://colab.research.google.com/github will give you a general github browser, where you can search for any github organization or username.\n",
        "- http://colab.research.google.com/github/googlecolab/ will open the repository browser for the ``googlecolab`` organization. Replace ``googlecolab`` with any other github org or user to see their repositories.\n",
        "- http://colab.research.google.com/github/googlecolab/colabtools/ will let you browse the main branch of the ``colabtools`` repository within the ``googlecolab`` organization. Substitute any user/org and repository to see its contents.\n",
        "- http://colab.research.google.com/github/googlecolab/colabtools/blob/master will let you browse ``master`` branch of the ``colabtools`` repository within the ``googlecolab`` organization. (don't forget the ``blob`` here!) You can specify any valid branch for any valid repository."
      ]
    },
    {
      "cell_type": "markdown",
      "metadata": {
        "id": "Rmai0dD30XzL"
      },
      "source": [
        "## Loading Private Notebooks\n",
        "\n",
        "Loading a notebook from a private GitHub repository is possible, but requires an additional step to allow Colab to access your files.\n",
        "Do the following:\n",
        "\n",
        "1. Navigate to http://colab.research.google.com/github.\n",
        "2. Click the \"Include Private Repos\" checkbox.\n",
        "3. In the popup window, sign-in to your Github account and authorize Colab to read the private files.\n",
        "4. Your private repositories and notebooks will now be available via the github navigation pane."
      ]
    },
    {
      "cell_type": "markdown",
      "metadata": {
        "id": "8J3NBxtZpPcK"
      },
      "source": [
        "## Saving Notebooks To GitHub or Drive\n",
        "\n",
        "Any time you open a GitHub hosted notebook in Colab, it opens a new editable view of the notebook. You can run and modify the notebook without worrying about overwriting the source.\n",
        "\n",
        "If you would like to save your changes from within Colab, you can use the File menu to save the modified notebook either to Google Drive or back to GitHub. Choose **File→Save a copy in Drive** or **File→Save a copy to GitHub** and follow the resulting prompts. To save a Colab notebook to GitHub requires giving Colab permission to push the commit to your repository."
      ]
    },
    {
      "cell_type": "markdown",
      "metadata": {
        "id": "8QAWNjizy_3O"
      },
      "source": [
        "## Open In Colab Badge\n",
        "\n",
        "Anybody can open a copy of any github-hosted notebook within Colab. To make it easier to give people access to live views of GitHub-hosted notebooks,\n",
        "colab provides a [shields.io](http://shields.io/)-style badge, which appears as follows:\n",
        "\n",
        "[![Open In Colab](https://colab.research.google.com/assets/colab-badge.svg)](https://colab.research.google.com/github/googlecolab/colabtools/blob/master/notebooks/colab-github-demo.ipynb)\n",
        "\n",
        "The markdown for the above badge is the following:\n",
        "\n",
        "```markdown\n",
        "[![Open In Colab](https://colab.research.google.com/assets/colab-badge.svg)](https://colab.research.google.com/github/googlecolab/colabtools/blob/master/notebooks/colab-github-demo.ipynb)\n",
        "```\n",
        "\n",
        "The HTML equivalent is:\n",
        "\n",
        "```HTML\n",
        "<a href=\"https://colab.research.google.com/github/googlecolab/colabtools/blob/master/notebooks/colab-github-demo.ipynb\">\n",
        "  <img src=\"https://colab.research.google.com/assets/colab-badge.svg\" alt=\"Open In Colab\"/>\n",
        "</a>\n",
        "```\n",
        "\n",
        "Remember to replace the notebook URL in this template with the notebook you want to link to."
      ]
    },
    {
      "cell_type": "code",
      "execution_count": 1,
      "metadata": {
        "colab": {
          "base_uri": "https://localhost:8080/"
        },
        "id": "3VQqVi-3ScBC",
        "outputId": "9840ad39-ebc4-4905-9edf-ef1b037c71b4"
      },
      "outputs": [
        {
          "output_type": "stream",
          "name": "stdout",
          "text": [
            "          Type       Package      Variety Sub Variety  Grade     Date  \\\n",
            "City Name                                                               \n",
            "BALTIMORE  NaN  24 inch bins          NaN         NaN    NaN  4/29/17   \n",
            "BALTIMORE  NaN  24 inch bins          NaN         NaN    NaN   5/6/17   \n",
            "BALTIMORE  NaN  24 inch bins  HOWDEN TYPE         NaN    NaN  9/24/16   \n",
            "BALTIMORE  NaN  24 inch bins  HOWDEN TYPE         NaN    NaN  9/24/16   \n",
            "BALTIMORE  NaN  24 inch bins  HOWDEN TYPE         NaN    NaN  11/5/16   \n",
            "\n",
            "           Low Price  High Price  Mostly Low  Mostly High  ... Unit of Sale  \\\n",
            "City Name                                                  ...                \n",
            "BALTIMORE      270.0       280.0       270.0        280.0  ...          NaN   \n",
            "BALTIMORE      270.0       280.0       270.0        280.0  ...          NaN   \n",
            "BALTIMORE      160.0       160.0       160.0        160.0  ...          NaN   \n",
            "BALTIMORE      160.0       160.0       160.0        160.0  ...          NaN   \n",
            "BALTIMORE       90.0       100.0        90.0        100.0  ...          NaN   \n",
            "\n",
            "          Quality Condition Appearance  Storage Crop  Repack  Trans Mode  \\\n",
            "City Name                                                                  \n",
            "BALTIMORE     NaN       NaN        NaN      NaN  NaN       E         NaN   \n",
            "BALTIMORE     NaN       NaN        NaN      NaN  NaN       E         NaN   \n",
            "BALTIMORE     NaN       NaN        NaN      NaN  NaN       N         NaN   \n",
            "BALTIMORE     NaN       NaN        NaN      NaN  NaN       N         NaN   \n",
            "BALTIMORE     NaN       NaN        NaN      NaN  NaN       N         NaN   \n",
            "\n",
            "           Unnamed: 24  Unnamed: 25  \n",
            "City Name                            \n",
            "BALTIMORE          NaN          NaN  \n",
            "BALTIMORE          NaN          NaN  \n",
            "BALTIMORE          NaN          NaN  \n",
            "BALTIMORE          NaN          NaN  \n",
            "BALTIMORE          NaN          NaN  \n",
            "\n",
            "[5 rows x 25 columns]\n"
          ]
        }
      ],
      "source": [
        "import pandas as pd\n",
        "\n",
        "url = 'https://github.com/microsoft/ML-For-Beginners/blob/main/2-Regression/data/US-pumpkins.csv?raw=true'\n",
        "df = pd.read_csv(url, index_col=0)\n",
        "print(df.head(5))"
      ]
    },
    {
      "cell_type": "code",
      "source": [],
      "metadata": {
        "id": "8O0EuaS67WHG"
      },
      "execution_count": 1,
      "outputs": []
    },
    {
      "cell_type": "code",
      "source": [
        "from sklearn.preprocessing import LabelEncoder\n",
        "pumpkins = df\n",
        "new_columns = ['Color','Origin','Item Size','Variety','City Name','Package']\n",
        "\n",
        "new_pumpkins = pumpkins.drop([c for c in pumpkins.columns if c not in new_columns], axis=1)\n",
        "\n",
        "new_pumpkins.dropna(inplace=True)\n",
        "\n",
        "new_pumpkins = new_pumpkins.apply(LabelEncoder().fit_transform)"
      ],
      "metadata": {
        "id": "74qN6h_u7cct"
      },
      "execution_count": 2,
      "outputs": []
    },
    {
      "cell_type": "code",
      "source": [
        "new_pumpkins"
      ],
      "metadata": {
        "colab": {
          "base_uri": "https://localhost:8080/",
          "height": 455
        },
        "id": "3f1E3hKc7fjz",
        "outputId": "d1c564c8-d2d7-466c-d109-8ac610d5cc82"
      },
      "execution_count": 3,
      "outputs": [
        {
          "output_type": "execute_result",
          "data": {
            "text/plain": [
              "           Package  Variety  Origin  Item Size  Color\n",
              "City Name                                            \n",
              "BALTIMORE        3        4       3          3      0\n",
              "BALTIMORE        3        4      17          3      0\n",
              "BALTIMORE        3        4       5          2      0\n",
              "BALTIMORE        3        4       5          2      0\n",
              "BALTIMORE        4        4       5          3      0\n",
              "...            ...      ...     ...        ...    ...\n",
              "ST. LOUIS        3        5       4          6      1\n",
              "ST. LOUIS        3        5       4          6      1\n",
              "ST. LOUIS        3        5       4          6      1\n",
              "ST. LOUIS        3        5       4          6      1\n",
              "ST. LOUIS        3        5       4          6      1\n",
              "\n",
              "[991 rows x 5 columns]"
            ],
            "text/html": [
              "\n",
              "  <div id=\"df-40818380-5a51-4b52-9a3c-4aa84243cdc5\">\n",
              "    <div class=\"colab-df-container\">\n",
              "      <div>\n",
              "<style scoped>\n",
              "    .dataframe tbody tr th:only-of-type {\n",
              "        vertical-align: middle;\n",
              "    }\n",
              "\n",
              "    .dataframe tbody tr th {\n",
              "        vertical-align: top;\n",
              "    }\n",
              "\n",
              "    .dataframe thead th {\n",
              "        text-align: right;\n",
              "    }\n",
              "</style>\n",
              "<table border=\"1\" class=\"dataframe\">\n",
              "  <thead>\n",
              "    <tr style=\"text-align: right;\">\n",
              "      <th></th>\n",
              "      <th>Package</th>\n",
              "      <th>Variety</th>\n",
              "      <th>Origin</th>\n",
              "      <th>Item Size</th>\n",
              "      <th>Color</th>\n",
              "    </tr>\n",
              "    <tr>\n",
              "      <th>City Name</th>\n",
              "      <th></th>\n",
              "      <th></th>\n",
              "      <th></th>\n",
              "      <th></th>\n",
              "      <th></th>\n",
              "    </tr>\n",
              "  </thead>\n",
              "  <tbody>\n",
              "    <tr>\n",
              "      <th>BALTIMORE</th>\n",
              "      <td>3</td>\n",
              "      <td>4</td>\n",
              "      <td>3</td>\n",
              "      <td>3</td>\n",
              "      <td>0</td>\n",
              "    </tr>\n",
              "    <tr>\n",
              "      <th>BALTIMORE</th>\n",
              "      <td>3</td>\n",
              "      <td>4</td>\n",
              "      <td>17</td>\n",
              "      <td>3</td>\n",
              "      <td>0</td>\n",
              "    </tr>\n",
              "    <tr>\n",
              "      <th>BALTIMORE</th>\n",
              "      <td>3</td>\n",
              "      <td>4</td>\n",
              "      <td>5</td>\n",
              "      <td>2</td>\n",
              "      <td>0</td>\n",
              "    </tr>\n",
              "    <tr>\n",
              "      <th>BALTIMORE</th>\n",
              "      <td>3</td>\n",
              "      <td>4</td>\n",
              "      <td>5</td>\n",
              "      <td>2</td>\n",
              "      <td>0</td>\n",
              "    </tr>\n",
              "    <tr>\n",
              "      <th>BALTIMORE</th>\n",
              "      <td>4</td>\n",
              "      <td>4</td>\n",
              "      <td>5</td>\n",
              "      <td>3</td>\n",
              "      <td>0</td>\n",
              "    </tr>\n",
              "    <tr>\n",
              "      <th>...</th>\n",
              "      <td>...</td>\n",
              "      <td>...</td>\n",
              "      <td>...</td>\n",
              "      <td>...</td>\n",
              "      <td>...</td>\n",
              "    </tr>\n",
              "    <tr>\n",
              "      <th>ST. LOUIS</th>\n",
              "      <td>3</td>\n",
              "      <td>5</td>\n",
              "      <td>4</td>\n",
              "      <td>6</td>\n",
              "      <td>1</td>\n",
              "    </tr>\n",
              "    <tr>\n",
              "      <th>ST. LOUIS</th>\n",
              "      <td>3</td>\n",
              "      <td>5</td>\n",
              "      <td>4</td>\n",
              "      <td>6</td>\n",
              "      <td>1</td>\n",
              "    </tr>\n",
              "    <tr>\n",
              "      <th>ST. LOUIS</th>\n",
              "      <td>3</td>\n",
              "      <td>5</td>\n",
              "      <td>4</td>\n",
              "      <td>6</td>\n",
              "      <td>1</td>\n",
              "    </tr>\n",
              "    <tr>\n",
              "      <th>ST. LOUIS</th>\n",
              "      <td>3</td>\n",
              "      <td>5</td>\n",
              "      <td>4</td>\n",
              "      <td>6</td>\n",
              "      <td>1</td>\n",
              "    </tr>\n",
              "    <tr>\n",
              "      <th>ST. LOUIS</th>\n",
              "      <td>3</td>\n",
              "      <td>5</td>\n",
              "      <td>4</td>\n",
              "      <td>6</td>\n",
              "      <td>1</td>\n",
              "    </tr>\n",
              "  </tbody>\n",
              "</table>\n",
              "<p>991 rows × 5 columns</p>\n",
              "</div>\n",
              "      <button class=\"colab-df-convert\" onclick=\"convertToInteractive('df-40818380-5a51-4b52-9a3c-4aa84243cdc5')\"\n",
              "              title=\"Convert this dataframe to an interactive table.\"\n",
              "              style=\"display:none;\">\n",
              "        \n",
              "  <svg xmlns=\"http://www.w3.org/2000/svg\" height=\"24px\"viewBox=\"0 0 24 24\"\n",
              "       width=\"24px\">\n",
              "    <path d=\"M0 0h24v24H0V0z\" fill=\"none\"/>\n",
              "    <path d=\"M18.56 5.44l.94 2.06.94-2.06 2.06-.94-2.06-.94-.94-2.06-.94 2.06-2.06.94zm-11 1L8.5 8.5l.94-2.06 2.06-.94-2.06-.94L8.5 2.5l-.94 2.06-2.06.94zm10 10l.94 2.06.94-2.06 2.06-.94-2.06-.94-.94-2.06-.94 2.06-2.06.94z\"/><path d=\"M17.41 7.96l-1.37-1.37c-.4-.4-.92-.59-1.43-.59-.52 0-1.04.2-1.43.59L10.3 9.45l-7.72 7.72c-.78.78-.78 2.05 0 2.83L4 21.41c.39.39.9.59 1.41.59.51 0 1.02-.2 1.41-.59l7.78-7.78 2.81-2.81c.8-.78.8-2.07 0-2.86zM5.41 20L4 18.59l7.72-7.72 1.47 1.35L5.41 20z\"/>\n",
              "  </svg>\n",
              "      </button>\n",
              "      \n",
              "  <style>\n",
              "    .colab-df-container {\n",
              "      display:flex;\n",
              "      flex-wrap:wrap;\n",
              "      gap: 12px;\n",
              "    }\n",
              "\n",
              "    .colab-df-convert {\n",
              "      background-color: #E8F0FE;\n",
              "      border: none;\n",
              "      border-radius: 50%;\n",
              "      cursor: pointer;\n",
              "      display: none;\n",
              "      fill: #1967D2;\n",
              "      height: 32px;\n",
              "      padding: 0 0 0 0;\n",
              "      width: 32px;\n",
              "    }\n",
              "\n",
              "    .colab-df-convert:hover {\n",
              "      background-color: #E2EBFA;\n",
              "      box-shadow: 0px 1px 2px rgba(60, 64, 67, 0.3), 0px 1px 3px 1px rgba(60, 64, 67, 0.15);\n",
              "      fill: #174EA6;\n",
              "    }\n",
              "\n",
              "    [theme=dark] .colab-df-convert {\n",
              "      background-color: #3B4455;\n",
              "      fill: #D2E3FC;\n",
              "    }\n",
              "\n",
              "    [theme=dark] .colab-df-convert:hover {\n",
              "      background-color: #434B5C;\n",
              "      box-shadow: 0px 1px 3px 1px rgba(0, 0, 0, 0.15);\n",
              "      filter: drop-shadow(0px 1px 2px rgba(0, 0, 0, 0.3));\n",
              "      fill: #FFFFFF;\n",
              "    }\n",
              "  </style>\n",
              "\n",
              "      <script>\n",
              "        const buttonEl =\n",
              "          document.querySelector('#df-40818380-5a51-4b52-9a3c-4aa84243cdc5 button.colab-df-convert');\n",
              "        buttonEl.style.display =\n",
              "          google.colab.kernel.accessAllowed ? 'block' : 'none';\n",
              "\n",
              "        async function convertToInteractive(key) {\n",
              "          const element = document.querySelector('#df-40818380-5a51-4b52-9a3c-4aa84243cdc5');\n",
              "          const dataTable =\n",
              "            await google.colab.kernel.invokeFunction('convertToInteractive',\n",
              "                                                     [key], {});\n",
              "          if (!dataTable) return;\n",
              "\n",
              "          const docLinkHtml = 'Like what you see? Visit the ' +\n",
              "            '<a target=\"_blank\" href=https://colab.research.google.com/notebooks/data_table.ipynb>data table notebook</a>'\n",
              "            + ' to learn more about interactive tables.';\n",
              "          element.innerHTML = '';\n",
              "          dataTable['output_type'] = 'display_data';\n",
              "          await google.colab.output.renderOutput(dataTable, element);\n",
              "          const docLink = document.createElement('div');\n",
              "          docLink.innerHTML = docLinkHtml;\n",
              "          element.appendChild(docLink);\n",
              "        }\n",
              "      </script>\n",
              "    </div>\n",
              "  </div>\n",
              "  "
            ]
          },
          "metadata": {},
          "execution_count": 3
        }
      ]
    },
    {
      "cell_type": "code",
      "source": [
        "new_pumpkins.info"
      ],
      "metadata": {
        "colab": {
          "base_uri": "https://localhost:8080/"
        },
        "id": "0r22oiPb7s2f",
        "outputId": "0304c5f0-532a-47e2-ce8f-d24fd3f98712"
      },
      "execution_count": 4,
      "outputs": [
        {
          "output_type": "execute_result",
          "data": {
            "text/plain": [
              "<bound method DataFrame.info of            Package  Variety  Origin  Item Size  Color\n",
              "City Name                                            \n",
              "BALTIMORE        3        4       3          3      0\n",
              "BALTIMORE        3        4      17          3      0\n",
              "BALTIMORE        3        4       5          2      0\n",
              "BALTIMORE        3        4       5          2      0\n",
              "BALTIMORE        4        4       5          3      0\n",
              "...            ...      ...     ...        ...    ...\n",
              "ST. LOUIS        3        5       4          6      1\n",
              "ST. LOUIS        3        5       4          6      1\n",
              "ST. LOUIS        3        5       4          6      1\n",
              "ST. LOUIS        3        5       4          6      1\n",
              "ST. LOUIS        3        5       4          6      1\n",
              "\n",
              "[991 rows x 5 columns]>"
            ]
          },
          "metadata": {},
          "execution_count": 4
        }
      ]
    },
    {
      "cell_type": "code",
      "source": [
        "import seaborn as sns\n",
        "\n",
        "g = sns.PairGrid(new_pumpkins)\n",
        "g.map(sns.scatterplot)"
      ],
      "metadata": {
        "colab": {
          "base_uri": "https://localhost:8080/",
          "height": 668
        },
        "id": "Xz4t_WEb7s48",
        "outputId": "0875f2f9-48a7-4323-a17c-8ed3d8fd5d7c"
      },
      "execution_count": 5,
      "outputs": [
        {
          "output_type": "execute_result",
          "data": {
            "text/plain": [
              "<seaborn.axisgrid.PairGrid at 0x7f8c5f2284d0>"
            ]
          },
          "metadata": {},
          "execution_count": 5
        },
        {
          "output_type": "display_data",
          "data": {
            "text/plain": [
              "<Figure size 900x900 with 25 Axes>"
            ],
            "image/png": "[encoded data removed]"
          },
          "metadata": {
            "needs_background": "light"
          }
        }
      ]
    },
    {
      "cell_type": "code",
      "source": [
        "sns.swarmplot(x=\"Color\", y=\"Item Size\", data=new_pumpkins)"
      ],
      "metadata": {
        "colab": {
          "base_uri": "https://localhost:8080/",
          "height": 388
        },
        "id": "cB3BWyV-7s7J",
        "outputId": "77563975-426e-4d29-b435-b2f2460e3b54"
      },
      "execution_count": 6,
      "outputs": [
        {
          "output_type": "stream",
          "name": "stderr",
          "text": [
            "/usr/local/lib/python3.7/dist-packages/seaborn/categorical.py:1296: UserWarning: 80.6% of the points cannot be placed; you may want to decrease the size of the markers or use stripplot.\n",
            "  warnings.warn(msg, UserWarning)\n",
            "/usr/local/lib/python3.7/dist-packages/seaborn/categorical.py:1296: UserWarning: 37.2% of the points cannot be placed; you may want to decrease the size of the markers or use stripplot.\n",
            "  warnings.warn(msg, UserWarning)\n"
          ]
        },
        {
          "output_type": "execute_result",
          "data": {
            "text/plain": [
              "<matplotlib.axes._subplots.AxesSubplot at 0x7f8c5ef77810>"
            ]
          },
          "metadata": {},
          "execution_count": 6
        },
        {
          "output_type": "display_data",
          "data": {
            "text/plain": [
              "<Figure size 432x288 with 1 Axes>"
            ],
            "image/png": "[encoded data removed]"
          },
          "metadata": {
            "needs_background": "light"
          }
        }
      ]
    },
    {
      "cell_type": "code",
      "source": [
        "from sklearn.model_selection import train_test_split\n",
        "\n",
        "Selected_features = ['Origin','Item Size','Variety','Package']\n",
        "\n",
        "X = new_pumpkins[Selected_features]\n",
        "y = new_pumpkins['Color']\n",
        "\n",
        "X_train, X_test, y_train, y_test = train_test_split(X, y, test_size=0.2, random_state=0)\n"
      ],
      "metadata": {
        "id": "kpp4_eP18Bhy"
      },
      "execution_count": 7,
      "outputs": []
    },
    {
      "cell_type": "code",
      "source": [
        "from sklearn.model_selection import train_test_split\n",
        "from sklearn.metrics import accuracy_score, classification_report \n",
        "from sklearn.linear_model import LogisticRegression\n",
        "\n",
        "model = LogisticRegression()\n",
        "model.fit(X_train, y_train)\n",
        "predictions = model.predict(X_test)\n",
        "\n",
        "print(classification_report(y_test, predictions))\n",
        "print('Predicted labels: ', predictions)\n",
        "print('Accuracy: ', accuracy_score(y_test, predictions))"
      ],
      "metadata": {
        "colab": {
          "base_uri": "https://localhost:8080/"
        },
        "id": "vi05lCOK8Bj3",
        "outputId": "0b6e437f-9d62-4982-e554-5a0b3e238c85"
      },
      "execution_count": 8,
      "outputs": [
        {
          "output_type": "stream",
          "name": "stdout",
          "text": [
            "              precision    recall  f1-score   support\n",
            "\n",
            "           0       0.83      0.96      0.89       166\n",
            "           1       0.00      0.00      0.00        33\n",
            "\n",
            "    accuracy                           0.80       199\n",
            "   macro avg       0.41      0.48      0.45       199\n",
            "weighted avg       0.69      0.80      0.74       199\n",
            "\n",
            "Predicted labels:  [0 0 1 0 0 0 0 1 0 0 0 0 0 0 0 0 0 0 0 0 0 0 0 0 0 0 0 0 0 0 0 0 0 1 0 0 0\n",
            " 0 0 0 0 0 0 0 0 0 0 0 0 0 0 0 0 0 0 0 0 0 0 0 0 0 0 0 0 0 0 0 0 0 0 0 0 0\n",
            " 0 0 0 0 0 0 0 0 0 0 0 0 0 0 0 0 0 0 0 0 0 0 0 0 0 0 0 0 0 0 0 0 0 0 0 0 0\n",
            " 0 0 0 0 0 0 0 0 0 0 0 0 0 0 0 0 0 0 0 0 0 0 0 0 0 0 0 0 0 0 0 0 0 1 0 0 0\n",
            " 0 0 0 0 0 0 0 0 0 0 0 0 0 0 0 0 0 0 0 0 0 0 0 0 0 0 0 0 0 0 0 0 0 0 0 0 0\n",
            " 0 0 0 0 0 1 0 0 0 0 1 0 0 0]\n",
            "Accuracy:  0.8040201005025126\n"
          ]
        }
      ]
    },
    {
      "cell_type": "code",
      "source": [
        "from sklearn.metrics import confusion_matrix\n",
        "confusion_matrix(y_test, predictions)"
      ],
      "metadata": {
        "colab": {
          "base_uri": "https://localhost:8080/"
        },
        "id": "wQgsz37K8Bmd",
        "outputId": "7e441ad2-ff14-4a30-c44f-cccee1de2478"
      },
      "execution_count": 9,
      "outputs": [
        {
          "output_type": "execute_result",
          "data": {
            "text/plain": [
              "array([[160,   6],\n",
              "       [ 33,   0]])"
            ]
          },
          "metadata": {},
          "execution_count": 9
        }
      ]
    },
    {
      "cell_type": "code",
      "source": [
        "from sklearn.metrics import roc_curve, roc_auc_score\n",
        "\n",
        "y_scores = model.predict_proba(X_test)\n",
        "# calculate ROC curve\n",
        "fpr, tpr, thresholds = roc_curve(y_test, y_scores[:,1])\n",
        "sns.lineplot([0, 1], [0, 1])\n",
        "sns.lineplot(fpr, tpr)"
      ],
      "metadata": {
        "colab": {
          "base_uri": "https://localhost:8080/",
          "height": 374
        },
        "id": "Na3NpcDm9ZSd",
        "outputId": "df590ec4-331a-41e7-953f-1b2d60e3d365"
      },
      "execution_count": 10,
      "outputs": [
        {
          "output_type": "stream",
          "name": "stderr",
          "text": [
            "/usr/local/lib/python3.7/dist-packages/seaborn/_decorators.py:43: FutureWarning: Pass the following variables as keyword args: x, y. From version 0.12, the only valid positional argument will be `data`, and passing other arguments without an explicit keyword will result in an error or misinterpretation.\n",
            "  FutureWarning\n",
            "/usr/local/lib/python3.7/dist-packages/seaborn/_decorators.py:43: FutureWarning: Pass the following variables as keyword args: x, y. From version 0.12, the only valid positional argument will be `data`, and passing other arguments without an explicit keyword will result in an error or misinterpretation.\n",
            "  FutureWarning\n"
          ]
        },
        {
          "output_type": "execute_result",
          "data": {
            "text/plain": [
              "<matplotlib.axes._subplots.AxesSubplot at 0x7f8c5ab5c410>"
            ]
          },
          "metadata": {},
          "execution_count": 10
        },
        {
          "output_type": "display_data",
          "data": {
            "text/plain": [
              "<Figure size 432x288 with 1 Axes>"
            ],
            "image/png": "[encoded data removed]"
          },
          "metadata": {
            "needs_background": "light"
          }
        }
      ]
    },
    {
      "cell_type": "code",
      "source": [
        "y_scores"
      ],
      "metadata": {
        "colab": {
          "base_uri": "https://localhost:8080/"
        },
        "id": "U1jBns6L9wK6",
        "outputId": "8299c7a4-7314-4342-99f0-6cfc2cb7cc5c"
      },
      "execution_count": 11,
      "outputs": [
        {
          "output_type": "execute_result",
          "data": {
            "text/plain": [
              "array([[0.95874224, 0.04125776],\n",
              "       [0.96655753, 0.03344247],\n",
              "       [0.41231559, 0.58768441],\n",
              "       [0.92819337, 0.07180663],\n",
              "       [0.87938831, 0.12061169],\n",
              "       [0.91987258, 0.08012742],\n",
              "       [0.92319374, 0.07680626],\n",
              "       [0.49001288, 0.50998712],\n",
              "       [0.89607936, 0.10392064],\n",
              "       [0.94272985, 0.05727015],\n",
              "       [0.8147004 , 0.1852996 ],\n",
              "       [0.84562004, 0.15437996],\n",
              "       [0.86571134, 0.13428866],\n",
              "       [0.85816576, 0.14183424],\n",
              "       [0.87686209, 0.12313791],\n",
              "       [0.86744237, 0.13255763],\n",
              "       [0.85205556, 0.14794444],\n",
              "       [0.72908893, 0.27091107],\n",
              "       [0.76519257, 0.23480743],\n",
              "       [0.930341  , 0.069659  ],\n",
              "       [0.65273411, 0.34726589],\n",
              "       [0.55173528, 0.44826472],\n",
              "       [0.85816576, 0.14183424],\n",
              "       [0.84542972, 0.15457028],\n",
              "       [0.87938831, 0.12061169],\n",
              "       [0.9352664 , 0.0647336 ],\n",
              "       [0.9352664 , 0.0647336 ],\n",
              "       [0.94415839, 0.05584161],\n",
              "       [0.86879365, 0.13120635],\n",
              "       [0.81004342, 0.18995658],\n",
              "       [0.82138004, 0.17861996],\n",
              "       [0.72908893, 0.27091107],\n",
              "       [0.7112115 , 0.2887885 ],\n",
              "       [0.49296271, 0.50703729],\n",
              "       [0.90225065, 0.09774935],\n",
              "       [0.93147964, 0.06852036],\n",
              "       [0.88748072, 0.11251928],\n",
              "       [0.97489816, 0.02510184],\n",
              "       [0.94019872, 0.05980128],\n",
              "       [0.84415684, 0.15584316],\n",
              "       [0.92319374, 0.07680626],\n",
              "       [0.88450033, 0.11549967],\n",
              "       [0.67033286, 0.32966714],\n",
              "       [0.83344452, 0.16655548],\n",
              "       [0.67033286, 0.32966714],\n",
              "       [0.87079863, 0.12920137],\n",
              "       [0.72908893, 0.27091107],\n",
              "       [0.67033286, 0.32966714],\n",
              "       [0.90225065, 0.09774935],\n",
              "       [0.88911087, 0.11088913],\n",
              "       [0.89172327, 0.10827673],\n",
              "       [0.81729563, 0.18270437],\n",
              "       [0.89773654, 0.10226346],\n",
              "       [0.67033286, 0.32966714],\n",
              "       [0.92819337, 0.07180663],\n",
              "       [0.87284717, 0.12715283],\n",
              "       [0.93562277, 0.06437723],\n",
              "       [0.85801164, 0.14198836],\n",
              "       [0.82433101, 0.17566899],\n",
              "       [0.83614857, 0.16385143],\n",
              "       [0.84415684, 0.15584316],\n",
              "       [0.91698271, 0.08301729],\n",
              "       [0.88748072, 0.11251928],\n",
              "       [0.81729563, 0.18270437],\n",
              "       [0.6457764 , 0.3542236 ],\n",
              "       [0.81729563, 0.18270437],\n",
              "       [0.86744237, 0.13255763],\n",
              "       [0.9152669 , 0.0847331 ],\n",
              "       [0.8513101 , 0.1486899 ],\n",
              "       [0.94019872, 0.05980128],\n",
              "       [0.92819337, 0.07180663],\n",
              "       [0.73577788, 0.26422212],\n",
              "       [0.75109013, 0.24890987],\n",
              "       [0.81729563, 0.18270437],\n",
              "       [0.65273411, 0.34726589],\n",
              "       [0.82433101, 0.17566899],\n",
              "       [0.88173677, 0.11826323],\n",
              "       [0.91341817, 0.08658183],\n",
              "       [0.97489816, 0.02510184],\n",
              "       [0.89607936, 0.10392064],\n",
              "       [0.92319374, 0.07680626],\n",
              "       [0.93072248, 0.06927752],\n",
              "       [0.76207269, 0.23792731],\n",
              "       [0.82433101, 0.17566899],\n",
              "       [0.9352664 , 0.0647336 ],\n",
              "       [0.83870141, 0.16129859],\n",
              "       [0.91341817, 0.08658183],\n",
              "       [0.92669075, 0.07330925],\n",
              "       [0.89285761, 0.10714239],\n",
              "       [0.8520831 , 0.1479169 ],\n",
              "       [0.67033286, 0.32966714],\n",
              "       [0.91341817, 0.08658183],\n",
              "       [0.82433101, 0.17566899],\n",
              "       [0.88512406, 0.11487594],\n",
              "       [0.91341817, 0.08658183],\n",
              "       [0.92507086, 0.07492914],\n",
              "       [0.87200283, 0.12799717],\n",
              "       [0.90751066, 0.09248934],\n",
              "       [0.78711031, 0.21288969],\n",
              "       [0.87482306, 0.12517694],\n",
              "       [0.88450033, 0.11549967],\n",
              "       [0.94692507, 0.05307493],\n",
              "       [0.79539473, 0.20460527],\n",
              "       [0.84562004, 0.15437996],\n",
              "       [0.90458671, 0.09541329],\n",
              "       [0.8513101 , 0.1486899 ],\n",
              "       [0.87938831, 0.12061169],\n",
              "       [0.94816124, 0.05183876],\n",
              "       [0.9352664 , 0.0647336 ],\n",
              "       [0.77902156, 0.22097844],\n",
              "       [0.72292434, 0.27707566],\n",
              "       [0.72908893, 0.27091107],\n",
              "       [0.89285761, 0.10714239],\n",
              "       [0.88450033, 0.11549967],\n",
              "       [0.84562004, 0.15437996],\n",
              "       [0.91341817, 0.08658183],\n",
              "       [0.88173677, 0.11826323],\n",
              "       [0.90016854, 0.09983146],\n",
              "       [0.81729563, 0.18270437],\n",
              "       [0.77727486, 0.22272514],\n",
              "       [0.84562004, 0.15437996],\n",
              "       [0.90420244, 0.09579756],\n",
              "       [0.91068037, 0.08931963],\n",
              "       [0.87686209, 0.12313791],\n",
              "       [0.89285761, 0.10714239],\n",
              "       [0.76519257, 0.23480743],\n",
              "       [0.73577788, 0.26422212],\n",
              "       [0.86879365, 0.13120635],\n",
              "       [0.80697396, 0.19302604],\n",
              "       [0.90701413, 0.09298587],\n",
              "       [0.92547889, 0.07452111],\n",
              "       [0.73577788, 0.26422212],\n",
              "       [0.83614857, 0.16385143],\n",
              "       [0.81895694, 0.18104306],\n",
              "       [0.94415839, 0.05584161],\n",
              "       [0.73725006, 0.26274994],\n",
              "       [0.76519257, 0.23480743],\n",
              "       [0.7574166 , 0.2425834 ],\n",
              "       [0.78711031, 0.21288969],\n",
              "       [0.86744237, 0.13255763],\n",
              "       [0.86744237, 0.13255763],\n",
              "       [0.86349383, 0.13650617],\n",
              "       [0.54881442, 0.45118558],\n",
              "       [0.85205556, 0.14794444],\n",
              "       [0.41231559, 0.58768441],\n",
              "       [0.65273411, 0.34726589],\n",
              "       [0.67033286, 0.32966714],\n",
              "       [0.84186934, 0.15813066],\n",
              "       [0.94816124, 0.05183876],\n",
              "       [0.9352664 , 0.0647336 ],\n",
              "       [0.75109013, 0.24890987],\n",
              "       [0.86879365, 0.13120635],\n",
              "       [0.85801164, 0.14198836],\n",
              "       [0.8513101 , 0.1486899 ],\n",
              "       [0.97661738, 0.02338262],\n",
              "       [0.86744237, 0.13255763],\n",
              "       [0.88173677, 0.11826323],\n",
              "       [0.8862967 , 0.1137033 ],\n",
              "       [0.67033286, 0.32966714],\n",
              "       [0.9352664 , 0.0647336 ],\n",
              "       [0.9069957 , 0.0930043 ],\n",
              "       [0.92507086, 0.07492914],\n",
              "       [0.87686209, 0.12313791],\n",
              "       [0.92507086, 0.07492914],\n",
              "       [0.77727486, 0.22272514],\n",
              "       [0.94415839, 0.05584161],\n",
              "       [0.88570063, 0.11429937],\n",
              "       [0.83870141, 0.16129859],\n",
              "       [0.91341817, 0.08658183],\n",
              "       [0.90701413, 0.09298587],\n",
              "       [0.90225065, 0.09774935],\n",
              "       [0.87938831, 0.12061169],\n",
              "       [0.76519257, 0.23480743],\n",
              "       [0.87394182, 0.12605818],\n",
              "       [0.78711031, 0.21288969],\n",
              "       [0.82433101, 0.17566899],\n",
              "       [0.90701413, 0.09298587],\n",
              "       [0.95874224, 0.04125776],\n",
              "       [0.89398147, 0.10601853],\n",
              "       [0.90069762, 0.09930238],\n",
              "       [0.94052967, 0.05947033],\n",
              "       [0.86879365, 0.13120635],\n",
              "       [0.73577788, 0.26422212],\n",
              "       [0.87686209, 0.12313791],\n",
              "       [0.94692507, 0.05307493],\n",
              "       [0.79903993, 0.20096007],\n",
              "       [0.95874224, 0.04125776],\n",
              "       [0.9352664 , 0.0647336 ],\n",
              "       [0.70048942, 0.29951058],\n",
              "       [0.88748072, 0.11251928],\n",
              "       [0.49296271, 0.50703729],\n",
              "       [0.88748072, 0.11251928],\n",
              "       [0.85340505, 0.14659495],\n",
              "       [0.84186934, 0.15813066],\n",
              "       [0.81729563, 0.18270437],\n",
              "       [0.49001288, 0.50998712],\n",
              "       [0.73577788, 0.26422212],\n",
              "       [0.67033286, 0.32966714],\n",
              "       [0.93810313, 0.06189687]])"
            ]
          },
          "metadata": {},
          "execution_count": 11
        }
      ]
    },
    {
      "cell_type": "code",
      "source": [],
      "metadata": {
        "id": "OREsORLWv8Nh"
      },
      "execution_count": 11,
      "outputs": []
    },
    {
      "cell_type": "code",
      "source": [],
      "metadata": {
        "id": "uecqmYfZv8QF"
      },
      "execution_count": 11,
      "outputs": []
    },
    {
      "cell_type": "code",
      "source": [
        "auc = roc_auc_score(y_test,y_scores[:,1])\n",
        "print(auc)"
      ],
      "metadata": {
        "colab": {
          "base_uri": "https://localhost:8080/"
        },
        "id": "4kNp094O9ZUb",
        "outputId": "595cc3ac-e0c1-4aee-e83f-68f1855464c1"
      },
      "execution_count": 12,
      "outputs": [
        {
          "output_type": "stream",
          "name": "stdout",
          "text": [
            "0.7112084702446149\n"
          ]
        }
      ]
    },
    {
      "cell_type": "code",
      "source": [
        "import matplotlib.pyplot as plt\n",
        "from matplotlib.dates import drange\n",
        "import numpy as np\n",
        "import datetime"
      ],
      "metadata": {
        "id": "sYl50JgR9ZWP"
      },
      "execution_count": 13,
      "outputs": []
    },
    {
      "cell_type": "code",
      "source": [],
      "metadata": {
        "id": "vpPNpKQJwI8f"
      },
      "execution_count": 13,
      "outputs": []
    },
    {
      "cell_type": "markdown",
      "source": [
        "**Data Object Initialization**"
      ],
      "metadata": {
        "id": "gl5ewlMzwL6n"
      }
    },
    {
      "cell_type": "code",
      "source": [
        "start_date = datetime.datetime(1990,3,1)\n",
        "end_data = datetime.datetime(1990,3,9)\n",
        "time_delta = datetime.timedelta(hours=24)\n",
        "date_obj = drange(start_date,end_data , time_delta)"
      ],
      "metadata": {
        "id": "izAoaENrwI-r"
      },
      "execution_count": 14,
      "outputs": []
    },
    {
      "cell_type": "code",
      "source": [
        "data_points_YAXIS = np.arange(len(date_obj))"
      ],
      "metadata": {
        "id": "wxNkQyJpw4U8"
      },
      "execution_count": 15,
      "outputs": []
    },
    {
      "cell_type": "code",
      "source": [
        "plt.plot_date(date_obj,data_points_YAXIS)\n",
        "plt.show()"
      ],
      "metadata": {
        "colab": {
          "base_uri": "https://localhost:8080/",
          "height": 265
        },
        "id": "yH46uSOZwJAq",
        "outputId": "7b392f7a-8662-4e68-da22-2ab13658de34"
      },
      "execution_count": 16,
      "outputs": [
        {
          "output_type": "display_data",
          "data": {
            "text/plain": [
              "<Figure size 432x288 with 1 Axes>"
            ],
            "image/png": "[encoded data removed]"
          },
          "metadata": {
            "needs_background": "light"
          }
        }
      ]
    },
    {
      "cell_type": "code",
      "source": [
        "import numpy as np\n",
        "import pandas as pd\n",
        "index = pd.MultiIndex.from_tuples([('one', 'x'), ('one', 'y'),\n",
        "                                   ('two', 'x'), ('two', 'y')])\n",
        "s = pd.Series(np.arange(2.0, 6.0), index=index)\n",
        "s"
      ],
      "metadata": {
        "colab": {
          "base_uri": "https://localhost:8080/"
        },
        "id": "WcES77_e2UCe",
        "outputId": "f9de1a88-b213-4797-a415-e4c63c13c10b"
      },
      "execution_count": 17,
      "outputs": [
        {
          "output_type": "execute_result",
          "data": {
            "text/plain": [
              "one  x    2.0\n",
              "     y    3.0\n",
              "two  x    4.0\n",
              "     y    5.0\n",
              "dtype: float64"
            ]
          },
          "metadata": {},
          "execution_count": 17
        }
      ]
    },
    {
      "cell_type": "code",
      "source": [
        "multi_col_1 = pd.MultiIndex.from_tuples([(\"wind\",\"mph\"),(\"wind\",\"m/s\")])"
      ],
      "metadata": {
        "id": "DVDPMWi52UEt"
      },
      "execution_count": 18,
      "outputs": []
    },
    {
      "cell_type": "code",
      "source": [
        "multi_col_1"
      ],
      "metadata": {
        "colab": {
          "base_uri": "https://localhost:8080/"
        },
        "id": "vXim5bwJ6FfZ",
        "outputId": "6a5cc3f3-acc1-4512-b8af-56d60f1e9639"
      },
      "execution_count": 19,
      "outputs": [
        {
          "output_type": "execute_result",
          "data": {
            "text/plain": [
              "MultiIndex([('wind', 'mph'),\n",
              "            ('wind', 'm/s')],\n",
              "           )"
            ]
          },
          "metadata": {},
          "execution_count": 19
        }
      ]
    },
    {
      "cell_type": "code",
      "source": [
        "multi_col_1 = pd.MultiIndex.from_tuples([(\"wind\",\"mph\"),(\"temp\",\"C\")])"
      ],
      "metadata": {
        "id": "c8zz6jiI7csx"
      },
      "execution_count": 20,
      "outputs": []
    },
    {
      "cell_type": "code",
      "source": [
        "df_multi_level_1 = pd.DataFrame([[13,5.5],[19,8]],index=[\"london\" , \"oxford\"],columns=multi_col_1)"
      ],
      "metadata": {
        "id": "4TzgGCJ-6Fkm"
      },
      "execution_count": 21,
      "outputs": []
    },
    {
      "cell_type": "code",
      "source": [
        "df_multi_level_1.stack()"
      ],
      "metadata": {
        "colab": {
          "base_uri": "https://localhost:8080/",
          "height": 175
        },
        "id": "bf1oJ7nx6Fmq",
        "outputId": "9afc0c32-fdcd-4aa5-ea5c-6162f42c68e8"
      },
      "execution_count": 22,
      "outputs": [
        {
          "output_type": "execute_result",
          "data": {
            "text/plain": [
              "            temp  wind\n",
              "london C     5.5   NaN\n",
              "       mph   NaN  13.0\n",
              "oxford C     8.0   NaN\n",
              "       mph   NaN  19.0"
            ],
            "text/html": [
              "\n",
              "  <div id=\"df-19ca4fb4-1388-417c-98fd-e13cfc595f48\">\n",
              "    <div class=\"colab-df-container\">\n",
              "      <div>\n",
              "<style scoped>\n",
              "    .dataframe tbody tr th:only-of-type {\n",
              "        vertical-align: middle;\n",
              "    }\n",
              "\n",
              "    .dataframe tbody tr th {\n",
              "        vertical-align: top;\n",
              "    }\n",
              "\n",
              "    .dataframe thead th {\n",
              "        text-align: right;\n",
              "    }\n",
              "</style>\n",
              "<table border=\"1\" class=\"dataframe\">\n",
              "  <thead>\n",
              "    <tr style=\"text-align: right;\">\n",
              "      <th></th>\n",
              "      <th></th>\n",
              "      <th>temp</th>\n",
              "      <th>wind</th>\n",
              "    </tr>\n",
              "  </thead>\n",
              "  <tbody>\n",
              "    <tr>\n",
              "      <th rowspan=\"2\" valign=\"top\">london</th>\n",
              "      <th>C</th>\n",
              "      <td>5.5</td>\n",
              "      <td>NaN</td>\n",
              "    </tr>\n",
              "    <tr>\n",
              "      <th>mph</th>\n",
              "      <td>NaN</td>\n",
              "      <td>13.0</td>\n",
              "    </tr>\n",
              "    <tr>\n",
              "      <th rowspan=\"2\" valign=\"top\">oxford</th>\n",
              "      <th>C</th>\n",
              "      <td>8.0</td>\n",
              "      <td>NaN</td>\n",
              "    </tr>\n",
              "    <tr>\n",
              "      <th>mph</th>\n",
              "      <td>NaN</td>\n",
              "      <td>19.0</td>\n",
              "    </tr>\n",
              "  </tbody>\n",
              "</table>\n",
              "</div>\n",
              "      <button class=\"colab-df-convert\" onclick=\"convertToInteractive('df-19ca4fb4-1388-417c-98fd-e13cfc595f48')\"\n",
              "              title=\"Convert this dataframe to an interactive table.\"\n",
              "              style=\"display:none;\">\n",
              "        \n",
              "  <svg xmlns=\"http://www.w3.org/2000/svg\" height=\"24px\"viewBox=\"0 0 24 24\"\n",
              "       width=\"24px\">\n",
              "    <path d=\"M0 0h24v24H0V0z\" fill=\"none\"/>\n",
              "    <path d=\"M18.56 5.44l.94 2.06.94-2.06 2.06-.94-2.06-.94-.94-2.06-.94 2.06-2.06.94zm-11 1L8.5 8.5l.94-2.06 2.06-.94-2.06-.94L8.5 2.5l-.94 2.06-2.06.94zm10 10l.94 2.06.94-2.06 2.06-.94-2.06-.94-.94-2.06-.94 2.06-2.06.94z\"/><path d=\"M17.41 7.96l-1.37-1.37c-.4-.4-.92-.59-1.43-.59-.52 0-1.04.2-1.43.59L10.3 9.45l-7.72 7.72c-.78.78-.78 2.05 0 2.83L4 21.41c.39.39.9.59 1.41.59.51 0 1.02-.2 1.41-.59l7.78-7.78 2.81-2.81c.8-.78.8-2.07 0-2.86zM5.41 20L4 18.59l7.72-7.72 1.47 1.35L5.41 20z\"/>\n",
              "  </svg>\n",
              "      </button>\n",
              "      \n",
              "  <style>\n",
              "    .colab-df-container {\n",
              "      display:flex;\n",
              "      flex-wrap:wrap;\n",
              "      gap: 12px;\n",
              "    }\n",
              "\n",
              "    .colab-df-convert {\n",
              "      background-color: #E8F0FE;\n",
              "      border: none;\n",
              "      border-radius: 50%;\n",
              "      cursor: pointer;\n",
              "      display: none;\n",
              "      fill: #1967D2;\n",
              "      height: 32px;\n",
              "      padding: 0 0 0 0;\n",
              "      width: 32px;\n",
              "    }\n",
              "\n",
              "    .colab-df-convert:hover {\n",
              "      background-color: #E2EBFA;\n",
              "      box-shadow: 0px 1px 2px rgba(60, 64, 67, 0.3), 0px 1px 3px 1px rgba(60, 64, 67, 0.15);\n",
              "      fill: #174EA6;\n",
              "    }\n",
              "\n",
              "    [theme=dark] .colab-df-convert {\n",
              "      background-color: #3B4455;\n",
              "      fill: #D2E3FC;\n",
              "    }\n",
              "\n",
              "    [theme=dark] .colab-df-convert:hover {\n",
              "      background-color: #434B5C;\n",
              "      box-shadow: 0px 1px 3px 1px rgba(0, 0, 0, 0.15);\n",
              "      filter: drop-shadow(0px 1px 2px rgba(0, 0, 0, 0.3));\n",
              "      fill: #FFFFFF;\n",
              "    }\n",
              "  </style>\n",
              "\n",
              "      <script>\n",
              "        const buttonEl =\n",
              "          document.querySelector('#df-19ca4fb4-1388-417c-98fd-e13cfc595f48 button.colab-df-convert');\n",
              "        buttonEl.style.display =\n",
              "          google.colab.kernel.accessAllowed ? 'block' : 'none';\n",
              "\n",
              "        async function convertToInteractive(key) {\n",
              "          const element = document.querySelector('#df-19ca4fb4-1388-417c-98fd-e13cfc595f48');\n",
              "          const dataTable =\n",
              "            await google.colab.kernel.invokeFunction('convertToInteractive',\n",
              "                                                     [key], {});\n",
              "          if (!dataTable) return;\n",
              "\n",
              "          const docLinkHtml = 'Like what you see? Visit the ' +\n",
              "            '<a target=\"_blank\" href=https://colab.research.google.com/notebooks/data_table.ipynb>data table notebook</a>'\n",
              "            + ' to learn more about interactive tables.';\n",
              "          element.innerHTML = '';\n",
              "          dataTable['output_type'] = 'display_data';\n",
              "          await google.colab.output.renderOutput(dataTable, element);\n",
              "          const docLink = document.createElement('div');\n",
              "          docLink.innerHTML = docLinkHtml;\n",
              "          element.appendChild(docLink);\n",
              "        }\n",
              "      </script>\n",
              "    </div>\n",
              "  </div>\n",
              "  "
            ]
          },
          "metadata": {},
          "execution_count": 22
        }
      ]
    },
    {
      "cell_type": "code",
      "source": [
        "month = [1.,2.,3.,4.,5.,6.,7.,8.,9.,10.,11.,12.]\n",
        "temperature_base = - np.cos([0.5 * x for x in month])"
      ],
      "metadata": {
        "id": "lcRifwzn6FpT"
      },
      "execution_count": 23,
      "outputs": []
    },
    {
      "cell_type": "code",
      "source": [
        "plt.plot(month , temperature_base)"
      ],
      "metadata": {
        "colab": {
          "base_uri": "https://localhost:8080/",
          "height": 283
        },
        "id": "jL22AwbR6Frn",
        "outputId": "da4843ab-fb12-480f-ec55-fa2b90a7fccb"
      },
      "execution_count": 24,
      "outputs": [
        {
          "output_type": "execute_result",
          "data": {
            "text/plain": [
              "[<matplotlib.lines.Line2D at 0x7f8c5a9c91d0>]"
            ]
          },
          "metadata": {},
          "execution_count": 24
        },
        {
          "output_type": "display_data",
          "data": {
            "text/plain": [
              "<Figure size 432x288 with 1 Axes>"
            ],
            "image/png": "[encoded data removed]"
          },
          "metadata": {
            "needs_background": "light"
          }
        }
      ]
    },
    {
      "cell_type": "code",
      "source": [
        "# cosines values are not correspond to temprtature-like values \n",
        "#we need to move the temperature up to create a higher values , \n",
        "#by adding an average tmperature , let's take avg of 15 degree celcius"
      ],
      "metadata": {
        "id": "Mc8R2Hbs6Ftw"
      },
      "execution_count": 25,
      "outputs": []
    },
    {
      "cell_type": "code",
      "source": [
        "avg_temp = 15\n",
        "temperature_shifted = temperature_base + avg_temp\n",
        "plt.plot(month , temperature_shifted)"
      ],
      "metadata": {
        "colab": {
          "base_uri": "https://localhost:8080/",
          "height": 283
        },
        "id": "CbyY8fe82UGy",
        "outputId": "55e33e9c-3ce4-4530-8f78-df331f2cc01b"
      },
      "execution_count": 26,
      "outputs": [
        {
          "output_type": "execute_result",
          "data": {
            "text/plain": [
              "[<matplotlib.lines.Line2D at 0x7f8c5a942790>]"
            ]
          },
          "metadata": {},
          "execution_count": 26
        },
        {
          "output_type": "display_data",
          "data": {
            "text/plain": [
              "<Figure size 432x288 with 1 Axes>"
            ],
            "image/png": "[encoded data removed]"
          },
          "metadata": {
            "needs_background": "light"
          }
        }
      ]
    },
    {
      "cell_type": "code",
      "source": [
        "# now we need to make the amplitude larger ( lower low and higher highs)\n",
        "# this is done by multiplying\n",
        "ampli = 10\n",
        "temperature_final = temperature_shifted * ampli + avg_temp\n",
        "plt.plot(month , temperature_final)"
      ],
      "metadata": {
        "colab": {
          "base_uri": "https://localhost:8080/",
          "height": 283
        },
        "id": "di7PSmwFvo62",
        "outputId": "7baa3460-22c6-488c-e1e0-69830e4c258b"
      },
      "execution_count": 27,
      "outputs": [
        {
          "output_type": "execute_result",
          "data": {
            "text/plain": [
              "[<matplotlib.lines.Line2D at 0x7f8c5a8bb950>]"
            ]
          },
          "metadata": {},
          "execution_count": 27
        },
        {
          "output_type": "display_data",
          "data": {
            "text/plain": [
              "<Figure size 432x288 with 1 Axes>"
            ],
            "image/png": "[encoded data removed]"
          },
          "metadata": {
            "needs_background": "light"
          }
        }
      ]
    },
    {
      "cell_type": "code",
      "source": [
        "hourly_x = np.linspace(0,24,24)\n",
        "daily_variations = - np.cos([0.25 * x for x in hourly_x])\n",
        "plt.plot(hourly_x , daily_variations)"
      ],
      "metadata": {
        "colab": {
          "base_uri": "https://localhost:8080/",
          "height": 283
        },
        "id": "iHuDaqngvo9I",
        "outputId": "b1e0d2c0-741d-42fa-b0df-71c7296f9fb1"
      },
      "execution_count": 28,
      "outputs": [
        {
          "output_type": "execute_result",
          "data": {
            "text/plain": [
              "[<matplotlib.lines.Line2D at 0x7f8c5a849910>]"
            ]
          },
          "metadata": {},
          "execution_count": 28
        },
        {
          "output_type": "display_data",
          "data": {
            "text/plain": [
              "<Figure size 432x288 with 1 Axes>"
            ],
            "image/png": "[encoded data removed]"
          },
          "metadata": {
            "needs_background": "light"
          }
        }
      ]
    },
    {
      "cell_type": "code",
      "source": [
        "import statsmodels.datasets\n",
        "# co2 dataset from statsmodels\n",
        "data = statsmodels.datasets.co2.load_pandas().data\n",
        "data.co2.interpolate(inplace=True)\n",
        "data"
      ],
      "metadata": {
        "colab": {
          "base_uri": "https://localhost:8080/",
          "height": 424
        },
        "id": "8vL_AhDivo_n",
        "outputId": "88b72d95-0cb0-4081-ee38-f09e4e026194"
      },
      "execution_count": 29,
      "outputs": [
        {
          "output_type": "execute_result",
          "data": {
            "text/plain": [
              "              co2\n",
              "1958-03-29  316.1\n",
              "1958-04-05  317.3\n",
              "1958-04-12  317.6\n",
              "1958-04-19  317.5\n",
              "1958-04-26  316.4\n",
              "...           ...\n",
              "2001-12-01  370.3\n",
              "2001-12-08  370.8\n",
              "2001-12-15  371.2\n",
              "2001-12-22  371.3\n",
              "2001-12-29  371.5\n",
              "\n",
              "[2284 rows x 1 columns]"
            ],
            "text/html": [
              "\n",
              "  <div id=\"df-20ad2242-1eab-4c76-8cd5-315d1fe15f75\">\n",
              "    <div class=\"colab-df-container\">\n",
              "      <div>\n",
              "<style scoped>\n",
              "    .dataframe tbody tr th:only-of-type {\n",
              "        vertical-align: middle;\n",
              "    }\n",
              "\n",
              "    .dataframe tbody tr th {\n",
              "        vertical-align: top;\n",
              "    }\n",
              "\n",
              "    .dataframe thead th {\n",
              "        text-align: right;\n",
              "    }\n",
              "</style>\n",
              "<table border=\"1\" class=\"dataframe\">\n",
              "  <thead>\n",
              "    <tr style=\"text-align: right;\">\n",
              "      <th></th>\n",
              "      <th>co2</th>\n",
              "    </tr>\n",
              "  </thead>\n",
              "  <tbody>\n",
              "    <tr>\n",
              "      <th>1958-03-29</th>\n",
              "      <td>316.1</td>\n",
              "    </tr>\n",
              "    <tr>\n",
              "      <th>1958-04-05</th>\n",
              "      <td>317.3</td>\n",
              "    </tr>\n",
              "    <tr>\n",
              "      <th>1958-04-12</th>\n",
              "      <td>317.6</td>\n",
              "    </tr>\n",
              "    <tr>\n",
              "      <th>1958-04-19</th>\n",
              "      <td>317.5</td>\n",
              "    </tr>\n",
              "    <tr>\n",
              "      <th>1958-04-26</th>\n",
              "      <td>316.4</td>\n",
              "    </tr>\n",
              "    <tr>\n",
              "      <th>...</th>\n",
              "      <td>...</td>\n",
              "    </tr>\n",
              "    <tr>\n",
              "      <th>2001-12-01</th>\n",
              "      <td>370.3</td>\n",
              "    </tr>\n",
              "    <tr>\n",
              "      <th>2001-12-08</th>\n",
              "      <td>370.8</td>\n",
              "    </tr>\n",
              "    <tr>\n",
              "      <th>2001-12-15</th>\n",
              "      <td>371.2</td>\n",
              "    </tr>\n",
              "    <tr>\n",
              "      <th>2001-12-22</th>\n",
              "      <td>371.3</td>\n",
              "    </tr>\n",
              "    <tr>\n",
              "      <th>2001-12-29</th>\n",
              "      <td>371.5</td>\n",
              "    </tr>\n",
              "  </tbody>\n",
              "</table>\n",
              "<p>2284 rows × 1 columns</p>\n",
              "</div>\n",
              "      <button class=\"colab-df-convert\" onclick=\"convertToInteractive('df-20ad2242-1eab-4c76-8cd5-315d1fe15f75')\"\n",
              "              title=\"Convert this dataframe to an interactive table.\"\n",
              "              style=\"display:none;\">\n",
              "        \n",
              "  <svg xmlns=\"http://www.w3.org/2000/svg\" height=\"24px\"viewBox=\"0 0 24 24\"\n",
              "       width=\"24px\">\n",
              "    <path d=\"M0 0h24v24H0V0z\" fill=\"none\"/>\n",
              "    <path d=\"M18.56 5.44l.94 2.06.94-2.06 2.06-.94-2.06-.94-.94-2.06-.94 2.06-2.06.94zm-11 1L8.5 8.5l.94-2.06 2.06-.94-2.06-.94L8.5 2.5l-.94 2.06-2.06.94zm10 10l.94 2.06.94-2.06 2.06-.94-2.06-.94-.94-2.06-.94 2.06-2.06.94z\"/><path d=\"M17.41 7.96l-1.37-1.37c-.4-.4-.92-.59-1.43-.59-.52 0-1.04.2-1.43.59L10.3 9.45l-7.72 7.72c-.78.78-.78 2.05 0 2.83L4 21.41c.39.39.9.59 1.41.59.51 0 1.02-.2 1.41-.59l7.78-7.78 2.81-2.81c.8-.78.8-2.07 0-2.86zM5.41 20L4 18.59l7.72-7.72 1.47 1.35L5.41 20z\"/>\n",
              "  </svg>\n",
              "      </button>\n",
              "      \n",
              "  <style>\n",
              "    .colab-df-container {\n",
              "      display:flex;\n",
              "      flex-wrap:wrap;\n",
              "      gap: 12px;\n",
              "    }\n",
              "\n",
              "    .colab-df-convert {\n",
              "      background-color: #E8F0FE;\n",
              "      border: none;\n",
              "      border-radius: 50%;\n",
              "      cursor: pointer;\n",
              "      display: none;\n",
              "      fill: #1967D2;\n",
              "      height: 32px;\n",
              "      padding: 0 0 0 0;\n",
              "      width: 32px;\n",
              "    }\n",
              "\n",
              "    .colab-df-convert:hover {\n",
              "      background-color: #E2EBFA;\n",
              "      box-shadow: 0px 1px 2px rgba(60, 64, 67, 0.3), 0px 1px 3px 1px rgba(60, 64, 67, 0.15);\n",
              "      fill: #174EA6;\n",
              "    }\n",
              "\n",
              "    [theme=dark] .colab-df-convert {\n",
              "      background-color: #3B4455;\n",
              "      fill: #D2E3FC;\n",
              "    }\n",
              "\n",
              "    [theme=dark] .colab-df-convert:hover {\n",
              "      background-color: #434B5C;\n",
              "      box-shadow: 0px 1px 3px 1px rgba(0, 0, 0, 0.15);\n",
              "      filter: drop-shadow(0px 1px 2px rgba(0, 0, 0, 0.3));\n",
              "      fill: #FFFFFF;\n",
              "    }\n",
              "  </style>\n",
              "\n",
              "      <script>\n",
              "        const buttonEl =\n",
              "          document.querySelector('#df-20ad2242-1eab-4c76-8cd5-315d1fe15f75 button.colab-df-convert');\n",
              "        buttonEl.style.display =\n",
              "          google.colab.kernel.accessAllowed ? 'block' : 'none';\n",
              "\n",
              "        async function convertToInteractive(key) {\n",
              "          const element = document.querySelector('#df-20ad2242-1eab-4c76-8cd5-315d1fe15f75');\n",
              "          const dataTable =\n",
              "            await google.colab.kernel.invokeFunction('convertToInteractive',\n",
              "                                                     [key], {});\n",
              "          if (!dataTable) return;\n",
              "\n",
              "          const docLinkHtml = 'Like what you see? Visit the ' +\n",
              "            '<a target=\"_blank\" href=https://colab.research.google.com/notebooks/data_table.ipynb>data table notebook</a>'\n",
              "            + ' to learn more about interactive tables.';\n",
              "          element.innerHTML = '';\n",
              "          dataTable['output_type'] = 'display_data';\n",
              "          await google.colab.output.renderOutput(dataTable, element);\n",
              "          const docLink = document.createElement('div');\n",
              "          docLink.innerHTML = docLinkHtml;\n",
              "          element.appendChild(docLink);\n",
              "        }\n",
              "      </script>\n",
              "    </div>\n",
              "  </div>\n",
              "  "
            ]
          },
          "metadata": {},
          "execution_count": 29
        }
      ]
    },
    {
      "cell_type": "code",
      "source": [
        "X = list(range(len(data.index)))\n",
        "y = data.co2"
      ],
      "metadata": {
        "id": "KEnwSz2zvpB2"
      },
      "execution_count": 30,
      "outputs": []
    },
    {
      "cell_type": "code",
      "source": [
        "fig = plt.figure()\n",
        "plt.plot(X,y)\n",
        "plt.ylabel(\"CO2\")\n",
        "plt.xlabel(\"Week\")"
      ],
      "metadata": {
        "colab": {
          "base_uri": "https://localhost:8080/",
          "height": 297
        },
        "id": "J0dwu7nNvpD6",
        "outputId": "215ee0cb-2fae-45e5-c4bd-4d1653ab8f63"
      },
      "execution_count": 31,
      "outputs": [
        {
          "output_type": "execute_result",
          "data": {
            "text/plain": [
              "Text(0.5, 0, 'Week')"
            ]
          },
          "metadata": {},
          "execution_count": 31
        },
        {
          "output_type": "display_data",
          "data": {
            "text/plain": [
              "<Figure size 432x288 with 1 Axes>"
            ],
            "image/png": "[encoded data removed]"
          },
          "metadata": {
            "needs_background": "light"
          }
        }
      ]
    },
    {
      "cell_type": "code",
      "source": [
        "# apply fast fourier transform and take absloute values\n",
        "\n",
        "f = abs(np.fft.fft(y))\n",
        "#get list of frequencies\n",
        "num = np.size(X)\n",
        "freq = [i / num for i in list(range(num))]\n",
        "# get a list of spectrums\n",
        "spectrum = f.real *f.real + f.imag*f.imag\n",
        "nspectrum = spectrum / spectrum[0]\n",
        "plt.semilogy(freq , nspectrum)"
      ],
      "metadata": {
        "colab": {
          "base_uri": "https://localhost:8080/",
          "height": 283
        },
        "id": "d2kxRstsvpGP",
        "outputId": "a97c3bd0-a9e5-4353-a801-fd5cbf1c093d"
      },
      "execution_count": 32,
      "outputs": [
        {
          "output_type": "execute_result",
          "data": {
            "text/plain": [
              "[<matplotlib.lines.Line2D at 0x7f8c5a6bb290>]"
            ]
          },
          "metadata": {},
          "execution_count": 32
        },
        {
          "output_type": "display_data",
          "data": {
            "text/plain": [
              "<Figure size 432x288 with 1 Axes>"
            ],
            "image/png": "[encoded data removed]"
          },
          "metadata": {
            "needs_background": "light"
          }
        }
      ]
    },
    {
      "cell_type": "code",
      "source": [
        "# improve the plot by adding periods in number of weeks rather than  frequency\n",
        "import pandas as pd\n",
        "results = pd.DataFrame({'freq': freq, 'nspectrum': nspectrum})\n",
        "results['period'] = results['freq'] / (1/52)\n",
        "plt.semilogy(results['period'], results['nspectrum'])"
      ],
      "metadata": {
        "colab": {
          "base_uri": "https://localhost:8080/",
          "height": 283
        },
        "id": "tvfoWYL7vpIl",
        "outputId": "468583f7-0a46-4b80-cbd9-752a5f7df633"
      },
      "execution_count": 33,
      "outputs": [
        {
          "output_type": "execute_result",
          "data": {
            "text/plain": [
              "[<matplotlib.lines.Line2D at 0x7f8c5a817b90>]"
            ]
          },
          "metadata": {},
          "execution_count": 33
        },
        {
          "output_type": "display_data",
          "data": {
            "text/plain": [
              "<Figure size 432x288 with 1 Axes>"
            ],
            "image/png": "[encoded data removed]"
          },
          "metadata": {
            "needs_background": "light"
          }
        }
      ]
    },
    {
      "cell_type": "code",
      "source": [
        "results[\"period_round\"] = results[\"period\"].round()\n",
        "grouped_week = results.groupby(\"period_round\")[\"nspectrum\"].sum()\n",
        "plt.semilogy(grouped_week.index, grouped_week)\n",
        "plt.xticks([1, 13, 26, 39, 52])"
      ],
      "metadata": {
        "colab": {
          "base_uri": "https://localhost:8080/",
          "height": 372
        },
        "id": "pS64fxOX-g4i",
        "outputId": "d0f2a79b-6427-4063-a808-f5851fe29ca7"
      },
      "execution_count": 34,
      "outputs": [
        {
          "output_type": "execute_result",
          "data": {
            "text/plain": [
              "([<matplotlib.axis.XTick at 0x7f8c5aa7aa10>,\n",
              "  <matplotlib.axis.XTick at 0x7f8c5aa7ae10>,\n",
              "  <matplotlib.axis.XTick at 0x7f8c5ab5c450>,\n",
              "  <matplotlib.axis.XTick at 0x7f8c5b6883d0>,\n",
              "  <matplotlib.axis.XTick at 0x7f8c5aa3f4d0>],\n",
              " <a list of 5 Text major ticklabel objects>)"
            ]
          },
          "metadata": {},
          "execution_count": 34
        },
        {
          "output_type": "display_data",
          "data": {
            "text/plain": [
              "<Figure size 432x288 with 1 Axes>"
            ],
            "image/png": "[encoded data removed]"
          },
          "metadata": {
            "needs_background": "light"
          }
        }
      ]
    },
    {
      "cell_type": "code",
      "source": [
        "import statsmodels.api as sm\n",
        "res = sm.tsa.seasonal_decompose(data.co2)\n",
        "resplot = res.plot()"
      ],
      "metadata": {
        "colab": {
          "base_uri": "https://localhost:8080/",
          "height": 297
        },
        "id": "2ww752LB_jPf",
        "outputId": "bd5bf60b-9c20-4495-d4fc-37caa61f09d8"
      },
      "execution_count": 35,
      "outputs": [
        {
          "output_type": "display_data",
          "data": {
            "text/plain": [
              "<Figure size 432x288 with 4 Axes>"
            ],
            "image/png": "[encoded data removed]"
          },
          "metadata": {
            "needs_background": "light"
          }
        }
      ]
    },
    {
      "cell_type": "code",
      "source": [
        "import pandas as pd\n",
        "df1 = pd.DataFrame([[1,2,3,4], [6,7,8,9]], columns=['D', 'B', 'E', 'A'], index=[1,2])\n",
        "df2 = pd.DataFrame([[10,20,30,40], [60,70,80,90], [600,700,800,900]], columns=['A', 'B', 'C', 'D'], index=[2,3,4])"
      ],
      "metadata": {
        "id": "4LGmsgNAC07H"
      },
      "execution_count": 36,
      "outputs": []
    },
    {
      "cell_type": "code",
      "source": [
        "df1"
      ],
      "metadata": {
        "colab": {
          "base_uri": "https://localhost:8080/",
          "height": 112
        },
        "id": "DrDV4FBuC09E",
        "outputId": "a17edc19-2f5c-49eb-c9e1-5d2c86559e0b"
      },
      "execution_count": 37,
      "outputs": [
        {
          "output_type": "execute_result",
          "data": {
            "text/plain": [
              "   D  B  E  A\n",
              "1  1  2  3  4\n",
              "2  6  7  8  9"
            ],
            "text/html": [
              "\n",
              "  <div id=\"df-9c21d112-0f4d-4b4e-bc61-779635f063a4\">\n",
              "    <div class=\"colab-df-container\">\n",
              "      <div>\n",
              "<style scoped>\n",
              "    .dataframe tbody tr th:only-of-type {\n",
              "        vertical-align: middle;\n",
              "    }\n",
              "\n",
              "    .dataframe tbody tr th {\n",
              "        vertical-align: top;\n",
              "    }\n",
              "\n",
              "    .dataframe thead th {\n",
              "        text-align: right;\n",
              "    }\n",
              "</style>\n",
              "<table border=\"1\" class=\"dataframe\">\n",
              "  <thead>\n",
              "    <tr style=\"text-align: right;\">\n",
              "      <th></th>\n",
              "      <th>D</th>\n",
              "      <th>B</th>\n",
              "      <th>E</th>\n",
              "      <th>A</th>\n",
              "    </tr>\n",
              "  </thead>\n",
              "  <tbody>\n",
              "    <tr>\n",
              "      <th>1</th>\n",
              "      <td>1</td>\n",
              "      <td>2</td>\n",
              "      <td>3</td>\n",
              "      <td>4</td>\n",
              "    </tr>\n",
              "    <tr>\n",
              "      <th>2</th>\n",
              "      <td>6</td>\n",
              "      <td>7</td>\n",
              "      <td>8</td>\n",
              "      <td>9</td>\n",
              "    </tr>\n",
              "  </tbody>\n",
              "</table>\n",
              "</div>\n",
              "      <button class=\"colab-df-convert\" onclick=\"convertToInteractive('df-9c21d112-0f4d-4b4e-bc61-779635f063a4')\"\n",
              "              title=\"Convert this dataframe to an interactive table.\"\n",
              "              style=\"display:none;\">\n",
              "        \n",
              "  <svg xmlns=\"http://www.w3.org/2000/svg\" height=\"24px\"viewBox=\"0 0 24 24\"\n",
              "       width=\"24px\">\n",
              "    <path d=\"M0 0h24v24H0V0z\" fill=\"none\"/>\n",
              "    <path d=\"M18.56 5.44l.94 2.06.94-2.06 2.06-.94-2.06-.94-.94-2.06-.94 2.06-2.06.94zm-11 1L8.5 8.5l.94-2.06 2.06-.94-2.06-.94L8.5 2.5l-.94 2.06-2.06.94zm10 10l.94 2.06.94-2.06 2.06-.94-2.06-.94-.94-2.06-.94 2.06-2.06.94z\"/><path d=\"M17.41 7.96l-1.37-1.37c-.4-.4-.92-.59-1.43-.59-.52 0-1.04.2-1.43.59L10.3 9.45l-7.72 7.72c-.78.78-.78 2.05 0 2.83L4 21.41c.39.39.9.59 1.41.59.51 0 1.02-.2 1.41-.59l7.78-7.78 2.81-2.81c.8-.78.8-2.07 0-2.86zM5.41 20L4 18.59l7.72-7.72 1.47 1.35L5.41 20z\"/>\n",
              "  </svg>\n",
              "      </button>\n",
              "      \n",
              "  <style>\n",
              "    .colab-df-container {\n",
              "      display:flex;\n",
              "      flex-wrap:wrap;\n",
              "      gap: 12px;\n",
              "    }\n",
              "\n",
              "    .colab-df-convert {\n",
              "      background-color: #E8F0FE;\n",
              "      border: none;\n",
              "      border-radius: 50%;\n",
              "      cursor: pointer;\n",
              "      display: none;\n",
              "      fill: #1967D2;\n",
              "      height: 32px;\n",
              "      padding: 0 0 0 0;\n",
              "      width: 32px;\n",
              "    }\n",
              "\n",
              "    .colab-df-convert:hover {\n",
              "      background-color: #E2EBFA;\n",
              "      box-shadow: 0px 1px 2px rgba(60, 64, 67, 0.3), 0px 1px 3px 1px rgba(60, 64, 67, 0.15);\n",
              "      fill: #174EA6;\n",
              "    }\n",
              "\n",
              "    [theme=dark] .colab-df-convert {\n",
              "      background-color: #3B4455;\n",
              "      fill: #D2E3FC;\n",
              "    }\n",
              "\n",
              "    [theme=dark] .colab-df-convert:hover {\n",
              "      background-color: #434B5C;\n",
              "      box-shadow: 0px 1px 3px 1px rgba(0, 0, 0, 0.15);\n",
              "      filter: drop-shadow(0px 1px 2px rgba(0, 0, 0, 0.3));\n",
              "      fill: #FFFFFF;\n",
              "    }\n",
              "  </style>\n",
              "\n",
              "      <script>\n",
              "        const buttonEl =\n",
              "          document.querySelector('#df-9c21d112-0f4d-4b4e-bc61-779635f063a4 button.colab-df-convert');\n",
              "        buttonEl.style.display =\n",
              "          google.colab.kernel.accessAllowed ? 'block' : 'none';\n",
              "\n",
              "        async function convertToInteractive(key) {\n",
              "          const element = document.querySelector('#df-9c21d112-0f4d-4b4e-bc61-779635f063a4');\n",
              "          const dataTable =\n",
              "            await google.colab.kernel.invokeFunction('convertToInteractive',\n",
              "                                                     [key], {});\n",
              "          if (!dataTable) return;\n",
              "\n",
              "          const docLinkHtml = 'Like what you see? Visit the ' +\n",
              "            '<a target=\"_blank\" href=https://colab.research.google.com/notebooks/data_table.ipynb>data table notebook</a>'\n",
              "            + ' to learn more about interactive tables.';\n",
              "          element.innerHTML = '';\n",
              "          dataTable['output_type'] = 'display_data';\n",
              "          await google.colab.output.renderOutput(dataTable, element);\n",
              "          const docLink = document.createElement('div');\n",
              "          docLink.innerHTML = docLinkHtml;\n",
              "          element.appendChild(docLink);\n",
              "        }\n",
              "      </script>\n",
              "    </div>\n",
              "  </div>\n",
              "  "
            ]
          },
          "metadata": {},
          "execution_count": 37
        }
      ]
    },
    {
      "cell_type": "code",
      "source": [
        "df2"
      ],
      "metadata": {
        "colab": {
          "base_uri": "https://localhost:8080/",
          "height": 143
        },
        "id": "UKro34eJDN76",
        "outputId": "e1aec342-d76f-4859-daec-9b85ec9b91ea"
      },
      "execution_count": 38,
      "outputs": [
        {
          "output_type": "execute_result",
          "data": {
            "text/plain": [
              "     A    B    C    D\n",
              "2   10   20   30   40\n",
              "3   60   70   80   90\n",
              "4  600  700  800  900"
            ],
            "text/html": [
              "\n",
              "  <div id=\"df-1c8b3f70-fb68-45d8-85e8-17e86d7c7db1\">\n",
              "    <div class=\"colab-df-container\">\n",
              "      <div>\n",
              "<style scoped>\n",
              "    .dataframe tbody tr th:only-of-type {\n",
              "        vertical-align: middle;\n",
              "    }\n",
              "\n",
              "    .dataframe tbody tr th {\n",
              "        vertical-align: top;\n",
              "    }\n",
              "\n",
              "    .dataframe thead th {\n",
              "        text-align: right;\n",
              "    }\n",
              "</style>\n",
              "<table border=\"1\" class=\"dataframe\">\n",
              "  <thead>\n",
              "    <tr style=\"text-align: right;\">\n",
              "      <th></th>\n",
              "      <th>A</th>\n",
              "      <th>B</th>\n",
              "      <th>C</th>\n",
              "      <th>D</th>\n",
              "    </tr>\n",
              "  </thead>\n",
              "  <tbody>\n",
              "    <tr>\n",
              "      <th>2</th>\n",
              "      <td>10</td>\n",
              "      <td>20</td>\n",
              "      <td>30</td>\n",
              "      <td>40</td>\n",
              "    </tr>\n",
              "    <tr>\n",
              "      <th>3</th>\n",
              "      <td>60</td>\n",
              "      <td>70</td>\n",
              "      <td>80</td>\n",
              "      <td>90</td>\n",
              "    </tr>\n",
              "    <tr>\n",
              "      <th>4</th>\n",
              "      <td>600</td>\n",
              "      <td>700</td>\n",
              "      <td>800</td>\n",
              "      <td>900</td>\n",
              "    </tr>\n",
              "  </tbody>\n",
              "</table>\n",
              "</div>\n",
              "      <button class=\"colab-df-convert\" onclick=\"convertToInteractive('df-1c8b3f70-fb68-45d8-85e8-17e86d7c7db1')\"\n",
              "              title=\"Convert this dataframe to an interactive table.\"\n",
              "              style=\"display:none;\">\n",
              "        \n",
              "  <svg xmlns=\"http://www.w3.org/2000/svg\" height=\"24px\"viewBox=\"0 0 24 24\"\n",
              "       width=\"24px\">\n",
              "    <path d=\"M0 0h24v24H0V0z\" fill=\"none\"/>\n",
              "    <path d=\"M18.56 5.44l.94 2.06.94-2.06 2.06-.94-2.06-.94-.94-2.06-.94 2.06-2.06.94zm-11 1L8.5 8.5l.94-2.06 2.06-.94-2.06-.94L8.5 2.5l-.94 2.06-2.06.94zm10 10l.94 2.06.94-2.06 2.06-.94-2.06-.94-.94-2.06-.94 2.06-2.06.94z\"/><path d=\"M17.41 7.96l-1.37-1.37c-.4-.4-.92-.59-1.43-.59-.52 0-1.04.2-1.43.59L10.3 9.45l-7.72 7.72c-.78.78-.78 2.05 0 2.83L4 21.41c.39.39.9.59 1.41.59.51 0 1.02-.2 1.41-.59l7.78-7.78 2.81-2.81c.8-.78.8-2.07 0-2.86zM5.41 20L4 18.59l7.72-7.72 1.47 1.35L5.41 20z\"/>\n",
              "  </svg>\n",
              "      </button>\n",
              "      \n",
              "  <style>\n",
              "    .colab-df-container {\n",
              "      display:flex;\n",
              "      flex-wrap:wrap;\n",
              "      gap: 12px;\n",
              "    }\n",
              "\n",
              "    .colab-df-convert {\n",
              "      background-color: #E8F0FE;\n",
              "      border: none;\n",
              "      border-radius: 50%;\n",
              "      cursor: pointer;\n",
              "      display: none;\n",
              "      fill: #1967D2;\n",
              "      height: 32px;\n",
              "      padding: 0 0 0 0;\n",
              "      width: 32px;\n",
              "    }\n",
              "\n",
              "    .colab-df-convert:hover {\n",
              "      background-color: #E2EBFA;\n",
              "      box-shadow: 0px 1px 2px rgba(60, 64, 67, 0.3), 0px 1px 3px 1px rgba(60, 64, 67, 0.15);\n",
              "      fill: #174EA6;\n",
              "    }\n",
              "\n",
              "    [theme=dark] .colab-df-convert {\n",
              "      background-color: #3B4455;\n",
              "      fill: #D2E3FC;\n",
              "    }\n",
              "\n",
              "    [theme=dark] .colab-df-convert:hover {\n",
              "      background-color: #434B5C;\n",
              "      box-shadow: 0px 1px 3px 1px rgba(0, 0, 0, 0.15);\n",
              "      filter: drop-shadow(0px 1px 2px rgba(0, 0, 0, 0.3));\n",
              "      fill: #FFFFFF;\n",
              "    }\n",
              "  </style>\n",
              "\n",
              "      <script>\n",
              "        const buttonEl =\n",
              "          document.querySelector('#df-1c8b3f70-fb68-45d8-85e8-17e86d7c7db1 button.colab-df-convert');\n",
              "        buttonEl.style.display =\n",
              "          google.colab.kernel.accessAllowed ? 'block' : 'none';\n",
              "\n",
              "        async function convertToInteractive(key) {\n",
              "          const element = document.querySelector('#df-1c8b3f70-fb68-45d8-85e8-17e86d7c7db1');\n",
              "          const dataTable =\n",
              "            await google.colab.kernel.invokeFunction('convertToInteractive',\n",
              "                                                     [key], {});\n",
              "          if (!dataTable) return;\n",
              "\n",
              "          const docLinkHtml = 'Like what you see? Visit the ' +\n",
              "            '<a target=\"_blank\" href=https://colab.research.google.com/notebooks/data_table.ipynb>data table notebook</a>'\n",
              "            + ' to learn more about interactive tables.';\n",
              "          element.innerHTML = '';\n",
              "          dataTable['output_type'] = 'display_data';\n",
              "          await google.colab.output.renderOutput(dataTable, element);\n",
              "          const docLink = document.createElement('div');\n",
              "          docLink.innerHTML = docLinkHtml;\n",
              "          element.appendChild(docLink);\n",
              "        }\n",
              "      </script>\n",
              "    </div>\n",
              "  </div>\n",
              "  "
            ]
          },
          "metadata": {},
          "execution_count": 38
        }
      ]
    },
    {
      "cell_type": "code",
      "source": [
        "df_res = pd.concat([df1,df2],axis=1,join=\"outer\")"
      ],
      "metadata": {
        "id": "Bz9o-S3FDP9P"
      },
      "execution_count": 39,
      "outputs": []
    },
    {
      "cell_type": "code",
      "source": [
        "df_res"
      ],
      "metadata": {
        "colab": {
          "base_uri": "https://localhost:8080/",
          "height": 175
        },
        "id": "Y-qkW11vzobR",
        "outputId": "dd4856bc-2258-4c68-d34b-c9ddc07c29ee"
      },
      "execution_count": 40,
      "outputs": [
        {
          "output_type": "execute_result",
          "data": {
            "text/plain": [
              "     D    B    E    A      A      B      C      D\n",
              "1  1.0  2.0  3.0  4.0    NaN    NaN    NaN    NaN\n",
              "2  6.0  7.0  8.0  9.0   10.0   20.0   30.0   40.0\n",
              "3  NaN  NaN  NaN  NaN   60.0   70.0   80.0   90.0\n",
              "4  NaN  NaN  NaN  NaN  600.0  700.0  800.0  900.0"
            ],
            "text/html": [
              "\n",
              "  <div id=\"df-6e48db93-499b-460a-8045-4be545c24c3a\">\n",
              "    <div class=\"colab-df-container\">\n",
              "      <div>\n",
              "<style scoped>\n",
              "    .dataframe tbody tr th:only-of-type {\n",
              "        vertical-align: middle;\n",
              "    }\n",
              "\n",
              "    .dataframe tbody tr th {\n",
              "        vertical-align: top;\n",
              "    }\n",
              "\n",
              "    .dataframe thead th {\n",
              "        text-align: right;\n",
              "    }\n",
              "</style>\n",
              "<table border=\"1\" class=\"dataframe\">\n",
              "  <thead>\n",
              "    <tr style=\"text-align: right;\">\n",
              "      <th></th>\n",
              "      <th>D</th>\n",
              "      <th>B</th>\n",
              "      <th>E</th>\n",
              "      <th>A</th>\n",
              "      <th>A</th>\n",
              "      <th>B</th>\n",
              "      <th>C</th>\n",
              "      <th>D</th>\n",
              "    </tr>\n",
              "  </thead>\n",
              "  <tbody>\n",
              "    <tr>\n",
              "      <th>1</th>\n",
              "      <td>1.0</td>\n",
              "      <td>2.0</td>\n",
              "      <td>3.0</td>\n",
              "      <td>4.0</td>\n",
              "      <td>NaN</td>\n",
              "      <td>NaN</td>\n",
              "      <td>NaN</td>\n",
              "      <td>NaN</td>\n",
              "    </tr>\n",
              "    <tr>\n",
              "      <th>2</th>\n",
              "      <td>6.0</td>\n",
              "      <td>7.0</td>\n",
              "      <td>8.0</td>\n",
              "      <td>9.0</td>\n",
              "      <td>10.0</td>\n",
              "      <td>20.0</td>\n",
              "      <td>30.0</td>\n",
              "      <td>40.0</td>\n",
              "    </tr>\n",
              "    <tr>\n",
              "      <th>3</th>\n",
              "      <td>NaN</td>\n",
              "      <td>NaN</td>\n",
              "      <td>NaN</td>\n",
              "      <td>NaN</td>\n",
              "      <td>60.0</td>\n",
              "      <td>70.0</td>\n",
              "      <td>80.0</td>\n",
              "      <td>90.0</td>\n",
              "    </tr>\n",
              "    <tr>\n",
              "      <th>4</th>\n",
              "      <td>NaN</td>\n",
              "      <td>NaN</td>\n",
              "      <td>NaN</td>\n",
              "      <td>NaN</td>\n",
              "      <td>600.0</td>\n",
              "      <td>700.0</td>\n",
              "      <td>800.0</td>\n",
              "      <td>900.0</td>\n",
              "    </tr>\n",
              "  </tbody>\n",
              "</table>\n",
              "</div>\n",
              "      <button class=\"colab-df-convert\" onclick=\"convertToInteractive('df-6e48db93-499b-460a-8045-4be545c24c3a')\"\n",
              "              title=\"Convert this dataframe to an interactive table.\"\n",
              "              style=\"display:none;\">\n",
              "        \n",
              "  <svg xmlns=\"http://www.w3.org/2000/svg\" height=\"24px\"viewBox=\"0 0 24 24\"\n",
              "       width=\"24px\">\n",
              "    <path d=\"M0 0h24v24H0V0z\" fill=\"none\"/>\n",
              "    <path d=\"M18.56 5.44l.94 2.06.94-2.06 2.06-.94-2.06-.94-.94-2.06-.94 2.06-2.06.94zm-11 1L8.5 8.5l.94-2.06 2.06-.94-2.06-.94L8.5 2.5l-.94 2.06-2.06.94zm10 10l.94 2.06.94-2.06 2.06-.94-2.06-.94-.94-2.06-.94 2.06-2.06.94z\"/><path d=\"M17.41 7.96l-1.37-1.37c-.4-.4-.92-.59-1.43-.59-.52 0-1.04.2-1.43.59L10.3 9.45l-7.72 7.72c-.78.78-.78 2.05 0 2.83L4 21.41c.39.39.9.59 1.41.59.51 0 1.02-.2 1.41-.59l7.78-7.78 2.81-2.81c.8-.78.8-2.07 0-2.86zM5.41 20L4 18.59l7.72-7.72 1.47 1.35L5.41 20z\"/>\n",
              "  </svg>\n",
              "      </button>\n",
              "      \n",
              "  <style>\n",
              "    .colab-df-container {\n",
              "      display:flex;\n",
              "      flex-wrap:wrap;\n",
              "      gap: 12px;\n",
              "    }\n",
              "\n",
              "    .colab-df-convert {\n",
              "      background-color: #E8F0FE;\n",
              "      border: none;\n",
              "      border-radius: 50%;\n",
              "      cursor: pointer;\n",
              "      display: none;\n",
              "      fill: #1967D2;\n",
              "      height: 32px;\n",
              "      padding: 0 0 0 0;\n",
              "      width: 32px;\n",
              "    }\n",
              "\n",
              "    .colab-df-convert:hover {\n",
              "      background-color: #E2EBFA;\n",
              "      box-shadow: 0px 1px 2px rgba(60, 64, 67, 0.3), 0px 1px 3px 1px rgba(60, 64, 67, 0.15);\n",
              "      fill: #174EA6;\n",
              "    }\n",
              "\n",
              "    [theme=dark] .colab-df-convert {\n",
              "      background-color: #3B4455;\n",
              "      fill: #D2E3FC;\n",
              "    }\n",
              "\n",
              "    [theme=dark] .colab-df-convert:hover {\n",
              "      background-color: #434B5C;\n",
              "      box-shadow: 0px 1px 3px 1px rgba(0, 0, 0, 0.15);\n",
              "      filter: drop-shadow(0px 1px 2px rgba(0, 0, 0, 0.3));\n",
              "      fill: #FFFFFF;\n",
              "    }\n",
              "  </style>\n",
              "\n",
              "      <script>\n",
              "        const buttonEl =\n",
              "          document.querySelector('#df-6e48db93-499b-460a-8045-4be545c24c3a button.colab-df-convert');\n",
              "        buttonEl.style.display =\n",
              "          google.colab.kernel.accessAllowed ? 'block' : 'none';\n",
              "\n",
              "        async function convertToInteractive(key) {\n",
              "          const element = document.querySelector('#df-6e48db93-499b-460a-8045-4be545c24c3a');\n",
              "          const dataTable =\n",
              "            await google.colab.kernel.invokeFunction('convertToInteractive',\n",
              "                                                     [key], {});\n",
              "          if (!dataTable) return;\n",
              "\n",
              "          const docLinkHtml = 'Like what you see? Visit the ' +\n",
              "            '<a target=\"_blank\" href=https://colab.research.google.com/notebooks/data_table.ipynb>data table notebook</a>'\n",
              "            + ' to learn more about interactive tables.';\n",
              "          element.innerHTML = '';\n",
              "          dataTable['output_type'] = 'display_data';\n",
              "          await google.colab.output.renderOutput(dataTable, element);\n",
              "          const docLink = document.createElement('div');\n",
              "          docLink.innerHTML = docLinkHtml;\n",
              "          element.appendChild(docLink);\n",
              "        }\n",
              "      </script>\n",
              "    </div>\n",
              "  </div>\n",
              "  "
            ]
          },
          "metadata": {},
          "execution_count": 40
        }
      ]
    },
    {
      "cell_type": "code",
      "source": [
        "# Adding a Y-Axis Label to the\n",
        "# Secondary Y-Axis in Matplotlib\n",
        "# importing the libraries\n",
        "import numpy as np\n",
        "import matplotlib.pyplot as plt\n",
        "\n",
        "# creating data for plot\n",
        "# data arrangement between 0 and 50 with the difference of 2\n",
        "# x-axis values\n",
        "x = np.arange(0, 50, 2)\n",
        "\n",
        "#y-axis values\n",
        "y1 = x**2\n",
        "\n",
        "# secondary y-axis values\n",
        "y2 = x**3\n",
        "\n",
        "# plotting figures by creating axes object\n",
        "# using subplots() function\n",
        "fig, ax = plt.subplots(figsize = (10, 5))\n",
        "plt.title('Example of Two Y labels')\n",
        "\n",
        "# using the twinx() for creating\n",
        "# another axes object for secondary y-Axis\n",
        "ax2 = ax.twinx()\n",
        "# creating a bar plot\n",
        "ax.bar(x, y1, color = 'g')\n",
        "ax2.bar(x, y2, color = 'b')\n",
        "\n",
        "# giving labels to the axises\n",
        "ax.set_xlabel('x-axis', color = 'r')\n",
        "ax.set_ylabel('y1-axis', color = 'g')\n",
        "\n",
        "# secondary y-axis label\n",
        "ax2.set_ylabel('Secondary y-axis', color = 'b')\n",
        "\n",
        "# defining display layout\n",
        "plt.tight_layout()\n",
        "\n",
        "# show plot\n",
        "plt.show()\n"
      ],
      "metadata": {
        "colab": {
          "base_uri": "https://localhost:8080/",
          "height": 328
        },
        "id": "nHVNtJZkDbTR",
        "outputId": "33e85d1f-db17-4465-8c9b-a4b7ba9e73c5"
      },
      "execution_count": 41,
      "outputs": [
        {
          "output_type": "display_data",
          "data": {
            "text/plain": [
              "<Figure size 720x360 with 2 Axes>"
            ],
            "image/png": "[encoded data removed]"
          },
          "metadata": {
            "needs_background": "light"
          }
        }
      ]
    },
    {
      "cell_type": "code",
      "source": [
        "import pandas as pd\n",
        "df1 = pd.DataFrame([[1,2,3,4], [6,7,8,9]], columns=['D', 'B', 'E', 'A'], index=[1,2])\n",
        "df2 = pd.DataFrame([[10,20,30,40], [60,70,80,90], [600,700,800,900]], columns=['A', 'B', 'C', 'D'], index=[2,3,4])"
      ],
      "metadata": {
        "id": "Tmg_fPUKJW4o"
      },
      "execution_count": 42,
      "outputs": []
    },
    {
      "cell_type": "code",
      "source": [
        "df1"
      ],
      "metadata": {
        "colab": {
          "base_uri": "https://localhost:8080/",
          "height": 112
        },
        "id": "kjD0CigzJW63",
        "outputId": "ee3a9d3b-0fb6-461d-ab19-05c5441d0645"
      },
      "execution_count": 43,
      "outputs": [
        {
          "output_type": "execute_result",
          "data": {
            "text/plain": [
              "   D  B  E  A\n",
              "1  1  2  3  4\n",
              "2  6  7  8  9"
            ],
            "text/html": [
              "\n",
              "  <div id=\"df-911303f4-6ab5-4a68-851a-04ee5e078602\">\n",
              "    <div class=\"colab-df-container\">\n",
              "      <div>\n",
              "<style scoped>\n",
              "    .dataframe tbody tr th:only-of-type {\n",
              "        vertical-align: middle;\n",
              "    }\n",
              "\n",
              "    .dataframe tbody tr th {\n",
              "        vertical-align: top;\n",
              "    }\n",
              "\n",
              "    .dataframe thead th {\n",
              "        text-align: right;\n",
              "    }\n",
              "</style>\n",
              "<table border=\"1\" class=\"dataframe\">\n",
              "  <thead>\n",
              "    <tr style=\"text-align: right;\">\n",
              "      <th></th>\n",
              "      <th>D</th>\n",
              "      <th>B</th>\n",
              "      <th>E</th>\n",
              "      <th>A</th>\n",
              "    </tr>\n",
              "  </thead>\n",
              "  <tbody>\n",
              "    <tr>\n",
              "      <th>1</th>\n",
              "      <td>1</td>\n",
              "      <td>2</td>\n",
              "      <td>3</td>\n",
              "      <td>4</td>\n",
              "    </tr>\n",
              "    <tr>\n",
              "      <th>2</th>\n",
              "      <td>6</td>\n",
              "      <td>7</td>\n",
              "      <td>8</td>\n",
              "      <td>9</td>\n",
              "    </tr>\n",
              "  </tbody>\n",
              "</table>\n",
              "</div>\n",
              "      <button class=\"colab-df-convert\" onclick=\"convertToInteractive('df-911303f4-6ab5-4a68-851a-04ee5e078602')\"\n",
              "              title=\"Convert this dataframe to an interactive table.\"\n",
              "              style=\"display:none;\">\n",
              "        \n",
              "  <svg xmlns=\"http://www.w3.org/2000/svg\" height=\"24px\"viewBox=\"0 0 24 24\"\n",
              "       width=\"24px\">\n",
              "    <path d=\"M0 0h24v24H0V0z\" fill=\"none\"/>\n",
              "    <path d=\"M18.56 5.44l.94 2.06.94-2.06 2.06-.94-2.06-.94-.94-2.06-.94 2.06-2.06.94zm-11 1L8.5 8.5l.94-2.06 2.06-.94-2.06-.94L8.5 2.5l-.94 2.06-2.06.94zm10 10l.94 2.06.94-2.06 2.06-.94-2.06-.94-.94-2.06-.94 2.06-2.06.94z\"/><path d=\"M17.41 7.96l-1.37-1.37c-.4-.4-.92-.59-1.43-.59-.52 0-1.04.2-1.43.59L10.3 9.45l-7.72 7.72c-.78.78-.78 2.05 0 2.83L4 21.41c.39.39.9.59 1.41.59.51 0 1.02-.2 1.41-.59l7.78-7.78 2.81-2.81c.8-.78.8-2.07 0-2.86zM5.41 20L4 18.59l7.72-7.72 1.47 1.35L5.41 20z\"/>\n",
              "  </svg>\n",
              "      </button>\n",
              "      \n",
              "  <style>\n",
              "    .colab-df-container {\n",
              "      display:flex;\n",
              "      flex-wrap:wrap;\n",
              "      gap: 12px;\n",
              "    }\n",
              "\n",
              "    .colab-df-convert {\n",
              "      background-color: #E8F0FE;\n",
              "      border: none;\n",
              "      border-radius: 50%;\n",
              "      cursor: pointer;\n",
              "      display: none;\n",
              "      fill: #1967D2;\n",
              "      height: 32px;\n",
              "      padding: 0 0 0 0;\n",
              "      width: 32px;\n",
              "    }\n",
              "\n",
              "    .colab-df-convert:hover {\n",
              "      background-color: #E2EBFA;\n",
              "      box-shadow: 0px 1px 2px rgba(60, 64, 67, 0.3), 0px 1px 3px 1px rgba(60, 64, 67, 0.15);\n",
              "      fill: #174EA6;\n",
              "    }\n",
              "\n",
              "    [theme=dark] .colab-df-convert {\n",
              "      background-color: #3B4455;\n",
              "      fill: #D2E3FC;\n",
              "    }\n",
              "\n",
              "    [theme=dark] .colab-df-convert:hover {\n",
              "      background-color: #434B5C;\n",
              "      box-shadow: 0px 1px 3px 1px rgba(0, 0, 0, 0.15);\n",
              "      filter: drop-shadow(0px 1px 2px rgba(0, 0, 0, 0.3));\n",
              "      fill: #FFFFFF;\n",
              "    }\n",
              "  </style>\n",
              "\n",
              "      <script>\n",
              "        const buttonEl =\n",
              "          document.querySelector('#df-911303f4-6ab5-4a68-851a-04ee5e078602 button.colab-df-convert');\n",
              "        buttonEl.style.display =\n",
              "          google.colab.kernel.accessAllowed ? 'block' : 'none';\n",
              "\n",
              "        async function convertToInteractive(key) {\n",
              "          const element = document.querySelector('#df-911303f4-6ab5-4a68-851a-04ee5e078602');\n",
              "          const dataTable =\n",
              "            await google.colab.kernel.invokeFunction('convertToInteractive',\n",
              "                                                     [key], {});\n",
              "          if (!dataTable) return;\n",
              "\n",
              "          const docLinkHtml = 'Like what you see? Visit the ' +\n",
              "            '<a target=\"_blank\" href=https://colab.research.google.com/notebooks/data_table.ipynb>data table notebook</a>'\n",
              "            + ' to learn more about interactive tables.';\n",
              "          element.innerHTML = '';\n",
              "          dataTable['output_type'] = 'display_data';\n",
              "          await google.colab.output.renderOutput(dataTable, element);\n",
              "          const docLink = document.createElement('div');\n",
              "          docLink.innerHTML = docLinkHtml;\n",
              "          element.appendChild(docLink);\n",
              "        }\n",
              "      </script>\n",
              "    </div>\n",
              "  </div>\n",
              "  "
            ]
          },
          "metadata": {},
          "execution_count": 43
        }
      ]
    },
    {
      "cell_type": "code",
      "source": [
        "df2"
      ],
      "metadata": {
        "colab": {
          "base_uri": "https://localhost:8080/",
          "height": 143
        },
        "id": "iioLb59CJW9E",
        "outputId": "633882fc-d764-4b74-9163-d0089c5f77c2"
      },
      "execution_count": 44,
      "outputs": [
        {
          "output_type": "execute_result",
          "data": {
            "text/plain": [
              "     A    B    C    D\n",
              "2   10   20   30   40\n",
              "3   60   70   80   90\n",
              "4  600  700  800  900"
            ],
            "text/html": [
              "\n",
              "  <div id=\"df-624fded0-c76c-43a0-bef7-66c1c09741f2\">\n",
              "    <div class=\"colab-df-container\">\n",
              "      <div>\n",
              "<style scoped>\n",
              "    .dataframe tbody tr th:only-of-type {\n",
              "        vertical-align: middle;\n",
              "    }\n",
              "\n",
              "    .dataframe tbody tr th {\n",
              "        vertical-align: top;\n",
              "    }\n",
              "\n",
              "    .dataframe thead th {\n",
              "        text-align: right;\n",
              "    }\n",
              "</style>\n",
              "<table border=\"1\" class=\"dataframe\">\n",
              "  <thead>\n",
              "    <tr style=\"text-align: right;\">\n",
              "      <th></th>\n",
              "      <th>A</th>\n",
              "      <th>B</th>\n",
              "      <th>C</th>\n",
              "      <th>D</th>\n",
              "    </tr>\n",
              "  </thead>\n",
              "  <tbody>\n",
              "    <tr>\n",
              "      <th>2</th>\n",
              "      <td>10</td>\n",
              "      <td>20</td>\n",
              "      <td>30</td>\n",
              "      <td>40</td>\n",
              "    </tr>\n",
              "    <tr>\n",
              "      <th>3</th>\n",
              "      <td>60</td>\n",
              "      <td>70</td>\n",
              "      <td>80</td>\n",
              "      <td>90</td>\n",
              "    </tr>\n",
              "    <tr>\n",
              "      <th>4</th>\n",
              "      <td>600</td>\n",
              "      <td>700</td>\n",
              "      <td>800</td>\n",
              "      <td>900</td>\n",
              "    </tr>\n",
              "  </tbody>\n",
              "</table>\n",
              "</div>\n",
              "      <button class=\"colab-df-convert\" onclick=\"convertToInteractive('df-624fded0-c76c-43a0-bef7-66c1c09741f2')\"\n",
              "              title=\"Convert this dataframe to an interactive table.\"\n",
              "              style=\"display:none;\">\n",
              "        \n",
              "  <svg xmlns=\"http://www.w3.org/2000/svg\" height=\"24px\"viewBox=\"0 0 24 24\"\n",
              "       width=\"24px\">\n",
              "    <path d=\"M0 0h24v24H0V0z\" fill=\"none\"/>\n",
              "    <path d=\"M18.56 5.44l.94 2.06.94-2.06 2.06-.94-2.06-.94-.94-2.06-.94 2.06-2.06.94zm-11 1L8.5 8.5l.94-2.06 2.06-.94-2.06-.94L8.5 2.5l-.94 2.06-2.06.94zm10 10l.94 2.06.94-2.06 2.06-.94-2.06-.94-.94-2.06-.94 2.06-2.06.94z\"/><path d=\"M17.41 7.96l-1.37-1.37c-.4-.4-.92-.59-1.43-.59-.52 0-1.04.2-1.43.59L10.3 9.45l-7.72 7.72c-.78.78-.78 2.05 0 2.83L4 21.41c.39.39.9.59 1.41.59.51 0 1.02-.2 1.41-.59l7.78-7.78 2.81-2.81c.8-.78.8-2.07 0-2.86zM5.41 20L4 18.59l7.72-7.72 1.47 1.35L5.41 20z\"/>\n",
              "  </svg>\n",
              "      </button>\n",
              "      \n",
              "  <style>\n",
              "    .colab-df-container {\n",
              "      display:flex;\n",
              "      flex-wrap:wrap;\n",
              "      gap: 12px;\n",
              "    }\n",
              "\n",
              "    .colab-df-convert {\n",
              "      background-color: #E8F0FE;\n",
              "      border: none;\n",
              "      border-radius: 50%;\n",
              "      cursor: pointer;\n",
              "      display: none;\n",
              "      fill: #1967D2;\n",
              "      height: 32px;\n",
              "      padding: 0 0 0 0;\n",
              "      width: 32px;\n",
              "    }\n",
              "\n",
              "    .colab-df-convert:hover {\n",
              "      background-color: #E2EBFA;\n",
              "      box-shadow: 0px 1px 2px rgba(60, 64, 67, 0.3), 0px 1px 3px 1px rgba(60, 64, 67, 0.15);\n",
              "      fill: #174EA6;\n",
              "    }\n",
              "\n",
              "    [theme=dark] .colab-df-convert {\n",
              "      background-color: #3B4455;\n",
              "      fill: #D2E3FC;\n",
              "    }\n",
              "\n",
              "    [theme=dark] .colab-df-convert:hover {\n",
              "      background-color: #434B5C;\n",
              "      box-shadow: 0px 1px 3px 1px rgba(0, 0, 0, 0.15);\n",
              "      filter: drop-shadow(0px 1px 2px rgba(0, 0, 0, 0.3));\n",
              "      fill: #FFFFFF;\n",
              "    }\n",
              "  </style>\n",
              "\n",
              "      <script>\n",
              "        const buttonEl =\n",
              "          document.querySelector('#df-624fded0-c76c-43a0-bef7-66c1c09741f2 button.colab-df-convert');\n",
              "        buttonEl.style.display =\n",
              "          google.colab.kernel.accessAllowed ? 'block' : 'none';\n",
              "\n",
              "        async function convertToInteractive(key) {\n",
              "          const element = document.querySelector('#df-624fded0-c76c-43a0-bef7-66c1c09741f2');\n",
              "          const dataTable =\n",
              "            await google.colab.kernel.invokeFunction('convertToInteractive',\n",
              "                                                     [key], {});\n",
              "          if (!dataTable) return;\n",
              "\n",
              "          const docLinkHtml = 'Like what you see? Visit the ' +\n",
              "            '<a target=\"_blank\" href=https://colab.research.google.com/notebooks/data_table.ipynb>data table notebook</a>'\n",
              "            + ' to learn more about interactive tables.';\n",
              "          element.innerHTML = '';\n",
              "          dataTable['output_type'] = 'display_data';\n",
              "          await google.colab.output.renderOutput(dataTable, element);\n",
              "          const docLink = document.createElement('div');\n",
              "          docLink.innerHTML = docLinkHtml;\n",
              "          element.appendChild(docLink);\n",
              "        }\n",
              "      </script>\n",
              "    </div>\n",
              "  </div>\n",
              "  "
            ]
          },
          "metadata": {},
          "execution_count": 44
        }
      ]
    },
    {
      "cell_type": "code",
      "source": [
        "df2,df1 = df2.align(df1, join='inner')"
      ],
      "metadata": {
        "id": "UxID291pJhXH"
      },
      "execution_count": 45,
      "outputs": []
    },
    {
      "cell_type": "code",
      "source": [
        "df1"
      ],
      "metadata": {
        "colab": {
          "base_uri": "https://localhost:8080/",
          "height": 81
        },
        "id": "ty87lCI1J3nD",
        "outputId": "78e6585f-a636-4e30-edb6-f713684f563b"
      },
      "execution_count": 46,
      "outputs": [
        {
          "output_type": "execute_result",
          "data": {
            "text/plain": [
              "   A  B  D\n",
              "2  9  7  6"
            ],
            "text/html": [
              "\n",
              "  <div id=\"df-62013cde-1b39-4263-8da0-20b89330dee5\">\n",
              "    <div class=\"colab-df-container\">\n",
              "      <div>\n",
              "<style scoped>\n",
              "    .dataframe tbody tr th:only-of-type {\n",
              "        vertical-align: middle;\n",
              "    }\n",
              "\n",
              "    .dataframe tbody tr th {\n",
              "        vertical-align: top;\n",
              "    }\n",
              "\n",
              "    .dataframe thead th {\n",
              "        text-align: right;\n",
              "    }\n",
              "</style>\n",
              "<table border=\"1\" class=\"dataframe\">\n",
              "  <thead>\n",
              "    <tr style=\"text-align: right;\">\n",
              "      <th></th>\n",
              "      <th>A</th>\n",
              "      <th>B</th>\n",
              "      <th>D</th>\n",
              "    </tr>\n",
              "  </thead>\n",
              "  <tbody>\n",
              "    <tr>\n",
              "      <th>2</th>\n",
              "      <td>9</td>\n",
              "      <td>7</td>\n",
              "      <td>6</td>\n",
              "    </tr>\n",
              "  </tbody>\n",
              "</table>\n",
              "</div>\n",
              "      <button class=\"colab-df-convert\" onclick=\"convertToInteractive('df-62013cde-1b39-4263-8da0-20b89330dee5')\"\n",
              "              title=\"Convert this dataframe to an interactive table.\"\n",
              "              style=\"display:none;\">\n",
              "        \n",
              "  <svg xmlns=\"http://www.w3.org/2000/svg\" height=\"24px\"viewBox=\"0 0 24 24\"\n",
              "       width=\"24px\">\n",
              "    <path d=\"M0 0h24v24H0V0z\" fill=\"none\"/>\n",
              "    <path d=\"M18.56 5.44l.94 2.06.94-2.06 2.06-.94-2.06-.94-.94-2.06-.94 2.06-2.06.94zm-11 1L8.5 8.5l.94-2.06 2.06-.94-2.06-.94L8.5 2.5l-.94 2.06-2.06.94zm10 10l.94 2.06.94-2.06 2.06-.94-2.06-.94-.94-2.06-.94 2.06-2.06.94z\"/><path d=\"M17.41 7.96l-1.37-1.37c-.4-.4-.92-.59-1.43-.59-.52 0-1.04.2-1.43.59L10.3 9.45l-7.72 7.72c-.78.78-.78 2.05 0 2.83L4 21.41c.39.39.9.59 1.41.59.51 0 1.02-.2 1.41-.59l7.78-7.78 2.81-2.81c.8-.78.8-2.07 0-2.86zM5.41 20L4 18.59l7.72-7.72 1.47 1.35L5.41 20z\"/>\n",
              "  </svg>\n",
              "      </button>\n",
              "      \n",
              "  <style>\n",
              "    .colab-df-container {\n",
              "      display:flex;\n",
              "      flex-wrap:wrap;\n",
              "      gap: 12px;\n",
              "    }\n",
              "\n",
              "    .colab-df-convert {\n",
              "      background-color: #E8F0FE;\n",
              "      border: none;\n",
              "      border-radius: 50%;\n",
              "      cursor: pointer;\n",
              "      display: none;\n",
              "      fill: #1967D2;\n",
              "      height: 32px;\n",
              "      padding: 0 0 0 0;\n",
              "      width: 32px;\n",
              "    }\n",
              "\n",
              "    .colab-df-convert:hover {\n",
              "      background-color: #E2EBFA;\n",
              "      box-shadow: 0px 1px 2px rgba(60, 64, 67, 0.3), 0px 1px 3px 1px rgba(60, 64, 67, 0.15);\n",
              "      fill: #174EA6;\n",
              "    }\n",
              "\n",
              "    [theme=dark] .colab-df-convert {\n",
              "      background-color: #3B4455;\n",
              "      fill: #D2E3FC;\n",
              "    }\n",
              "\n",
              "    [theme=dark] .colab-df-convert:hover {\n",
              "      background-color: #434B5C;\n",
              "      box-shadow: 0px 1px 3px 1px rgba(0, 0, 0, 0.15);\n",
              "      filter: drop-shadow(0px 1px 2px rgba(0, 0, 0, 0.3));\n",
              "      fill: #FFFFFF;\n",
              "    }\n",
              "  </style>\n",
              "\n",
              "      <script>\n",
              "        const buttonEl =\n",
              "          document.querySelector('#df-62013cde-1b39-4263-8da0-20b89330dee5 button.colab-df-convert');\n",
              "        buttonEl.style.display =\n",
              "          google.colab.kernel.accessAllowed ? 'block' : 'none';\n",
              "\n",
              "        async function convertToInteractive(key) {\n",
              "          const element = document.querySelector('#df-62013cde-1b39-4263-8da0-20b89330dee5');\n",
              "          const dataTable =\n",
              "            await google.colab.kernel.invokeFunction('convertToInteractive',\n",
              "                                                     [key], {});\n",
              "          if (!dataTable) return;\n",
              "\n",
              "          const docLinkHtml = 'Like what you see? Visit the ' +\n",
              "            '<a target=\"_blank\" href=https://colab.research.google.com/notebooks/data_table.ipynb>data table notebook</a>'\n",
              "            + ' to learn more about interactive tables.';\n",
              "          element.innerHTML = '';\n",
              "          dataTable['output_type'] = 'display_data';\n",
              "          await google.colab.output.renderOutput(dataTable, element);\n",
              "          const docLink = document.createElement('div');\n",
              "          docLink.innerHTML = docLinkHtml;\n",
              "          element.appendChild(docLink);\n",
              "        }\n",
              "      </script>\n",
              "    </div>\n",
              "  </div>\n",
              "  "
            ]
          },
          "metadata": {},
          "execution_count": 46
        }
      ]
    },
    {
      "cell_type": "code",
      "source": [
        "df2"
      ],
      "metadata": {
        "colab": {
          "base_uri": "https://localhost:8080/",
          "height": 81
        },
        "id": "qyiGWap_J4kp",
        "outputId": "6414263e-9a1d-4a4d-bedc-287da74bd191"
      },
      "execution_count": 47,
      "outputs": [
        {
          "output_type": "execute_result",
          "data": {
            "text/plain": [
              "    A   B   D\n",
              "2  10  20  40"
            ],
            "text/html": [
              "\n",
              "  <div id=\"df-50e80950-fc14-4d5a-9717-e58e92e63b7b\">\n",
              "    <div class=\"colab-df-container\">\n",
              "      <div>\n",
              "<style scoped>\n",
              "    .dataframe tbody tr th:only-of-type {\n",
              "        vertical-align: middle;\n",
              "    }\n",
              "\n",
              "    .dataframe tbody tr th {\n",
              "        vertical-align: top;\n",
              "    }\n",
              "\n",
              "    .dataframe thead th {\n",
              "        text-align: right;\n",
              "    }\n",
              "</style>\n",
              "<table border=\"1\" class=\"dataframe\">\n",
              "  <thead>\n",
              "    <tr style=\"text-align: right;\">\n",
              "      <th></th>\n",
              "      <th>A</th>\n",
              "      <th>B</th>\n",
              "      <th>D</th>\n",
              "    </tr>\n",
              "  </thead>\n",
              "  <tbody>\n",
              "    <tr>\n",
              "      <th>2</th>\n",
              "      <td>10</td>\n",
              "      <td>20</td>\n",
              "      <td>40</td>\n",
              "    </tr>\n",
              "  </tbody>\n",
              "</table>\n",
              "</div>\n",
              "      <button class=\"colab-df-convert\" onclick=\"convertToInteractive('df-50e80950-fc14-4d5a-9717-e58e92e63b7b')\"\n",
              "              title=\"Convert this dataframe to an interactive table.\"\n",
              "              style=\"display:none;\">\n",
              "        \n",
              "  <svg xmlns=\"http://www.w3.org/2000/svg\" height=\"24px\"viewBox=\"0 0 24 24\"\n",
              "       width=\"24px\">\n",
              "    <path d=\"M0 0h24v24H0V0z\" fill=\"none\"/>\n",
              "    <path d=\"M18.56 5.44l.94 2.06.94-2.06 2.06-.94-2.06-.94-.94-2.06-.94 2.06-2.06.94zm-11 1L8.5 8.5l.94-2.06 2.06-.94-2.06-.94L8.5 2.5l-.94 2.06-2.06.94zm10 10l.94 2.06.94-2.06 2.06-.94-2.06-.94-.94-2.06-.94 2.06-2.06.94z\"/><path d=\"M17.41 7.96l-1.37-1.37c-.4-.4-.92-.59-1.43-.59-.52 0-1.04.2-1.43.59L10.3 9.45l-7.72 7.72c-.78.78-.78 2.05 0 2.83L4 21.41c.39.39.9.59 1.41.59.51 0 1.02-.2 1.41-.59l7.78-7.78 2.81-2.81c.8-.78.8-2.07 0-2.86zM5.41 20L4 18.59l7.72-7.72 1.47 1.35L5.41 20z\"/>\n",
              "  </svg>\n",
              "      </button>\n",
              "      \n",
              "  <style>\n",
              "    .colab-df-container {\n",
              "      display:flex;\n",
              "      flex-wrap:wrap;\n",
              "      gap: 12px;\n",
              "    }\n",
              "\n",
              "    .colab-df-convert {\n",
              "      background-color: #E8F0FE;\n",
              "      border: none;\n",
              "      border-radius: 50%;\n",
              "      cursor: pointer;\n",
              "      display: none;\n",
              "      fill: #1967D2;\n",
              "      height: 32px;\n",
              "      padding: 0 0 0 0;\n",
              "      width: 32px;\n",
              "    }\n",
              "\n",
              "    .colab-df-convert:hover {\n",
              "      background-color: #E2EBFA;\n",
              "      box-shadow: 0px 1px 2px rgba(60, 64, 67, 0.3), 0px 1px 3px 1px rgba(60, 64, 67, 0.15);\n",
              "      fill: #174EA6;\n",
              "    }\n",
              "\n",
              "    [theme=dark] .colab-df-convert {\n",
              "      background-color: #3B4455;\n",
              "      fill: #D2E3FC;\n",
              "    }\n",
              "\n",
              "    [theme=dark] .colab-df-convert:hover {\n",
              "      background-color: #434B5C;\n",
              "      box-shadow: 0px 1px 3px 1px rgba(0, 0, 0, 0.15);\n",
              "      filter: drop-shadow(0px 1px 2px rgba(0, 0, 0, 0.3));\n",
              "      fill: #FFFFFF;\n",
              "    }\n",
              "  </style>\n",
              "\n",
              "      <script>\n",
              "        const buttonEl =\n",
              "          document.querySelector('#df-50e80950-fc14-4d5a-9717-e58e92e63b7b button.colab-df-convert');\n",
              "        buttonEl.style.display =\n",
              "          google.colab.kernel.accessAllowed ? 'block' : 'none';\n",
              "\n",
              "        async function convertToInteractive(key) {\n",
              "          const element = document.querySelector('#df-50e80950-fc14-4d5a-9717-e58e92e63b7b');\n",
              "          const dataTable =\n",
              "            await google.colab.kernel.invokeFunction('convertToInteractive',\n",
              "                                                     [key], {});\n",
              "          if (!dataTable) return;\n",
              "\n",
              "          const docLinkHtml = 'Like what you see? Visit the ' +\n",
              "            '<a target=\"_blank\" href=https://colab.research.google.com/notebooks/data_table.ipynb>data table notebook</a>'\n",
              "            + ' to learn more about interactive tables.';\n",
              "          element.innerHTML = '';\n",
              "          dataTable['output_type'] = 'display_data';\n",
              "          await google.colab.output.renderOutput(dataTable, element);\n",
              "          const docLink = document.createElement('div');\n",
              "          docLink.innerHTML = docLinkHtml;\n",
              "          element.appendChild(docLink);\n",
              "        }\n",
              "      </script>\n",
              "    </div>\n",
              "  </div>\n",
              "  "
            ]
          },
          "metadata": {},
          "execution_count": 47
        }
      ]
    },
    {
      "cell_type": "code",
      "source": [
        "import pandas as pd\n",
        "res = {'Grade':[ 'A*','A*','A*','A*','A*','A*',\n",
        "                 'A','A','A','A','A','A','A','A',\n",
        "                 'B','B','B','B','B','B','B','B','B',\n",
        "                 'C','C','C','C','C','C',\n",
        "                 'D','D','D',\n",
        "                 'E']}\n",
        "r = pd.DataFrame(res)\n",
        "r.mode()\n",
        "print(r)"
      ],
      "metadata": {
        "colab": {
          "base_uri": "https://localhost:8080/"
        },
        "id": "lc9z9ZhbdWj-",
        "outputId": "77032d72-e0fc-4819-b705-8f3728b53f82"
      },
      "execution_count": 48,
      "outputs": [
        {
          "output_type": "stream",
          "name": "stdout",
          "text": [
            "   Grade\n",
            "0     A*\n",
            "1     A*\n",
            "2     A*\n",
            "3     A*\n",
            "4     A*\n",
            "5     A*\n",
            "6      A\n",
            "7      A\n",
            "8      A\n",
            "9      A\n",
            "10     A\n",
            "11     A\n",
            "12     A\n",
            "13     A\n",
            "14     B\n",
            "15     B\n",
            "16     B\n",
            "17     B\n",
            "18     B\n",
            "19     B\n",
            "20     B\n",
            "21     B\n",
            "22     B\n",
            "23     C\n",
            "24     C\n",
            "25     C\n",
            "26     C\n",
            "27     C\n",
            "28     C\n",
            "29     D\n",
            "30     D\n",
            "31     D\n",
            "32     E\n"
          ]
        }
      ]
    },
    {
      "cell_type": "code",
      "source": [
        "import pandas as pd\n",
        "import matplotlib.pyplot as plt\n",
        "import matplotlib as mpl\n",
        "import numpy as np\n",
        "from imblearn.over_sampling import SMOTE"
      ],
      "metadata": {
        "id": "0UeS-nscdWme"
      },
      "execution_count": 49,
      "outputs": []
    },
    {
      "cell_type": "code",
      "source": [],
      "metadata": {
        "id": "4bZ2LQT57I-M"
      },
      "execution_count": 49,
      "outputs": []
    },
    {
      "cell_type": "code",
      "source": [
        "df = pd.read_csv(\"https://github.com/microsoft/ML-For-Beginners/blob/main/4-Classification/data/cuisines.csv?raw=True\")"
      ],
      "metadata": {
        "id": "LtNkdaRsYvsn"
      },
      "execution_count": 88,
      "outputs": []
    },
    {
      "cell_type": "code",
      "source": [
        "df.head()"
      ],
      "metadata": {
        "colab": {
          "base_uri": "https://localhost:8080/",
          "height": 317
        },
        "id": "WfM1XzVra5gf",
        "outputId": "6a948a69-7660-4b22-8afe-756eed6ff537"
      },
      "execution_count": 89,
      "outputs": [
        {
          "output_type": "execute_result",
          "data": {
            "text/plain": [
              "   Unnamed: 0 cuisine  almond  angelica  anise  anise_seed  apple  \\\n",
              "0          65  indian       0         0      0           0      0   \n",
              "1          66  indian       1         0      0           0      0   \n",
              "2          67  indian       0         0      0           0      0   \n",
              "3          68  indian       0         0      0           0      0   \n",
              "4          69  indian       0         0      0           0      0   \n",
              "\n",
              "   apple_brandy  apricot  armagnac  ...  whiskey  white_bread  white_wine  \\\n",
              "0             0        0         0  ...        0            0           0   \n",
              "1             0        0         0  ...        0            0           0   \n",
              "2             0        0         0  ...        0            0           0   \n",
              "3             0        0         0  ...        0            0           0   \n",
              "4             0        0         0  ...        0            0           0   \n",
              "\n",
              "   whole_grain_wheat_flour  wine  wood  yam  yeast  yogurt  zucchini  \n",
              "0                        0     0     0    0      0       0         0  \n",
              "1                        0     0     0    0      0       0         0  \n",
              "2                        0     0     0    0      0       0         0  \n",
              "3                        0     0     0    0      0       0         0  \n",
              "4                        0     0     0    0      0       1         0  \n",
              "\n",
              "[5 rows x 385 columns]"
            ],
            "text/html": [
              "\n",
              "  <div id=\"df-0417e775-959b-4541-ae66-0620963e3c75\">\n",
              "    <div class=\"colab-df-container\">\n",
              "      <div>\n",
              "<style scoped>\n",
              "    .dataframe tbody tr th:only-of-type {\n",
              "        vertical-align: middle;\n",
              "    }\n",
              "\n",
              "    .dataframe tbody tr th {\n",
              "        vertical-align: top;\n",
              "    }\n",
              "\n",
              "    .dataframe thead th {\n",
              "        text-align: right;\n",
              "    }\n",
              "</style>\n",
              "<table border=\"1\" class=\"dataframe\">\n",
              "  <thead>\n",
              "    <tr style=\"text-align: right;\">\n",
              "      <th></th>\n",
              "      <th>Unnamed: 0</th>\n",
              "      <th>cuisine</th>\n",
              "      <th>almond</th>\n",
              "      <th>angelica</th>\n",
              "      <th>anise</th>\n",
              "      <th>anise_seed</th>\n",
              "      <th>apple</th>\n",
              "      <th>apple_brandy</th>\n",
              "      <th>apricot</th>\n",
              "      <th>armagnac</th>\n",
              "      <th>...</th>\n",
              "      <th>whiskey</th>\n",
              "      <th>white_bread</th>\n",
              "      <th>white_wine</th>\n",
              "      <th>whole_grain_wheat_flour</th>\n",
              "      <th>wine</th>\n",
              "      <th>wood</th>\n",
              "      <th>yam</th>\n",
              "      <th>yeast</th>\n",
              "      <th>yogurt</th>\n",
              "      <th>zucchini</th>\n",
              "    </tr>\n",
              "  </thead>\n",
              "  <tbody>\n",
              "    <tr>\n",
              "      <th>0</th>\n",
              "      <td>65</td>\n",
              "      <td>indian</td>\n",
              "      <td>0</td>\n",
              "      <td>0</td>\n",
              "      <td>0</td>\n",
              "      <td>0</td>\n",
              "      <td>0</td>\n",
              "      <td>0</td>\n",
              "      <td>0</td>\n",
              "      <td>0</td>\n",
              "      <td>...</td>\n",
              "      <td>0</td>\n",
              "      <td>0</td>\n",
              "      <td>0</td>\n",
              "      <td>0</td>\n",
              "      <td>0</td>\n",
              "      <td>0</td>\n",
              "      <td>0</td>\n",
              "      <td>0</td>\n",
              "      <td>0</td>\n",
              "      <td>0</td>\n",
              "    </tr>\n",
              "    <tr>\n",
              "      <th>1</th>\n",
              "      <td>66</td>\n",
              "      <td>indian</td>\n",
              "      <td>1</td>\n",
              "      <td>0</td>\n",
              "      <td>0</td>\n",
              "      <td>0</td>\n",
              "      <td>0</td>\n",
              "      <td>0</td>\n",
              "      <td>0</td>\n",
              "      <td>0</td>\n",
              "      <td>...</td>\n",
              "      <td>0</td>\n",
              "      <td>0</td>\n",
              "      <td>0</td>\n",
              "      <td>0</td>\n",
              "      <td>0</td>\n",
              "      <td>0</td>\n",
              "      <td>0</td>\n",
              "      <td>0</td>\n",
              "      <td>0</td>\n",
              "      <td>0</td>\n",
              "    </tr>\n",
              "    <tr>\n",
              "      <th>2</th>\n",
              "      <td>67</td>\n",
              "      <td>indian</td>\n",
              "      <td>0</td>\n",
              "      <td>0</td>\n",
              "      <td>0</td>\n",
              "      <td>0</td>\n",
              "      <td>0</td>\n",
              "      <td>0</td>\n",
              "      <td>0</td>\n",
              "      <td>0</td>\n",
              "      <td>...</td>\n",
              "      <td>0</td>\n",
              "      <td>0</td>\n",
              "      <td>0</td>\n",
              "      <td>0</td>\n",
              "      <td>0</td>\n",
              "      <td>0</td>\n",
              "      <td>0</td>\n",
              "      <td>0</td>\n",
              "      <td>0</td>\n",
              "      <td>0</td>\n",
              "    </tr>\n",
              "    <tr>\n",
              "      <th>3</th>\n",
              "      <td>68</td>\n",
              "      <td>indian</td>\n",
              "      <td>0</td>\n",
              "      <td>0</td>\n",
              "      <td>0</td>\n",
              "      <td>0</td>\n",
              "      <td>0</td>\n",
              "      <td>0</td>\n",
              "      <td>0</td>\n",
              "      <td>0</td>\n",
              "      <td>...</td>\n",
              "      <td>0</td>\n",
              "      <td>0</td>\n",
              "      <td>0</td>\n",
              "      <td>0</td>\n",
              "      <td>0</td>\n",
              "      <td>0</td>\n",
              "      <td>0</td>\n",
              "      <td>0</td>\n",
              "      <td>0</td>\n",
              "      <td>0</td>\n",
              "    </tr>\n",
              "    <tr>\n",
              "      <th>4</th>\n",
              "      <td>69</td>\n",
              "      <td>indian</td>\n",
              "      <td>0</td>\n",
              "      <td>0</td>\n",
              "      <td>0</td>\n",
              "      <td>0</td>\n",
              "      <td>0</td>\n",
              "      <td>0</td>\n",
              "      <td>0</td>\n",
              "      <td>0</td>\n",
              "      <td>...</td>\n",
              "      <td>0</td>\n",
              "      <td>0</td>\n",
              "      <td>0</td>\n",
              "      <td>0</td>\n",
              "      <td>0</td>\n",
              "      <td>0</td>\n",
              "      <td>0</td>\n",
              "      <td>0</td>\n",
              "      <td>1</td>\n",
              "      <td>0</td>\n",
              "    </tr>\n",
              "  </tbody>\n",
              "</table>\n",
              "<p>5 rows × 385 columns</p>\n",
              "</div>\n",
              "      <button class=\"colab-df-convert\" onclick=\"convertToInteractive('df-0417e775-959b-4541-ae66-0620963e3c75')\"\n",
              "              title=\"Convert this dataframe to an interactive table.\"\n",
              "              style=\"display:none;\">\n",
              "        \n",
              "  <svg xmlns=\"http://www.w3.org/2000/svg\" height=\"24px\"viewBox=\"0 0 24 24\"\n",
              "       width=\"24px\">\n",
              "    <path d=\"M0 0h24v24H0V0z\" fill=\"none\"/>\n",
              "    <path d=\"M18.56 5.44l.94 2.06.94-2.06 2.06-.94-2.06-.94-.94-2.06-.94 2.06-2.06.94zm-11 1L8.5 8.5l.94-2.06 2.06-.94-2.06-.94L8.5 2.5l-.94 2.06-2.06.94zm10 10l.94 2.06.94-2.06 2.06-.94-2.06-.94-.94-2.06-.94 2.06-2.06.94z\"/><path d=\"M17.41 7.96l-1.37-1.37c-.4-.4-.92-.59-1.43-.59-.52 0-1.04.2-1.43.59L10.3 9.45l-7.72 7.72c-.78.78-.78 2.05 0 2.83L4 21.41c.39.39.9.59 1.41.59.51 0 1.02-.2 1.41-.59l7.78-7.78 2.81-2.81c.8-.78.8-2.07 0-2.86zM5.41 20L4 18.59l7.72-7.72 1.47 1.35L5.41 20z\"/>\n",
              "  </svg>\n",
              "      </button>\n",
              "      \n",
              "  <style>\n",
              "    .colab-df-container {\n",
              "      display:flex;\n",
              "      flex-wrap:wrap;\n",
              "      gap: 12px;\n",
              "    }\n",
              "\n",
              "    .colab-df-convert {\n",
              "      background-color: #E8F0FE;\n",
              "      border: none;\n",
              "      border-radius: 50%;\n",
              "      cursor: pointer;\n",
              "      display: none;\n",
              "      fill: #1967D2;\n",
              "      height: 32px;\n",
              "      padding: 0 0 0 0;\n",
              "      width: 32px;\n",
              "    }\n",
              "\n",
              "    .colab-df-convert:hover {\n",
              "      background-color: #E2EBFA;\n",
              "      box-shadow: 0px 1px 2px rgba(60, 64, 67, 0.3), 0px 1px 3px 1px rgba(60, 64, 67, 0.15);\n",
              "      fill: #174EA6;\n",
              "    }\n",
              "\n",
              "    [theme=dark] .colab-df-convert {\n",
              "      background-color: #3B4455;\n",
              "      fill: #D2E3FC;\n",
              "    }\n",
              "\n",
              "    [theme=dark] .colab-df-convert:hover {\n",
              "      background-color: #434B5C;\n",
              "      box-shadow: 0px 1px 3px 1px rgba(0, 0, 0, 0.15);\n",
              "      filter: drop-shadow(0px 1px 2px rgba(0, 0, 0, 0.3));\n",
              "      fill: #FFFFFF;\n",
              "    }\n",
              "  </style>\n",
              "\n",
              "      <script>\n",
              "        const buttonEl =\n",
              "          document.querySelector('#df-0417e775-959b-4541-ae66-0620963e3c75 button.colab-df-convert');\n",
              "        buttonEl.style.display =\n",
              "          google.colab.kernel.accessAllowed ? 'block' : 'none';\n",
              "\n",
              "        async function convertToInteractive(key) {\n",
              "          const element = document.querySelector('#df-0417e775-959b-4541-ae66-0620963e3c75');\n",
              "          const dataTable =\n",
              "            await google.colab.kernel.invokeFunction('convertToInteractive',\n",
              "                                                     [key], {});\n",
              "          if (!dataTable) return;\n",
              "\n",
              "          const docLinkHtml = 'Like what you see? Visit the ' +\n",
              "            '<a target=\"_blank\" href=https://colab.research.google.com/notebooks/data_table.ipynb>data table notebook</a>'\n",
              "            + ' to learn more about interactive tables.';\n",
              "          element.innerHTML = '';\n",
              "          dataTable['output_type'] = 'display_data';\n",
              "          await google.colab.output.renderOutput(dataTable, element);\n",
              "          const docLink = document.createElement('div');\n",
              "          docLink.innerHTML = docLinkHtml;\n",
              "          element.appendChild(docLink);\n",
              "        }\n",
              "      </script>\n",
              "    </div>\n",
              "  </div>\n",
              "  "
            ]
          },
          "metadata": {},
          "execution_count": 89
        }
      ]
    },
    {
      "cell_type": "code",
      "source": [
        "df.info()"
      ],
      "metadata": {
        "colab": {
          "base_uri": "https://localhost:8080/"
        },
        "id": "_Dj_a9E8a5ik",
        "outputId": "ee9ee226-e956-4e18-c465-ec352f1e7010"
      },
      "execution_count": 90,
      "outputs": [
        {
          "output_type": "stream",
          "name": "stdout",
          "text": [
            "<class 'pandas.core.frame.DataFrame'>\n",
            "RangeIndex: 2448 entries, 0 to 2447\n",
            "Columns: 385 entries, Unnamed: 0 to zucchini\n",
            "dtypes: int64(384), object(1)\n",
            "memory usage: 7.2+ MB\n"
          ]
        }
      ]
    },
    {
      "cell_type": "code",
      "source": [
        "df.cuisine.value_counts().plot.barh()"
      ],
      "metadata": {
        "colab": {
          "base_uri": "https://localhost:8080/",
          "height": 283
        },
        "id": "0pg0KLojcLHw",
        "outputId": "98ed6ad1-f3f6-4baa-c4f2-4364f669c315"
      },
      "execution_count": 91,
      "outputs": [
        {
          "output_type": "execute_result",
          "data": {
            "text/plain": [
              "<matplotlib.axes._subplots.AxesSubplot at 0x7f8c4de0c910>"
            ]
          },
          "metadata": {},
          "execution_count": 91
        },
        {
          "output_type": "display_data",
          "data": {
            "text/plain": [
              "<Figure size 432x288 with 1 Axes>"
            ],
            "image/png": "[encoded data removed]"
          },
          "metadata": {
            "needs_background": "light"
          }
        }
      ]
    },
    {
      "cell_type": "code",
      "source": [
        "df[(df.cuisine == \"thai\")].shape"
      ],
      "metadata": {
        "id": "ucBpMJUES5JW",
        "outputId": "eb7dce10-fe7d-4019-ec47-1863d63b1ba7",
        "colab": {
          "base_uri": "https://localhost:8080/"
        }
      },
      "execution_count": 100,
      "outputs": [
        {
          "output_type": "execute_result",
          "data": {
            "text/plain": [
              "(289, 385)"
            ]
          },
          "metadata": {},
          "execution_count": 100
        }
      ]
    },
    {
      "cell_type": "code",
      "source": [
        "# found out how much data is avaliable per cuisine and print it out:"
      ],
      "metadata": {
        "id": "-tfjFpXIchp4"
      },
      "execution_count": 54,
      "outputs": []
    },
    {
      "cell_type": "code",
      "source": [
        "thai_df = df[(df.cuisine == \"thai\")]\n",
        "japanese_df = df[(df.cuisine == \"japanese\")]\n",
        "chinese_df = df[(df.cuisine == \"chinese\")]\n",
        "indian_df = df[(df.cuisine == \"indian\")]\n",
        "korean_df = df[(df.cuisine == \"korean\")]\n",
        "\n",
        "print(f'thai df: {thai_df.shape}')\n",
        "print(f'japanese df: {japanese_df.shape}')\n",
        "print(f'chinese df: {chinese_df.shape}')\n",
        "print(f'indian df: {indian_df.shape}')\n",
        "print(f'korean df: {korean_df.shape}')"
      ],
      "metadata": {
        "colab": {
          "base_uri": "https://localhost:8080/"
        },
        "id": "Jq7yMEh1chsM",
        "outputId": "0981d520-9729-4d8f-f9db-e6875964f20c"
      },
      "execution_count": 55,
      "outputs": [
        {
          "output_type": "stream",
          "name": "stdout",
          "text": [
            "thai df: (289, 385)\n",
            "japanese df: (320, 385)\n",
            "chinese df: (442, 385)\n",
            "indian df: (598, 385)\n",
            "korean df: (799, 385)\n"
          ]
        }
      ]
    },
    {
      "cell_type": "code",
      "source": [
        "df.drop(['cuisine','Unnamed: 0'],axis=1).sum(axis=0).astype('float64')"
      ],
      "metadata": {
        "id": "L9FVsEKeTadC",
        "outputId": "754f23a7-c097-4715-a28a-ac278054850d",
        "colab": {
          "base_uri": "https://localhost:8080/"
        }
      },
      "execution_count": 125,
      "outputs": [
        {
          "output_type": "execute_result",
          "data": {
            "text/plain": [
              "almond         45.0\n",
              "angelica        0.0\n",
              "anise           1.0\n",
              "anise_seed      7.0\n",
              "apple          34.0\n",
              "              ...  \n",
              "wood            0.0\n",
              "yam             4.0\n",
              "yeast          38.0\n",
              "yogurt        145.0\n",
              "zucchini       21.0\n",
              "Length: 383, dtype: float64"
            ]
          },
          "metadata": {},
          "execution_count": 125
        }
      ]
    },
    {
      "cell_type": "code",
      "source": [
        "df.T.drop([\"cuisine\",\"Unnamed: 0\"]).sum(axis=1)"
      ],
      "metadata": {
        "colab": {
          "base_uri": "https://localhost:8080/"
        },
        "id": "lOvBc-D7gUlk",
        "outputId": "2b6d4968-4465-48bb-e745-c2e0975bd32b"
      },
      "execution_count": 121,
      "outputs": [
        {
          "output_type": "execute_result",
          "data": {
            "text/plain": [
              "almond         45.0\n",
              "angelica        0.0\n",
              "anise           1.0\n",
              "anise_seed      7.0\n",
              "apple          34.0\n",
              "              ...  \n",
              "wood            0.0\n",
              "yam             4.0\n",
              "yeast          38.0\n",
              "yogurt        145.0\n",
              "zucchini       21.0\n",
              "Length: 383, dtype: float64"
            ]
          },
          "metadata": {},
          "execution_count": 121
        }
      ]
    },
    {
      "cell_type": "code",
      "source": [
        "def create_ingredient_df(df):\n",
        "  ingredient_df = df.T.drop([\"cuisine\",\"Unnamed: 0\"]).sum(axis=1).to_frame('value')\n",
        "  ingredient_df = ingredient_df[(ingredient_df.T !=0).any()]\n",
        "  ingredient_df = ingredient_df.sort_values(by=\"value\",ascending=False,inplace=False)\n",
        "  return ingredient_df"
      ],
      "metadata": {
        "id": "hcvNaigWfVr_"
      },
      "execution_count": 126,
      "outputs": []
    },
    {
      "cell_type": "code",
      "source": [
        "thai_df_ingredient = create_ingredient_df(thai_df)\n",
        "thai_df_ingredient.head(10).plot.barh()"
      ],
      "metadata": {
        "colab": {
          "base_uri": "https://localhost:8080/",
          "height": 283
        },
        "id": "1N1UYuPhfVt4",
        "outputId": "ad6c62e1-62bf-402c-881a-c129369812be"
      },
      "execution_count": 127,
      "outputs": [
        {
          "output_type": "execute_result",
          "data": {
            "text/plain": [
              "<matplotlib.axes._subplots.AxesSubplot at 0x7f8c4ee50050>"
            ]
          },
          "metadata": {},
          "execution_count": 127
        },
        {
          "output_type": "display_data",
          "data": {
            "text/plain": [
              "<Figure size 432x288 with 1 Axes>"
            ],
            "image/png": "[encoded data removed]"
          },
          "metadata": {
            "needs_background": "light"
          }
        }
      ]
    },
    {
      "cell_type": "code",
      "source": [
        "japanese_df_ingredient = create_ingredient_df(japanese_df)\n",
        "japanese_df_ingredient.head(10).plot.barh()"
      ],
      "metadata": {
        "colab": {
          "base_uri": "https://localhost:8080/",
          "height": 283
        },
        "id": "gCDudCjbmBN_",
        "outputId": "0a271f0a-e1ca-498c-979f-e9136a3455f0"
      },
      "execution_count": 59,
      "outputs": [
        {
          "output_type": "execute_result",
          "data": {
            "text/plain": [
              "<matplotlib.axes._subplots.AxesSubplot at 0x7f8c4f8ea190>"
            ]
          },
          "metadata": {},
          "execution_count": 59
        },
        {
          "output_type": "display_data",
          "data": {
            "text/plain": [
              "<Figure size 432x288 with 1 Axes>"
            ],
            "image/png": "[encoded data removed]"
          },
          "metadata": {
            "needs_background": "light"
          }
        }
      ]
    },
    {
      "cell_type": "code",
      "source": [
        "chines_ingredient_df = create_ingredient_df(chinese_df)\n",
        "chines_ingredient_df.head(10).plot.barh()"
      ],
      "metadata": {
        "colab": {
          "base_uri": "https://localhost:8080/",
          "height": 283
        },
        "id": "TGYWsOb4npP8",
        "outputId": "449e8a4c-b3ba-4ad6-ce94-119f652bc2dd"
      },
      "execution_count": 60,
      "outputs": [
        {
          "output_type": "execute_result",
          "data": {
            "text/plain": [
              "<matplotlib.axes._subplots.AxesSubplot at 0x7f8c4eceac50>"
            ]
          },
          "metadata": {},
          "execution_count": 60
        },
        {
          "output_type": "display_data",
          "data": {
            "text/plain": [
              "<Figure size 432x288 with 1 Axes>"
            ],
            "image/png": "[encoded data removed]"
          },
          "metadata": {
            "needs_background": "light"
          }
        }
      ]
    },
    {
      "cell_type": "code",
      "source": [
        "indian_ingredients_df = create_ingredient_df(indian_df)\n",
        "indian_ingredients_df.head(10).plot.barh()"
      ],
      "metadata": {
        "colab": {
          "base_uri": "https://localhost:8080/",
          "height": 283
        },
        "id": "tRZayFpEpEyB",
        "outputId": "7bb3ec69-a2e2-4bc9-dbe8-6bb7c0d4c35d"
      },
      "execution_count": 61,
      "outputs": [
        {
          "output_type": "execute_result",
          "data": {
            "text/plain": [
              "<matplotlib.axes._subplots.AxesSubplot at 0x7f8c4ec77c90>"
            ]
          },
          "metadata": {},
          "execution_count": 61
        },
        {
          "output_type": "display_data",
          "data": {
            "text/plain": [
              "<Figure size 432x288 with 1 Axes>"
            ],
            "image/png": "[encoded data removed]"
          },
          "metadata": {
            "needs_background": "light"
          }
        }
      ]
    },
    {
      "cell_type": "code",
      "source": [
        "korean_ingredients_df = create_ingredient_df(korean_df)\n",
        "korean_ingredients_df.head(10).plot.barh()"
      ],
      "metadata": {
        "colab": {
          "base_uri": "https://localhost:8080/",
          "height": 283
        },
        "id": "-5IHGIUPpjw6",
        "outputId": "8ce4f2ee-d976-48a1-de5f-ecffdc48e86f"
      },
      "execution_count": 62,
      "outputs": [
        {
          "output_type": "execute_result",
          "data": {
            "text/plain": [
              "<matplotlib.axes._subplots.AxesSubplot at 0x7f8c4eb4f850>"
            ]
          },
          "metadata": {},
          "execution_count": 62
        },
        {
          "output_type": "display_data",
          "data": {
            "text/plain": [
              "<Figure size 432x288 with 1 Axes>"
            ],
            "image/png": "[encoded data removed]"
          },
          "metadata": {
            "needs_background": "light"
          }
        }
      ]
    },
    {
      "cell_type": "code",
      "source": [
        "feature_df = df.drop"
      ],
      "metadata": {
        "id": "eb_tOtnipj35"
      },
      "execution_count": 63,
      "outputs": []
    },
    {
      "cell_type": "code",
      "source": [
        "# drop most common ingredients that create confusion between distinct cuisines\n",
        "feature_df = df.drop([\"cuisine\",\"Unnamed: 0\",\"rice\",\"garlic\",\"ginger\"],axis=1)\n",
        "labels_df = df.cuisine\n"
      ],
      "metadata": {
        "id": "tZjaDLSltSE6"
      },
      "execution_count": 64,
      "outputs": []
    },
    {
      "cell_type": "code",
      "source": [
        "# now that you have cleaned the data , we will use SMOT - synthetic Minority Over-sampling Technique to balance it\n",
        "oversample = SMOTE()\n",
        "transformed_feature_df , transformed_label_df = oversample.fit_resample(feature_df , labels_df)"
      ],
      "metadata": {
        "id": "_li3EA1impo8"
      },
      "execution_count": 65,
      "outputs": []
    },
    {
      "cell_type": "code",
      "source": [],
      "metadata": {
        "id": "9CFJGuVBp8w4"
      },
      "execution_count": 65,
      "outputs": []
    },
    {
      "cell_type": "code",
      "source": [
        "print(f\"new label count: {transformed_feature_df.value_counts()}\")\n",
        "print(f\"old label count : {feature_df.value_counts()}\")"
      ],
      "metadata": {
        "colab": {
          "base_uri": "https://localhost:8080/"
        },
        "id": "QlHSpHYcw0M2",
        "outputId": "1564826e-60ef-43b4-cf0b-a5389f343668"
      },
      "execution_count": 66,
      "outputs": [
        {
          "output_type": "stream",
          "name": "stdout",
          "text": [
            "new label count: almond  angelica  anise  anise_seed  apple  apple_brandy  apricot  armagnac  artemisia  artichoke  asparagus  avocado  bacon  baked_potato  balm  banana  barley  bartlett_pear  basil  bay  bean  beech  beef  beef_broth  beef_liver  beer  beet  bell_pepper  bergamot  berry  bitter_orange  black_bean  black_currant  black_mustard_seed_oil  black_pepper  black_raspberry  black_sesame_seed  black_tea  blackberry  blackberry_brandy  blue_cheese  blueberry  bone_oil  bourbon_whiskey  brandy  brassica  bread  broccoli  brown_rice  brussels_sprout  buckwheat  butter  buttermilk  cabbage  cabernet_sauvignon_wine  cacao  camembert_cheese  cane_molasses  caraway  cardamom  carnation  carob  carrot  cashew  cassava  catfish  cauliflower  caviar  cayenne  celery  celery_oil  cereal  chamomile  champagne_wine  chayote  cheddar_cheese  cheese  cherry  cherry_brandy  chervil  chicken  chicken_broth  chicken_liver  chickpea  chicory  chinese_cabbage  chive  cider  cilantro  cinnamon  citrus  citrus_peel  clam  clove  cocoa  coconut  coconut_oil  cod  coffee  cognac  concord_grape  condiment  coriander  corn  corn_flake  corn_grit  cottage_cheese  crab  cranberry  cream  cream_cheese  cucumber  cumin  cured_pork  currant  date  dill  durian  eel  egg  egg_noodle  elderberry  emmental_cheese  endive  enokidake  fennel  fenugreek  feta_cheese  fig  fish  flower  frankfurter  fruit  galanga  gardenia  gelatin  geranium  gin  goat_cheese  grape  grape_brandy  grape_juice  grapefruit  green_bell_pepper  green_tea  gruyere_cheese  guava  haddock  ham  hazelnut  herring  holy_basil  honey  hop  horseradish  huckleberry  jamaican_rum  japanese_plum  jasmine  jasmine_tea  juniper_berry  kaffir_lime  kale  katsuobushi  kelp  kidney_bean  kiwi  kohlrabi  kumquat  lamb  lard  laurel  lavender  leaf  leek  lemon  lemon_juice  lemon_peel  lemongrass  lentil  lettuce  licorice  lilac_flower_oil  lima_bean  lime  lime_juice  lime_peel_oil  lingonberry  litchi  liver  lobster  long_pepper  lovage  macadamia_nut  macaroni  mace  mackerel  malt  mandarin  mandarin_peel  mango  maple_syrup  marjoram  mate  matsutake  meat  melon  milk  milk_fat  mint  mozzarella_cheese  mung_bean  munster_cheese  muscat_grape  mushroom  mussel  mustard  mutton  nectarine  nira  nut  nutmeg  oat  oatmeal  octopus  okra  olive  olive_oil  onion  orange  orange_flower  orange_juice  orange_peel  oregano  ouzo  oyster  palm  papaya  parmesan_cheese  parsley  parsnip  passion_fruit  pea  peach  peanut  peanut_butter  peanut_oil  pear  pear_brandy  pecan  pelargonium  pepper  peppermint  peppermint_oil  pimenta  pimento  pineapple  pistachio  plum  popcorn  porcini  pork  pork_liver  pork_sausage  port_wine  potato  potato_chip  prawn  prickly_pear  provolone_cheese  pumpkin  quince  radish  raisin  rapeseed  raspberry  raw_beef  red_algae  red_bean  red_kidney_bean  red_wine  rhubarb  roasted_almond  roasted_beef  roasted_hazelnut  roasted_meat  roasted_nut  roasted_peanut  roasted_pecan  roasted_pork  roasted_sesame_seed  romano_cheese  root  roquefort_cheese  rose  rosemary  rum  rutabaga  rye_bread  rye_flour  saffron  sage  sake  salmon  salmon_roe  sassafras  sauerkraut  savory  scallion  scallop  sea_algae  seaweed  seed  sesame_oil  sesame_seed  shallot  sheep_cheese  shellfish  sherry  shiitake  shrimp  smoke  smoked_fish  smoked_salmon  smoked_sausage  sour_cherry  sour_milk  soy_sauce  soybean  soybean_oil  spearmint  squash  squid  star_anise  starch  strawberry  strawberry_jam  strawberry_juice  sturgeon_caviar  sumac  sunflower_oil  sweet_potato  swiss_cheese  tabasco_pepper  tamarind  tangerine  tarragon  tea  tequila  thai_pepper  thyme  tomato  tomato_juice  truffle  tuna  turkey  turmeric  turnip  vanilla  veal  vegetable  vegetable_oil  vinegar  violet  walnut  wasabi  watercress  watermelon  wheat  wheat_bread  whiskey  white_bread  white_wine  whole_grain_wheat_flour  wine  wood  yam  yeast  yogurt  zucchini\n",
            "0       0         0      0           0      0             0        0         0          0          0          0        0      0             0     0       0       0              0      0    0     0      0     0           0           0     0     0            0         0      0              0           0              0                       0             0                0                  0          0           0                  0            0          0         0                0       0         0      0         0           0                0          0       0           0        0                        0      0                 0              0        0         0          0      0       0       0        0        0            0       0        0       0           0       0          0               0        0               0       0       0              0        0        0              0              0         0        0                0      0      0         0         0       0            0     0      0      0        0            0    0       0       0              0          0          0     0           0          0               0     0          0      0             0         0      0           0        0     0     0       0    0    0           0           0                0       0          0       0          0            0    0     0       0            0      0        0         0        0         0    0            0      0             0            0           0                  0          0               0      0        0    0         0        0           0      0    0            0            0             0              0        0            0              0            0     0            0     0            0     0         0        0     0     0       0         0     0     0      0            0           0           0       0        0         0                 0          0     0           0              0            0       0      0        0            0       0              0         0     0         0     0         0              0      0            0         0     0          0     0      0     0         0     0                  0          0               0             0         0       0        0       0          0     0    0       0    0        0        0     0      0          0      0       0              0             0            0        0     0       0     0       0                0        0        0              0    0      0       0              0           0     0            0      0            0       0           0               0        0        0          0          0     0        0        0     0           0             0          0       0            0      0             0                 0        0       0       0       0         0          0         0          0         0                0         0        0               0             0                 0             0            0               0              0             0                    0              0     0                 0     0         0    0         0          0          0        0     0     0       0           0          0           0       0         0        0          0        0     0           0            0        0             0          0       0         0       0      0            0              0               0            0          0          0        0            0          0       0      0           0       0           0               0                 0                0      0              0             0             0               0         0          0         0    0        0            0      0       0             0        0     0       0         0       0        0     0          0              0        0       0       0       0           0           0      0            0        0            0           0                        0     0     0    0      0       0           161\n",
            "                                                                                                                                                                                                                                                                                                                                                                                                                                                                                                                                                                                                                                                                                                                                                                                                                                                                                                                                                                                                                                                                                                                                                                                                                                                                                                                                                                                                                                                                                                                                                                                                                                                                                                                                                                                                                                                                                                                                                                                                                                                                                                                                                                                                                                                                                                                                                                                                                                                                                                                                                                                                                                                                                                                                                                                                                                                                                                                                                                                                                                                                                                                                                                                                                                                                                                                                                                                                                                                                                                                                                                                                                                                                                                                                                                                                                                                                                                                     1        0       0       0       0           0           0      0            0        0            0           0                        0     0     0    0      0       0            34\n",
            "                                                                                                                                                                                                                                                                                                                                                                                                                                                                                                                                                                                                                                                                                                                                                                                                                                                                                                                                                                                                                                                                                                                                                                                                                                                                                                                                                                                                                                                                                                                                                                                                                                                                                                                                                                                                                                                                                                                                                                                                                                                                                                                                                                                                                                                                                                                                                                                                                                                                                                                                                                                                                                                                                                                                                                                                                                                                                                                                                                                                                                                                                                                                                                                                                                                                                                                                                                                                                                                                                                                            1          0        0            0          0       0      0           0       0           0               0                 0                0      0              0             0             0               0         0          0         0    0        0            0      0       0             0        0     0       0         0       0        0     0          0              0        0       0       0       0           0           0      0            0        0            0           0                        1     0     0    0      0       0            20\n",
            "                                                                                                                                                                                                                                                                                                                                                                                                                                                                                                                                                                                                                                                                                                                                                                                                                                                                                                                                                                                                                                                                                                                                                                                                                                                                                                                                                                                                                                                                                                                                                                                                                                                                                                                                                                                                                                                                                                                                                                                                                                                                                                                                                                                                                                                                                                                                                                                                                                                                                                                                                                                                                                                                                                                                                                                                                                                                                                                                                                                                                                                                                                                                                                                                                                                      1     0       0           0          0           0       0         0        0          0        0     0           0            0        0             0          0       0         0       0      0            0              0               0            0          1          0        0            0          0       0      0           0       0           0               0                 0                0      0              0             0             0               0         0          0         0    0        0            0      0       0             0        0     0       0         0       0        0     0          0              0        0       0       0       0           0           0      0            0        0            0           0                        0     0     0    0      0       0            19\n",
            "                                                                                                                                                                                                                                                                                                                                                                                                                                                                                                                                                                                                                                                                                                                                                                                                                                                                                                                                                                                                                                                                                                                                                                                                                                                                                                                                                                                                                                                                                                                                                                                                                                                                                                                                                                                                                                                                                                                                                                                                                                                                                                                                                                                                                                                                                                                                                                                                                                                                                                                                                                                                                                                                                                                                                                                                                                                                                                                                                                                                                                                                                                                                                                                                                                                      0     0       0           0          0           0       0         0        0          0        0     0           0            0        0             0          0       0         0       0      0            0              0               0            0          1          0        0            0          0       0      0           0       0           0               0                 0                0      0              0             0             0               0         0          0         0    0        0            0      0       0             0        0     0       0         0       0        0     0          1              0        0       0       0       0           0           0      0            0        0            0           0                        1     0     0    0      0       0            18\n",
            "                                                                                                                                                                                                                                                                                                                                                                                                                                                                                                                                                                                                                                                                                                                                                                                                                                                                                                                                                                                                                                                                                                                                                                                                                                                                                                                                                                                                                                                                                                                                                                                                                                                                                                                                                                                                                                                                                                                                                                                                                                                                                                                                                                                                                                                                                                                                                                                                                                                                                                                                                                                                                                                                                                                                                                                                                                                                                                                                                                                                                                                                                                                                                                                                                                                                                                                                                                                                                                                                                                                                                                                                                                                                                                                                                                                                                                                                                                                                                                                                                                                                                                        ... \n",
            "                                                                                                                                                                                                                                                                                                                                                                                                                                                                                                                                                                                                                                                                                                                                                                        1        0       0           0       0          0               0        0               0       0       0              0        0        0              0              0         1        0                0      0      0         0         0       0            0     0      0      0        0            0    0       0       0              0          0          0     0           0          0               0     0          0      0             0         0      0           0        0     0     0       0    0    0           0           0                0       0          0       0          0            0    1     0       0            0      0        0         0        0         0    0            0      0             0            0           0                  0          0               0      0        0    0         0        0           0      0    0            0            0             0              0        0            0              0            0     0            0     0            0     0         0        0     0     0       0         0     0     0      0            0           0           0       1        0         0                 0          0     0           0              0            0       0      0        0            0       0              0         0     0         0     0         0              0      0            0         0     0          0     0      0     0         0     0                  0          0               0             0         0       0        0       0          0     0    0       0    0        0        0     0      0          1      0       0              0             0            0        0     0       0     0       0                0        0        0              0    0      0       0              0           0     0            0      0            0       0           0               0        0        0          0          0     0        0        0     0           0             0          0       0            0      0             0                 0        0       0       0       0         0          0         0          0         0                0         0        0               0             0                 0             0            0               0              0             1                    0              0     0                 0     0         0    0         0          0          0        0     0     0       0           0          0           0       1         0        0          0        0     1           0            0        0             0          0       0         0       0      0            0              0               0            0          0          1        0            0          0       0      0           0       0           0               0                 0                0      0              0             0             0               0         0          0         0    0        0            0      0       0             0        0     0       0         0       0        0     1          0              0        0       0       0       0           0           0      0            0        0            0           0                        0     0     0    0      0       0             1\n",
            "                                                                                                                                                                                                                                                                                                                                                                                                                                                                                                                                                                                                                                                                                                                                                                                                                                                                                                                                                1         0        0                0      0      0         0         0       0            0     0      0      0        0            0    0       0       0              0          0          0     0           0          0               0     0          0      0             0         0      0           0        0     0     0       0    0    0           0           0                0       0          0       0          0            0    0     0       0            0      0        0         0        0         0    0            0      0             0            0           1                  0          0               0      0        0    0         0        0           0      0    0            0            0             0              0        0            0              0            0     0            0     0            0     0         0        0     0     0       0         0     0     0      0            0           0           0       0        0         0                 0          0     0           0              0            0       0      0        0            0       0              0         0     0         0     0         0              0      0            0         0     0          0     0      0     0         0     0                  0          0               0             0         0       1        0       0          0     0    0       0    0        0        0     0      0          1      0       0              0             0            0        0     0       0     0       0                0        0        0              0    0      0       0              0           0     0            0      0            0       0           0               0        0        0          0          0     0        0        0     0           0             0          0       0            0      0             0                 0        0       0       0       0         0          0         0          0         0                0         0        0               0             0                 0             0            0               0              0             0                    0              0     0                 0     0         0    0         0          0          0        0     0     0       0           0          0           0       0         0        0          0        0     0           0            0        0             0          0       0         0       0      0            0              0               0            0          0          0        0            0          0       0      0           0       0           0               0                 0                0      0              0             0             0               0         0          0         0    0        0            0      0       0             0        0     0       1         0       0        0     0          1              0        0       0       0       0           0           1      0            0        0            0           0                        0     0     0    0      0       0             1\n",
            "                                                                                                                                                                                                                                                                                                                                                                                                                                                                                                                                                                                                                                                                                                                                                                                                                                                                                                                                                                                                                                                               1        0            0    0       0       0              0          1          0     0           0          0               0     0          0      0             0         1      0           0        0     0     0       0    0    0           0           0                0       0          0       0          0            0    0     0       0            0      0        0         0        0         0    0            0      0             0            0           0                  0          0               0      0        0    0         0        0           0      0    0            0            0             0              0        0            0              0            0     0            0     0            0     0         0        0     0     0       0         0     0     0      0            0           0           0       0        0         0                 0          0     0           0              0            0       0      0        0            0       0              0         0     0         0     0         0              0      0            0         0     0          0     0      0     0         0     0                  0          0               0             0         0       0        0       0          0     0    0       0    0        0        0     0      1          1      0       0              0             0            0        0     0       0     0       0                0        0        0              0    0      0       0              0           0     0            0      0            0       0           0               0        0        0          0          0     0        0        0     0           0             0          1       0            0      0             0                 0        0       0       0       0         0          0         0          0         0                0         0        0               0             0                 0             0            0               0              0             0                    0              0     0                 0     0         0    0         0          0          0        0     0     0       0           0          0           0       0         0        0          0        0     0           0            0        0             0          0       0         0       0      0            0              0               0            0          0          0        0            0          0       0      0           0       0           0               0                 0                0      0              0             0             0               0         0          0         0    0        0            0      1       0             0        0     0       1         0       0        0     0          0              0        0       0       0       0           0           0      0            0        0            0           0                        0     0     0    0      0       0             1\n",
            "                                                                                                                                                                                                                                                                                                                                                                                                                                                                                                                                                                                                                                                                                                                                                                                                                                                                                                                                                                                                                                                                                                                                                                                                                                                                                                                                                                          1          0            0    0     0       0            0      0        0         0        0         0    0            0      0             0            0           0                  0          0               0      0        0    0         0        0           0      0    0            0            0             0              0        0            0              0            0     0            0     0            0     0         0        0     0     0       0         0     0     0      0            0           0           0       0        0         0                 0          0     0           0              0            0       0      0        0            0       0              0         0     0         0     0         0              0      0            0         0     0          0     0      0     0         0     0                  0          0               0             0         0       0        0       0          0     0    0       0    0        0        0     0      0          1      0       0              0             0            0        0     0       0     0       0                0        0        0              1    0      0       0              0           0     0            0      0            1       0           0               0        0        0          0          0     0        0        0     0           0             0          1       0            0      0             0                 0        0       0       0       0         0          0         0          0         0                0         0        0               0             0                 0             0            0               0              0             0                    0              0     0                 0     0         0    0         0          0          0        0     0     0       0           0          0           0       0         0        0          0        0     0           0            0        0             0          0       0         0       0      0            0              0               0            0          0          0        0            0          0       0      0           0       0           0               0                 0                0      0              0             0             0               0         0          0         0    0        0            0      1       0             0        0     0       1         0       0        0     0          1              0        0       0       0       0           0           0      0            0        0            0           0                        0     0     0    0      0       0             1\n",
            "1       0         0      0           0      0             0        0         0          0          0          0        1      0             0     0       0       0              0      0    0     0      0     0           0           0     0     0            0         0      0              0           0              0                       0             0                0                  0          0           0                  0            0          0         0                0       0         0      0         0           0                0          0       0           0        0                        0      0                 0              0        0         0          0      0       0       0        0        0            0       0        0       0           0       0          0               0        0               0       0       0              0        0        0              0              0         0        0                0      0      0         0         0       0            0     0      0      0        0            0    0       0       0              0          0          0     0           0          0               0     0          0      0             0         0      0           0        0     0     0       0    1    0           0           0                0       0          0       0          0            0    0     0       0            0      0        0         0        0         0    0            0      0             0            0           0                  0          0               0      0        0    0         0        0           0      0    0            0            0             0              0        0            0              0            0     0            0     0            0     0         0        0     0     0       0         0     0     0      0            0           0           0       0        0         0                 0          0     0           0              0            0       0      0        0            0       0              0         0     0         0     0         0              0      0            0         0     0          0     0      0     0         0     0                  0          0               0             0         0       0        0       0          0     0    0       0    0        0        0     0      0          0      0       0              0             0            0        0     0       0     0       0                0        0        0              0    0      0       0              0           0     0            0      0            0       0           0               0        0        0          0          0     0        0        0     0           0             0          0       0            0      0             0                 0        0       0       0       0         0          0         0          0         0                0         0        0               0             0                 0             0            0               0              0             0                    0              0     0                 0     0         0    0         0          0          0        0     0     0       0           0          0           0       0         0        0          0        0     0           0            0        0             0          0       0         0       0      0            0              0               0            0          0          0        0            0          0       0      0           0       0           0               0                 0                0      0              0             0             0               0         0          0         0    0        0            0      0       0             0        0     0       0         0       0        0     0          1              0        0       0       0       0           0           0      0            0        0            0           0                        0     0     0    0      0       0             1\n",
            "Length: 3138, dtype: int64\n",
            "old label count : almond  angelica  anise  anise_seed  apple  apple_brandy  apricot  armagnac  artemisia  artichoke  asparagus  avocado  bacon  baked_potato  balm  banana  barley  bartlett_pear  basil  bay  bean  beech  beef  beef_broth  beef_liver  beer  beet  bell_pepper  bergamot  berry  bitter_orange  black_bean  black_currant  black_mustard_seed_oil  black_pepper  black_raspberry  black_sesame_seed  black_tea  blackberry  blackberry_brandy  blue_cheese  blueberry  bone_oil  bourbon_whiskey  brandy  brassica  bread  broccoli  brown_rice  brussels_sprout  buckwheat  butter  buttermilk  cabbage  cabernet_sauvignon_wine  cacao  camembert_cheese  cane_molasses  caraway  cardamom  carnation  carob  carrot  cashew  cassava  catfish  cauliflower  caviar  cayenne  celery  celery_oil  cereal  chamomile  champagne_wine  chayote  cheddar_cheese  cheese  cherry  cherry_brandy  chervil  chicken  chicken_broth  chicken_liver  chickpea  chicory  chinese_cabbage  chive  cider  cilantro  cinnamon  citrus  citrus_peel  clam  clove  cocoa  coconut  coconut_oil  cod  coffee  cognac  concord_grape  condiment  coriander  corn  corn_flake  corn_grit  cottage_cheese  crab  cranberry  cream  cream_cheese  cucumber  cumin  cured_pork  currant  date  dill  durian  eel  egg  egg_noodle  elderberry  emmental_cheese  endive  enokidake  fennel  fenugreek  feta_cheese  fig  fish  flower  frankfurter  fruit  galanga  gardenia  gelatin  geranium  gin  goat_cheese  grape  grape_brandy  grape_juice  grapefruit  green_bell_pepper  green_tea  gruyere_cheese  guava  haddock  ham  hazelnut  herring  holy_basil  honey  hop  horseradish  huckleberry  jamaican_rum  japanese_plum  jasmine  jasmine_tea  juniper_berry  kaffir_lime  kale  katsuobushi  kelp  kidney_bean  kiwi  kohlrabi  kumquat  lamb  lard  laurel  lavender  leaf  leek  lemon  lemon_juice  lemon_peel  lemongrass  lentil  lettuce  licorice  lilac_flower_oil  lima_bean  lime  lime_juice  lime_peel_oil  lingonberry  litchi  liver  lobster  long_pepper  lovage  macadamia_nut  macaroni  mace  mackerel  malt  mandarin  mandarin_peel  mango  maple_syrup  marjoram  mate  matsutake  meat  melon  milk  milk_fat  mint  mozzarella_cheese  mung_bean  munster_cheese  muscat_grape  mushroom  mussel  mustard  mutton  nectarine  nira  nut  nutmeg  oat  oatmeal  octopus  okra  olive  olive_oil  onion  orange  orange_flower  orange_juice  orange_peel  oregano  ouzo  oyster  palm  papaya  parmesan_cheese  parsley  parsnip  passion_fruit  pea  peach  peanut  peanut_butter  peanut_oil  pear  pear_brandy  pecan  pelargonium  pepper  peppermint  peppermint_oil  pimenta  pimento  pineapple  pistachio  plum  popcorn  porcini  pork  pork_liver  pork_sausage  port_wine  potato  potato_chip  prawn  prickly_pear  provolone_cheese  pumpkin  quince  radish  raisin  rapeseed  raspberry  raw_beef  red_algae  red_bean  red_kidney_bean  red_wine  rhubarb  roasted_almond  roasted_beef  roasted_hazelnut  roasted_meat  roasted_nut  roasted_peanut  roasted_pecan  roasted_pork  roasted_sesame_seed  romano_cheese  root  roquefort_cheese  rose  rosemary  rum  rutabaga  rye_bread  rye_flour  saffron  sage  sake  salmon  salmon_roe  sassafras  sauerkraut  savory  scallion  scallop  sea_algae  seaweed  seed  sesame_oil  sesame_seed  shallot  sheep_cheese  shellfish  sherry  shiitake  shrimp  smoke  smoked_fish  smoked_salmon  smoked_sausage  sour_cherry  sour_milk  soy_sauce  soybean  soybean_oil  spearmint  squash  squid  star_anise  starch  strawberry  strawberry_jam  strawberry_juice  sturgeon_caviar  sumac  sunflower_oil  sweet_potato  swiss_cheese  tabasco_pepper  tamarind  tangerine  tarragon  tea  tequila  thai_pepper  thyme  tomato  tomato_juice  truffle  tuna  turkey  turmeric  turnip  vanilla  veal  vegetable  vegetable_oil  vinegar  violet  walnut  wasabi  watercress  watermelon  wheat  wheat_bread  whiskey  white_bread  white_wine  whole_grain_wheat_flour  wine  wood  yam  yeast  yogurt  zucchini\n",
            "0       0         0      0           0      0             0        0         0          0          0          0        0      0             0     0       0       0              0      0    0     0      0     0           0           0     0     0            0         0      0              0           0              0                       0             0                0                  0          0           0                  0            0          0         0                0       0         0      0         0           0                0          0       0           0        0                        0      0                 0              0        0         0          0      0       0       0        0        0            0       0        0       0           0       0          0               0        0               0       0       0              0        0        0              0              0         0        0                0      0      0         0         0       0            0     0      0      0        0            0    0       0       0              0          0          0     0           0          0               0     0          0      0             0         0      0           0        0     0     0       0    0    0           0           0                0       0          0       0          0            0    0     0       0            0      0        0         0        0         0    0            0      0             0            0           0                  0          0               0      0        0    0         0        0           0      0    0            0            0             0              0        0            0              0            0     0            0     0            0     0         0        0     0     0       0         0     0     0      0            0           0           0       0        0         0                 0          0     0           0              0            0       0      0        0            0       0              0         0     0         0     0         0              0      0            0         0     0          0     0      0     0         0     0                  0          0               0             0         0       0        0       0          0     0    0       0    0        0        0     0      0          0      0       0              0             0            0        0     0       0     0       0                0        0        0              0    0      0       0              0           0     0            0      0            0       0           0               0        0        0          0          0     0        0        0     0           0             0          0       0            0      0             0                 0        0       0       0       0         0          0         0          0         0                0         0        0               0             0                 0             0            0               0              0             0                    0              0     0                 0     0         0    0         0          0          0        0     0     0       0           0          0           0       0         0        0          0        0     0           0            0        0             0          0       0         0       0      0            0              0               0            0          0          0        0            0          0       0      0           0       0           0               0                 0                0      0              0             0             0               0         0          0         0    0        0            0      0       0             0        0     0       0         0       0        0     0          0              0        0       0       0       0           0           0      0            0        0            0           0                        0     0     0    0      0       0           10\n",
            "                                                                                                                                                                                                                                                                                                                                                                                                                                                                                                                                                                              1       0           0        0                        0      0                 0              0        0         0          0      0       0       0        0        0            0       0        0       0           0       0          0               0        0               0       0       0              0        0        0              0              0         0        0                0      0      0         0         0       0            0     0      0      0        0            0    0       0       0              0          0          0     0           0          0               0     0          0      0             0         0      0           0        0     0     0       0    0    0           0           0                0       0          0       0          0            0    0     0       0            0      0        0         0        0         0    0            0      0             0            0           0                  0          0               0      0        0    0         0        0           0      0    0            0            0             0              0        0            0              0            0     0            0     0            0     0         0        0     0     0       0         0     0     0      0            0           0           0       0        0         0                 0          0     0           0              0            0       0      0        0            0       0              0         0     0         0     0         0              0      0            0         0     0          0     0      0     0         0     0                  0          0               0             0         0       0        0       0          0     0    0       0    0        0        0     0      0          0      0       0              0             0            0        0     0       0     0       0                0        0        0              0    0      0       0              0           0     0            0      0            0       0           0               0        0        0          0          0     0        0        0     0           0             0          0       0            0      0             0                 0        0       0       0       0         0          0         0          0         0                0         0        0               0             0                 0             0            0               0              0             0                    0              0     0                 0     0         0    0         0          0          0        0     0     0       0           0          0           0       0         0        0          0        0     0           0            0        0             0          0       0         0       0      0            0              0               0            0          0          0        0            0          0       0      0           0       0           0               0                 0                0      0              0             0             0               0         0          0         0    0        0            0      0       0             0        0     0       0         0       0        0     0          0              0        0       0       0       0           0           0      0            0        0            0           0                        0     0     0    0      0       0            5\n",
            "                                                                                                                                                                                                                                                                                                                                                                                                                                                                                                                                                                              0       0           0        0                        0      0                 0              0        0         0          0      0       0       0        0        0            0       0        0       0           0       0          0               0        0               0       0       0              0        0        0              0              0         0        0                0      0      0         0         0       0            0     0      0      0        0            0    0       0       0              0          0          0     0           0          0               0     0          0      0             0         0      0           0        0     0     0       0    0    0           0           0                0       0          0       0          0            0    0     0       0            0      0        0         0        0         0    0            0      0             0            0           0                  0          0               0      0        0    0         0        0           0      0    0            0            0             0              0        0            0              0            0     0            0     0            0     0         0        0     0     0       0         0     0     0      0            0           0           0       0        0         0                 0          0     0           0              0            0       0      0        0            0       0              0         0     0         0     0         0              0      0            0         0     0          0     0      0     0         0     0                  0          0               0             0         0       0        0       0          0     0    0       0    0        0        0     0      0          0      0       0              0             0            0        0     0       0     0       0                0        0        0              0    0      0       0              0           0     0            0      0            0       0           0               0        0        0          0          0     0        0        0     0           0             0          0       0            0      0             0                 0        0       0       0       0         0          0         0          0         0                0         0        0               0             0                 0             0            0               0              0             0                    0              0     0                 0     0         0    0         0          0          0        0     0     0       0           0          0           0       0         0        0          0        0     0           0            0        0             0          0       0         0       0      0            0              0               0            0          0          0        0            0          0       0      0           0       0           0               0                 0                0      0              0             0             0               0         0          0         0    0        0            0      0       0             0        0     0       0         0       0        0     0          1              0        0       0       0       0           0           1      0            0        0            0           0                        0     0     0    0      0       0            4\n",
            "                                                                                                                                                                                                                                                                                                                                                                                                                                                                                                                                                                                                                                                                                                                                                                                                                                                                                                                                                                                                                                                                                                                                                                                                                                                                                                                                                                                                       1     0       0            0      0        0         0        0         0    0            0      0             0            0           0                  0          0               0      0        0    0         0        0           0      0    0            0            0             0              0        0            0              0            0     1            0     0            0     0         0        0     0     0       0         0     0     0      0            0           0           0       0        0         0                 0          0     0           0              0            0       0      0        0            0       0              0         0     0         0     0         0              0      0            0         0     0          0     0      0     0         0     0                  0          0               0             0         0       0        0       0          0     0    0       0    0        0        0     0      0          0      0       0              0             0            0        0     0       0     0       0                0        0        0              0    0      0       0              0           0     0            0      0            0       0           0               0        0        0          0          0     0        0        0     0           0             0          0       0            0      0             0                 0        0       0       0       0         0          0         0          0         0                0         0        0               0             0                 0             0            0               0              0             0                    0              0     0                 0     0         0    0         0          0          0        0     0     0       0           0          0           0       0         0        0          1        0     0           0            0        0             0          0       0         0       0      0            0              0               0            0          0          0        0            0          0       0      0           0       0           0               0                 0                0      0              0             0             0               0         0          0         0    0        0            0      0       0             0        0     0       0         0       0        0     0          0              0        0       0       0       0           0           0      0            0        0            0           0                        0     0     0    0      0       0            3\n",
            "                                                                                                                                                                                                          1     0           0           0     0     0            0         0      0              0           0              0                       1             0                0                  0          0           0                  0            0          0         0                0       0         0      0         0           0                0          0       0           0        0                        0      0                 0              0        0         0          0      0       0       0        0        0            0       0        0       0           0       0          0               0        0               0       0       0              0        0        0              0              0         0        0                0      0      0         0         0       0            0     0      0      0        0            0    0       0       0              0          0          0     0           0          0               0     0          0      0             0         0      0           0        0     0     0       0    0    0           0           0                0       0          0       0          0            0    0     0       0            0      0        0         0        0         0    0            0      0             0            0           0                  0          0               0      0        0    0         0        0           0      0    0            0            0             0              0        0            0              0            0     0            0     0            0     0         0        0     0     0       0         0     0     0      0            0           0           0       0        0         0                 0          0     0           0              0            0       0      0        0            0       0              0         0     0         0     0         0              0      0            0         0     0          0     0      0     0         0     0                  0          0               0             0         0       0        0       0          0     0    0       0    0        0        0     0      0          0      0       0              0             0            0        0     0       0     0       0                0        0        0              0    0      0       0              0           0     0            0      0            0       0           0               0        0        0          0          0     0        0        0     0           0             0          0       0            0      0             0                 0        0       1       0       0         0          0         0          0         0                0         0        0               0             0                 0             0            0               0              0             0                    0              0     0                 0     0         0    0         0          0          0        0     0     0       0           0          0           0       1         0        0          0        0     1           0            0        0             0          0       0         0       0      0            0              0               0            0          1          0        0            0          0       0      0           0       0           0               0                 0                0      0              0             0             0               0         0          0         0    0        0            0      0       0             0        0     0       0         0       0        0     0          0              0        0       0       0       0           0           0      0            0        0            0           0                        0     0     0    0      0       0            3\n",
            "                                                                                                                                                                                                                                                                                                                                                                                                                                                                                                                                                                                                                                                                                                                                                                                                                                                                                                                                                                                                                                                                                                                                                                                                                                                                                                                                                                                                                                                                                                                                                                                                                                                                                                                                                                                                                                                                                                                                                                                                                                                                                                                                                                                                                                                                                                                                                                                                                                                                                                                                                                                                                                                                                                                                                                                                                                                                                                                                                                                                                                                                                                                                                                                                                                                                                                                                                                                                                                                                                                                                                                                                                                                                                                                                                                                                                                                                                                                                                                                                                                                                                                         ..\n",
            "                                                                                                                                                                                                          0     0           0           0     0     0            0         0      0              0           0              0                       0             0                0                  0          0           0                  0            0          0         0                0       0         0      0         0           0                0          0       0           0        0                        0      0                 0              0        0         0          0      0       0       0        0        0            0       1        0       1           0       0          0               0        0               0       0       0              0        0        0              0              0         0        0                0      0      0         0         0       0            0     0      0      0        0            0    0       0       0              0          1          1     0           0          0               0     0          1      0             0         1      0           0        0     0     0       0    0    0           0           0                0       0          0       0          0            0    0     0       0            0      0        0         0        0         0    0            0      0             0            0           0                  0          0               0      0        0    0         0        0           0      0    0            0            0             0              0        0            0              0            0     0            0     0            0     0         0        0     0     0       0         0     0     0      0            0           0           0       0        0         0                 0          0     0           0              0            0       0      0        0            0       0              0         0     0         0     0         0              0      0            0         0     0          0     0      0     0         0     0                  0          0               0             0         0       0        0       0          0     0    0       0    0        0        0     0      1          1      0       0              0             0            0        0     0       0     0       0                0        0        0              1    0      0       0              0           0     0            0      0            0       0           0               0        0        0          0          0     0        0        0     0           0             0          0       0            0      0             0                 0        0       0       0       0         0          0         0          0         0                0         0        0               0             0                 0             0            0               0              0             0                    0              0     0                 0     0         0    0         0          0          0        0     0     0       0           0          0           0       0         0        0          0        0     0           0            0        0             0          0       0         0       0      0            0              0               0            0          0          0        0            0          0       0      0           0       0           0               0                 0                0      0              0             0             0               0         0          0         0    0        0            0      1       0             0        0     0       1         0       0        0     0          0              1        0       0       0       0           0           0      0            0        0            0           0                        0     0     0    0      0       0            1\n",
            "                                                                                                                                                                                                                                                                                                                                                                                                                                                                                                                                                                                                                                                                                                                                                                                                                                                                                                                                                                                                  1         0         0       0            0     0      0      0        0            0    0       0       0              0          0          1     0           0          0               0     0          0      0             0         0      0           0        0     0     0       0    0    0           0           0                0       0          0       1          0            0    0     0       0            0      0        0         0        0         0    0            0      0             0            0           0                  0          0               0      0        0    0         0        0           0      0    0            0            0             0              0        0            0              0            0     0            0     0            0     0         0        0     0     0       0         0     0     0      1            0           0           0       0        0         0                 0          0     0           0              0            0       0      0        0            0       0              0         0     0         0     0         0              0      0            0         0     0          0     0      0     0         0     0                  0          0               0             0         0       0        0       0          0     0    0       0    0        0        0     0      0          1      0       0              0             0            0        0     0       0     0       0                0        0        0              0    0      0       0              0           0     0            0      0            0       0           0               0        0        0          0          0     0        0        0     0           0             0          0       0            0      0             0                 0        0       0       0       0         0          0         0          0         0                0         0        0               0             0                 0             0            0               0              0             0                    0              0     0                 0     0         0    0         0          0          0        0     0     0       0           0          0           0       0         0        0          0        0     0           0            0        0             0          0       0         0       0      0            0              0               0            0          0          0        0            0          0       0      0           0       0           0               0                 0                0      0              0             0             0               0         0          0         0    0        0            0      1       0             0        0     0       0         0       0        0     0          0              1        0       0       0       0           0           0      0            0        0            0           0                        0     0     0    0      0       0            1\n",
            "                                                                                                                                                                                                                                                                                                                                                                                                                                                                                                                                                                                                                                                                                                                                                                                                                                                                                                         1        0              0              0         0        0                0      0      0         0         0       0            0     0      0      0        0            0    0       0       0              0          0          1     0           0          0               0     0          0      0             1         0      0           0        0     0     0       0    0    0           0           0                0       0          0       0          0            0    0     0       0            0      0        0         0        0         0    0            0      0             0            0           0                  0          0               0      0        0    0         0        0           0      0    0            0            0             0              0        0            0              0            0     0            0     0            0     0         0        0     0     0       0         0     0     0      0            0           0           0       0        0         0                 0          0     0           0              0            0       0      0        0            0       0              0         0     0         0     0         0              0      0            0         0     0          0     0      0     0         0     0                  0          0               0             0         0       0        0       0          0     0    0       0    0        0        0     0      0          1      0       0              0             0            0        0     1       0     0       0                0        0        0              0    0      0       0              0           0     0            0      0            0       0           0               0        0        0          0          0     0        0        0     0           0             0          0       0            0      0             0                 0        0       0       0       0         0          0         0          0         0                0         0        0               0             0                 0             0            0               0              0             0                    0              0     0                 0     0         0    0         0          0          0        0     1     0       0           0          0           0       1         0        0          0        0     0           0            0        0             0          0       0         0       0      0            0              0               0            0          1          0        0            0          0       0      0           1       0           0               0                 0                0      0              0             0             0               0         0          0         0    0        0            0      1       0             0        0     0       0         0       0        0     0          1              1        0       0       0       0           0           0      0            0        0            0           0                        0     0     0    0      0       0            1\n",
            "                                                                                                                                                                                                                                                                                                                                                                                                                                                                                                                                                                                                                                                                                                                                                                                 1       0           0       0          0               0        0               0       0       0              0        0        1              0              0         0        0                0      0      1         0         0       0            0     0      0      1        0            0    0       0       0              0          1          0     0           0          0               0     0          1      0             1         1      0           0        0     0     0       0    0    0           0           0                0       0          0       1          0            0    1     0       0            0      0        0         0        0         0    0            0      0             0            0           0                  0          0               0      0        0    0         0        0           0      0    0            0            0             0              0        0            0              0            0     0            0     0            0     0         0        0     0     0       0         0     0     0      0            0           0           0       1        0         0                 0          0     0           0              0            0       0      0        0            0       0              0         0     0         0     0         0              0      0            0         0     0          0     0      0     0         0     0                  0          0               0             0         0       0        0       0          0     0    0       0    0        0        0     0      0          0      0       0              0             0            0        0     1       0     0       0                0        0        0              0    0      0       0              0           0     0            0      0            1       0           0               0        0        0          0          0     0        0        0     0           0             0          0       0            0      0             0                 0        0       0       0       0         0          0         0          0         0                0         0        0               0             0                 0             0            0               0              0             0                    0              0     0                 0     0         0    0         0          0          0        0     0     0       0           0          0           0       0         0        0          0        0     0           0            0        0             0          0       0         0       0      0            0              0               0            0          0          0        0            0          0       1      0           0       0           0               0                 0                0      0              0             0             0               0         0          0         0    0        0            0      0       0             0        0     0       1         0       0        0     0          1              1        0       0       0       0           0           0      0            0        0            0           0                        0     0     0    0      0       0            1\n",
            "1       0         0      0           0      0             0        0         0          0          0          0        1      0             0     0       0       0              0      0    0     0      0     0           0           0     0     0            0         0      0              0           0              0                       0             0                0                  0          0           0                  0            0          0         0                0       0         0      0         0           0                0          0       0           0        0                        0      0                 0              0        0         0          0      0       0       0        0        0            0       0        0       0           0       0          0               0        0               0       0       0              0        0        0              0              0         0        0                0      0      0         0         0       0            0     0      0      0        0            0    0       0       0              0          0          0     0           0          0               0     0          0      0             0         0      0           0        0     0     0       0    1    0           0           0                0       0          0       0          0            0    0     0       0            0      0        0         0        0         0    0            0      0             0            0           0                  0          0               0      0        0    0         0        0           0      0    0            0            0             0              0        0            0              0            0     0            0     0            0     0         0        0     0     0       0         0     0     0      0            0           0           0       0        0         0                 0          0     0           0              0            0       0      0        0            0       0              0         0     0         0     0         0              0      0            0         0     0          0     0      0     0         0     0                  0          0               0             0         0       0        0       0          0     0    0       0    0        0        0     0      0          0      0       0              0             0            0        0     0       0     0       0                0        0        0              0    0      0       0              0           0     0            0      0            0       0           0               0        0        0          0          0     0        0        0     0           0             0          0       0            0      0             0                 0        0       0       0       0         0          0         0          0         0                0         0        0               0             0                 0             0            0               0              0             0                    0              0     0                 0     0         0    0         0          0          0        0     0     0       0           0          0           0       0         0        0          0        0     0           0            0        0             0          0       0         0       0      0            0              0               0            0          0          0        0            0          0       0      0           0       0           0               0                 0                0      0              0             0             0               0         0          0         0    0        0            0      0       0             0        0     0       0         0       0        0     0          1              0        0       0       0       0           0           0      0            0        0            0           0                        0     0     0    0      0       0            1\n",
            "Length: 2396, dtype: int64\n"
          ]
        }
      ]
    },
    {
      "cell_type": "code",
      "source": [
        "# the data now is clean , balanced , and very effective\n",
        "# last one is to save your balanced data , including labels and feature into anew dataframe that can be exported into a file\n",
        "transformed_df = pd.concat([transformed_label_df , transformed_feature_df] , axis=1,join=\"outer\")"
      ],
      "metadata": {
        "id": "2S-IZqHMw0O6"
      },
      "execution_count": 67,
      "outputs": []
    },
    {
      "cell_type": "code",
      "source": [],
      "metadata": {
        "id": "7-RpgHTsbr8X"
      },
      "execution_count": null,
      "outputs": []
    },
    {
      "cell_type": "code",
      "source": [
        "len(transformed_df.columns)"
      ],
      "metadata": {
        "colab": {
          "base_uri": "https://localhost:8080/"
        },
        "id": "sl2MbWwFEzfc",
        "outputId": "0a4dd377-6d15-4a2a-fb0a-c3f7050c5aea"
      },
      "execution_count": 131,
      "outputs": [
        {
          "output_type": "execute_result",
          "data": {
            "text/plain": [
              "381"
            ]
          },
          "metadata": {},
          "execution_count": 131
        }
      ]
    },
    {
      "cell_type": "code",
      "source": [
        " len(pd.concat([transformed_label_df , transformed_feature_df] , axis=1).columns)"
      ],
      "metadata": {
        "colab": {
          "base_uri": "https://localhost:8080/"
        },
        "id": "oUhX5G5REzhN",
        "outputId": "6cbc2410-1675-459b-df37-88fa6d14f17c"
      },
      "execution_count": 132,
      "outputs": [
        {
          "output_type": "execute_result",
          "data": {
            "text/plain": [
              "381"
            ]
          },
          "metadata": {},
          "execution_count": 132
        }
      ]
    },
    {
      "cell_type": "code",
      "source": [
        "transformed_df.isnull().sum()"
      ],
      "metadata": {
        "colab": {
          "base_uri": "https://localhost:8080/"
        },
        "id": "OZa6fOkUw0RI",
        "outputId": "9950373c-1997-4e0a-b825-09245d10faab"
      },
      "execution_count": 133,
      "outputs": [
        {
          "output_type": "execute_result",
          "data": {
            "text/plain": [
              "cuisine       0\n",
              "almond        0\n",
              "angelica      0\n",
              "anise         0\n",
              "anise_seed    0\n",
              "             ..\n",
              "wood          0\n",
              "yam           0\n",
              "yeast         0\n",
              "yogurt        0\n",
              "zucchini      0\n",
              "Length: 381, dtype: int64"
            ]
          },
          "metadata": {},
          "execution_count": 133
        }
      ]
    },
    {
      "cell_type": "code",
      "source": [
        "transformed_df.to_csv(\"cleaned_cuisines.csv\")"
      ],
      "metadata": {
        "id": "juUhCV4Bw0VT"
      },
      "execution_count": 134,
      "outputs": []
    },
    {
      "cell_type": "markdown",
      "source": [],
      "metadata": {
        "id": "G63Pb-5B2dnV"
      }
    },
    {
      "cell_type": "code",
      "source": [
        "import pandas as pd\n",
        "cuisines_df = pd.read_csv('cleaned_cuisines.csv')\n",
        "cuisines_df.head()"
      ],
      "metadata": {
        "colab": {
          "base_uri": "https://localhost:8080/",
          "height": 317
        },
        "id": "3RZSMoq-2eMI",
        "outputId": "26d9de87-b93c-4176-81d2-fdc8652aa7d8"
      },
      "execution_count": 135,
      "outputs": [
        {
          "output_type": "execute_result",
          "data": {
            "text/plain": [
              "   Unnamed: 0 cuisine  almond  angelica  anise  anise_seed  apple  \\\n",
              "0           0  indian       0         0      0           0      0   \n",
              "1           1  indian       1         0      0           0      0   \n",
              "2           2  indian       0         0      0           0      0   \n",
              "3           3  indian       0         0      0           0      0   \n",
              "4           4  indian       0         0      0           0      0   \n",
              "\n",
              "   apple_brandy  apricot  armagnac  ...  whiskey  white_bread  white_wine  \\\n",
              "0             0        0         0  ...        0            0           0   \n",
              "1             0        0         0  ...        0            0           0   \n",
              "2             0        0         0  ...        0            0           0   \n",
              "3             0        0         0  ...        0            0           0   \n",
              "4             0        0         0  ...        0            0           0   \n",
              "\n",
              "   whole_grain_wheat_flour  wine  wood  yam  yeast  yogurt  zucchini  \n",
              "0                        0     0     0    0      0       0         0  \n",
              "1                        0     0     0    0      0       0         0  \n",
              "2                        0     0     0    0      0       0         0  \n",
              "3                        0     0     0    0      0       0         0  \n",
              "4                        0     0     0    0      0       1         0  \n",
              "\n",
              "[5 rows x 382 columns]"
            ],
            "text/html": [
              "\n",
              "  <div id=\"df-bda608e6-4d28-4377-b730-c649d3463b4b\">\n",
              "    <div class=\"colab-df-container\">\n",
              "      <div>\n",
              "<style scoped>\n",
              "    .dataframe tbody tr th:only-of-type {\n",
              "        vertical-align: middle;\n",
              "    }\n",
              "\n",
              "    .dataframe tbody tr th {\n",
              "        vertical-align: top;\n",
              "    }\n",
              "\n",
              "    .dataframe thead th {\n",
              "        text-align: right;\n",
              "    }\n",
              "</style>\n",
              "<table border=\"1\" class=\"dataframe\">\n",
              "  <thead>\n",
              "    <tr style=\"text-align: right;\">\n",
              "      <th></th>\n",
              "      <th>Unnamed: 0</th>\n",
              "      <th>cuisine</th>\n",
              "      <th>almond</th>\n",
              "      <th>angelica</th>\n",
              "      <th>anise</th>\n",
              "      <th>anise_seed</th>\n",
              "      <th>apple</th>\n",
              "      <th>apple_brandy</th>\n",
              "      <th>apricot</th>\n",
              "      <th>armagnac</th>\n",
              "      <th>...</th>\n",
              "      <th>whiskey</th>\n",
              "      <th>white_bread</th>\n",
              "      <th>white_wine</th>\n",
              "      <th>whole_grain_wheat_flour</th>\n",
              "      <th>wine</th>\n",
              "      <th>wood</th>\n",
              "      <th>yam</th>\n",
              "      <th>yeast</th>\n",
              "      <th>yogurt</th>\n",
              "      <th>zucchini</th>\n",
              "    </tr>\n",
              "  </thead>\n",
              "  <tbody>\n",
              "    <tr>\n",
              "      <th>0</th>\n",
              "      <td>0</td>\n",
              "      <td>indian</td>\n",
              "      <td>0</td>\n",
              "      <td>0</td>\n",
              "      <td>0</td>\n",
              "      <td>0</td>\n",
              "      <td>0</td>\n",
              "      <td>0</td>\n",
              "      <td>0</td>\n",
              "      <td>0</td>\n",
              "      <td>...</td>\n",
              "      <td>0</td>\n",
              "      <td>0</td>\n",
              "      <td>0</td>\n",
              "      <td>0</td>\n",
              "      <td>0</td>\n",
              "      <td>0</td>\n",
              "      <td>0</td>\n",
              "      <td>0</td>\n",
              "      <td>0</td>\n",
              "      <td>0</td>\n",
              "    </tr>\n",
              "    <tr>\n",
              "      <th>1</th>\n",
              "      <td>1</td>\n",
              "      <td>indian</td>\n",
              "      <td>1</td>\n",
              "      <td>0</td>\n",
              "      <td>0</td>\n",
              "      <td>0</td>\n",
              "      <td>0</td>\n",
              "      <td>0</td>\n",
              "      <td>0</td>\n",
              "      <td>0</td>\n",
              "      <td>...</td>\n",
              "      <td>0</td>\n",
              "      <td>0</td>\n",
              "      <td>0</td>\n",
              "      <td>0</td>\n",
              "      <td>0</td>\n",
              "      <td>0</td>\n",
              "      <td>0</td>\n",
              "      <td>0</td>\n",
              "      <td>0</td>\n",
              "      <td>0</td>\n",
              "    </tr>\n",
              "    <tr>\n",
              "      <th>2</th>\n",
              "      <td>2</td>\n",
              "      <td>indian</td>\n",
              "      <td>0</td>\n",
              "      <td>0</td>\n",
              "      <td>0</td>\n",
              "      <td>0</td>\n",
              "      <td>0</td>\n",
              "      <td>0</td>\n",
              "      <td>0</td>\n",
              "      <td>0</td>\n",
              "      <td>...</td>\n",
              "      <td>0</td>\n",
              "      <td>0</td>\n",
              "      <td>0</td>\n",
              "      <td>0</td>\n",
              "      <td>0</td>\n",
              "      <td>0</td>\n",
              "      <td>0</td>\n",
              "      <td>0</td>\n",
              "      <td>0</td>\n",
              "      <td>0</td>\n",
              "    </tr>\n",
              "    <tr>\n",
              "      <th>3</th>\n",
              "      <td>3</td>\n",
              "      <td>indian</td>\n",
              "      <td>0</td>\n",
              "      <td>0</td>\n",
              "      <td>0</td>\n",
              "      <td>0</td>\n",
              "      <td>0</td>\n",
              "      <td>0</td>\n",
              "      <td>0</td>\n",
              "      <td>0</td>\n",
              "      <td>...</td>\n",
              "      <td>0</td>\n",
              "      <td>0</td>\n",
              "      <td>0</td>\n",
              "      <td>0</td>\n",
              "      <td>0</td>\n",
              "      <td>0</td>\n",
              "      <td>0</td>\n",
              "      <td>0</td>\n",
              "      <td>0</td>\n",
              "      <td>0</td>\n",
              "    </tr>\n",
              "    <tr>\n",
              "      <th>4</th>\n",
              "      <td>4</td>\n",
              "      <td>indian</td>\n",
              "      <td>0</td>\n",
              "      <td>0</td>\n",
              "      <td>0</td>\n",
              "      <td>0</td>\n",
              "      <td>0</td>\n",
              "      <td>0</td>\n",
              "      <td>0</td>\n",
              "      <td>0</td>\n",
              "      <td>...</td>\n",
              "      <td>0</td>\n",
              "      <td>0</td>\n",
              "      <td>0</td>\n",
              "      <td>0</td>\n",
              "      <td>0</td>\n",
              "      <td>0</td>\n",
              "      <td>0</td>\n",
              "      <td>0</td>\n",
              "      <td>1</td>\n",
              "      <td>0</td>\n",
              "    </tr>\n",
              "  </tbody>\n",
              "</table>\n",
              "<p>5 rows × 382 columns</p>\n",
              "</div>\n",
              "      <button class=\"colab-df-convert\" onclick=\"convertToInteractive('df-bda608e6-4d28-4377-b730-c649d3463b4b')\"\n",
              "              title=\"Convert this dataframe to an interactive table.\"\n",
              "              style=\"display:none;\">\n",
              "        \n",
              "  <svg xmlns=\"http://www.w3.org/2000/svg\" height=\"24px\"viewBox=\"0 0 24 24\"\n",
              "       width=\"24px\">\n",
              "    <path d=\"M0 0h24v24H0V0z\" fill=\"none\"/>\n",
              "    <path d=\"M18.56 5.44l.94 2.06.94-2.06 2.06-.94-2.06-.94-.94-2.06-.94 2.06-2.06.94zm-11 1L8.5 8.5l.94-2.06 2.06-.94-2.06-.94L8.5 2.5l-.94 2.06-2.06.94zm10 10l.94 2.06.94-2.06 2.06-.94-2.06-.94-.94-2.06-.94 2.06-2.06.94z\"/><path d=\"M17.41 7.96l-1.37-1.37c-.4-.4-.92-.59-1.43-.59-.52 0-1.04.2-1.43.59L10.3 9.45l-7.72 7.72c-.78.78-.78 2.05 0 2.83L4 21.41c.39.39.9.59 1.41.59.51 0 1.02-.2 1.41-.59l7.78-7.78 2.81-2.81c.8-.78.8-2.07 0-2.86zM5.41 20L4 18.59l7.72-7.72 1.47 1.35L5.41 20z\"/>\n",
              "  </svg>\n",
              "      </button>\n",
              "      \n",
              "  <style>\n",
              "    .colab-df-container {\n",
              "      display:flex;\n",
              "      flex-wrap:wrap;\n",
              "      gap: 12px;\n",
              "    }\n",
              "\n",
              "    .colab-df-convert {\n",
              "      background-color: #E8F0FE;\n",
              "      border: none;\n",
              "      border-radius: 50%;\n",
              "      cursor: pointer;\n",
              "      display: none;\n",
              "      fill: #1967D2;\n",
              "      height: 32px;\n",
              "      padding: 0 0 0 0;\n",
              "      width: 32px;\n",
              "    }\n",
              "\n",
              "    .colab-df-convert:hover {\n",
              "      background-color: #E2EBFA;\n",
              "      box-shadow: 0px 1px 2px rgba(60, 64, 67, 0.3), 0px 1px 3px 1px rgba(60, 64, 67, 0.15);\n",
              "      fill: #174EA6;\n",
              "    }\n",
              "\n",
              "    [theme=dark] .colab-df-convert {\n",
              "      background-color: #3B4455;\n",
              "      fill: #D2E3FC;\n",
              "    }\n",
              "\n",
              "    [theme=dark] .colab-df-convert:hover {\n",
              "      background-color: #434B5C;\n",
              "      box-shadow: 0px 1px 3px 1px rgba(0, 0, 0, 0.15);\n",
              "      filter: drop-shadow(0px 1px 2px rgba(0, 0, 0, 0.3));\n",
              "      fill: #FFFFFF;\n",
              "    }\n",
              "  </style>\n",
              "\n",
              "      <script>\n",
              "        const buttonEl =\n",
              "          document.querySelector('#df-bda608e6-4d28-4377-b730-c649d3463b4b button.colab-df-convert');\n",
              "        buttonEl.style.display =\n",
              "          google.colab.kernel.accessAllowed ? 'block' : 'none';\n",
              "\n",
              "        async function convertToInteractive(key) {\n",
              "          const element = document.querySelector('#df-bda608e6-4d28-4377-b730-c649d3463b4b');\n",
              "          const dataTable =\n",
              "            await google.colab.kernel.invokeFunction('convertToInteractive',\n",
              "                                                     [key], {});\n",
              "          if (!dataTable) return;\n",
              "\n",
              "          const docLinkHtml = 'Like what you see? Visit the ' +\n",
              "            '<a target=\"_blank\" href=https://colab.research.google.com/notebooks/data_table.ipynb>data table notebook</a>'\n",
              "            + ' to learn more about interactive tables.';\n",
              "          element.innerHTML = '';\n",
              "          dataTable['output_type'] = 'display_data';\n",
              "          await google.colab.output.renderOutput(dataTable, element);\n",
              "          const docLink = document.createElement('div');\n",
              "          docLink.innerHTML = docLinkHtml;\n",
              "          element.appendChild(docLink);\n",
              "        }\n",
              "      </script>\n",
              "    </div>\n",
              "  </div>\n",
              "  "
            ]
          },
          "metadata": {},
          "execution_count": 135
        }
      ]
    },
    {
      "cell_type": "code",
      "source": [],
      "metadata": {
        "id": "4rcD_S7sLKQE"
      },
      "execution_count": 70,
      "outputs": []
    },
    {
      "cell_type": "markdown",
      "source": [
        "# preperetion"
      ],
      "metadata": {
        "id": "6zKM-JALLK-_"
      }
    },
    {
      "cell_type": "markdown",
      "source": [
        "# predict a national cuisine"
      ],
      "metadata": {
        "id": "-jyfXg6-LSdQ"
      }
    },
    {
      "cell_type": "code",
      "source": [
        "from sklearn.linear_model import LogisticRegression\n",
        "from sklearn.model_selection import train_test_split, cross_val_score\n",
        "from sklearn.metrics import accuracy_score,precision_score,confusion_matrix,classification_report, precision_recall_curve\n",
        "from sklearn.svm import SVC\n",
        "import numpy as np"
      ],
      "metadata": {
        "id": "smBXXMQBKd9w"
      },
      "execution_count": 71,
      "outputs": []
    },
    {
      "cell_type": "code",
      "source": [
        "cuisines_label_df = cuisines_df['cuisine']\n",
        "cuisines_label_df.head()"
      ],
      "metadata": {
        "colab": {
          "base_uri": "https://localhost:8080/"
        },
        "id": "UWQ3eWneKeAJ",
        "outputId": "f66475bd-7a6c-4a4d-88c3-07b39884e798"
      },
      "execution_count": 72,
      "outputs": [
        {
          "output_type": "execute_result",
          "data": {
            "text/plain": [
              "0    indian\n",
              "1    indian\n",
              "2    indian\n",
              "3    indian\n",
              "4    indian\n",
              "Name: cuisine, dtype: object"
            ]
          },
          "metadata": {},
          "execution_count": 72
        }
      ]
    },
    {
      "cell_type": "code",
      "source": [
        "cuisines_feature_df = cuisines_df.drop(['Unnamed: 0', 'cuisine'], axis=1)\n",
        "cuisines_feature_df.head()"
      ],
      "metadata": {
        "colab": {
          "base_uri": "https://localhost:8080/",
          "height": 300
        },
        "id": "UrOrT4DzKeC6",
        "outputId": "0c668a75-79c3-4223-9fbb-d5c7a8243311"
      },
      "execution_count": 73,
      "outputs": [
        {
          "output_type": "execute_result",
          "data": {
            "text/plain": [
              "   almond  angelica  anise  anise_seed  apple  apple_brandy  apricot  \\\n",
              "0       0         0      0           0      0             0        0   \n",
              "1       1         0      0           0      0             0        0   \n",
              "2       0         0      0           0      0             0        0   \n",
              "3       0         0      0           0      0             0        0   \n",
              "4       0         0      0           0      0             0        0   \n",
              "\n",
              "   armagnac  artemisia  artichoke  ...  whiskey  white_bread  white_wine  \\\n",
              "0         0          0          0  ...        0            0           0   \n",
              "1         0          0          0  ...        0            0           0   \n",
              "2         0          0          0  ...        0            0           0   \n",
              "3         0          0          0  ...        0            0           0   \n",
              "4         0          0          0  ...        0            0           0   \n",
              "\n",
              "   whole_grain_wheat_flour  wine  wood  yam  yeast  yogurt  zucchini  \n",
              "0                        0     0     0    0      0       0         0  \n",
              "1                        0     0     0    0      0       0         0  \n",
              "2                        0     0     0    0      0       0         0  \n",
              "3                        0     0     0    0      0       0         0  \n",
              "4                        0     0     0    0      0       1         0  \n",
              "\n",
              "[5 rows x 380 columns]"
            ],
            "text/html": [
              "\n",
              "  <div id=\"df-117a16d0-626c-48e2-8a41-4c73dfccd7ba\">\n",
              "    <div class=\"colab-df-container\">\n",
              "      <div>\n",
              "<style scoped>\n",
              "    .dataframe tbody tr th:only-of-type {\n",
              "        vertical-align: middle;\n",
              "    }\n",
              "\n",
              "    .dataframe tbody tr th {\n",
              "        vertical-align: top;\n",
              "    }\n",
              "\n",
              "    .dataframe thead th {\n",
              "        text-align: right;\n",
              "    }\n",
              "</style>\n",
              "<table border=\"1\" class=\"dataframe\">\n",
              "  <thead>\n",
              "    <tr style=\"text-align: right;\">\n",
              "      <th></th>\n",
              "      <th>almond</th>\n",
              "      <th>angelica</th>\n",
              "      <th>anise</th>\n",
              "      <th>anise_seed</th>\n",
              "      <th>apple</th>\n",
              "      <th>apple_brandy</th>\n",
              "      <th>apricot</th>\n",
              "      <th>armagnac</th>\n",
              "      <th>artemisia</th>\n",
              "      <th>artichoke</th>\n",
              "      <th>...</th>\n",
              "      <th>whiskey</th>\n",
              "      <th>white_bread</th>\n",
              "      <th>white_wine</th>\n",
              "      <th>whole_grain_wheat_flour</th>\n",
              "      <th>wine</th>\n",
              "      <th>wood</th>\n",
              "      <th>yam</th>\n",
              "      <th>yeast</th>\n",
              "      <th>yogurt</th>\n",
              "      <th>zucchini</th>\n",
              "    </tr>\n",
              "  </thead>\n",
              "  <tbody>\n",
              "    <tr>\n",
              "      <th>0</th>\n",
              "      <td>0</td>\n",
              "      <td>0</td>\n",
              "      <td>0</td>\n",
              "      <td>0</td>\n",
              "      <td>0</td>\n",
              "      <td>0</td>\n",
              "      <td>0</td>\n",
              "      <td>0</td>\n",
              "      <td>0</td>\n",
              "      <td>0</td>\n",
              "      <td>...</td>\n",
              "      <td>0</td>\n",
              "      <td>0</td>\n",
              "      <td>0</td>\n",
              "      <td>0</td>\n",
              "      <td>0</td>\n",
              "      <td>0</td>\n",
              "      <td>0</td>\n",
              "      <td>0</td>\n",
              "      <td>0</td>\n",
              "      <td>0</td>\n",
              "    </tr>\n",
              "    <tr>\n",
              "      <th>1</th>\n",
              "      <td>1</td>\n",
              "      <td>0</td>\n",
              "      <td>0</td>\n",
              "      <td>0</td>\n",
              "      <td>0</td>\n",
              "      <td>0</td>\n",
              "      <td>0</td>\n",
              "      <td>0</td>\n",
              "      <td>0</td>\n",
              "      <td>0</td>\n",
              "      <td>...</td>\n",
              "      <td>0</td>\n",
              "      <td>0</td>\n",
              "      <td>0</td>\n",
              "      <td>0</td>\n",
              "      <td>0</td>\n",
              "      <td>0</td>\n",
              "      <td>0</td>\n",
              "      <td>0</td>\n",
              "      <td>0</td>\n",
              "      <td>0</td>\n",
              "    </tr>\n",
              "    <tr>\n",
              "      <th>2</th>\n",
              "      <td>0</td>\n",
              "      <td>0</td>\n",
              "      <td>0</td>\n",
              "      <td>0</td>\n",
              "      <td>0</td>\n",
              "      <td>0</td>\n",
              "      <td>0</td>\n",
              "      <td>0</td>\n",
              "      <td>0</td>\n",
              "      <td>0</td>\n",
              "      <td>...</td>\n",
              "      <td>0</td>\n",
              "      <td>0</td>\n",
              "      <td>0</td>\n",
              "      <td>0</td>\n",
              "      <td>0</td>\n",
              "      <td>0</td>\n",
              "      <td>0</td>\n",
              "      <td>0</td>\n",
              "      <td>0</td>\n",
              "      <td>0</td>\n",
              "    </tr>\n",
              "    <tr>\n",
              "      <th>3</th>\n",
              "      <td>0</td>\n",
              "      <td>0</td>\n",
              "      <td>0</td>\n",
              "      <td>0</td>\n",
              "      <td>0</td>\n",
              "      <td>0</td>\n",
              "      <td>0</td>\n",
              "      <td>0</td>\n",
              "      <td>0</td>\n",
              "      <td>0</td>\n",
              "      <td>...</td>\n",
              "      <td>0</td>\n",
              "      <td>0</td>\n",
              "      <td>0</td>\n",
              "      <td>0</td>\n",
              "      <td>0</td>\n",
              "      <td>0</td>\n",
              "      <td>0</td>\n",
              "      <td>0</td>\n",
              "      <td>0</td>\n",
              "      <td>0</td>\n",
              "    </tr>\n",
              "    <tr>\n",
              "      <th>4</th>\n",
              "      <td>0</td>\n",
              "      <td>0</td>\n",
              "      <td>0</td>\n",
              "      <td>0</td>\n",
              "      <td>0</td>\n",
              "      <td>0</td>\n",
              "      <td>0</td>\n",
              "      <td>0</td>\n",
              "      <td>0</td>\n",
              "      <td>0</td>\n",
              "      <td>...</td>\n",
              "      <td>0</td>\n",
              "      <td>0</td>\n",
              "      <td>0</td>\n",
              "      <td>0</td>\n",
              "      <td>0</td>\n",
              "      <td>0</td>\n",
              "      <td>0</td>\n",
              "      <td>0</td>\n",
              "      <td>1</td>\n",
              "      <td>0</td>\n",
              "    </tr>\n",
              "  </tbody>\n",
              "</table>\n",
              "<p>5 rows × 380 columns</p>\n",
              "</div>\n",
              "      <button class=\"colab-df-convert\" onclick=\"convertToInteractive('df-117a16d0-626c-48e2-8a41-4c73dfccd7ba')\"\n",
              "              title=\"Convert this dataframe to an interactive table.\"\n",
              "              style=\"display:none;\">\n",
              "        \n",
              "  <svg xmlns=\"http://www.w3.org/2000/svg\" height=\"24px\"viewBox=\"0 0 24 24\"\n",
              "       width=\"24px\">\n",
              "    <path d=\"M0 0h24v24H0V0z\" fill=\"none\"/>\n",
              "    <path d=\"M18.56 5.44l.94 2.06.94-2.06 2.06-.94-2.06-.94-.94-2.06-.94 2.06-2.06.94zm-11 1L8.5 8.5l.94-2.06 2.06-.94-2.06-.94L8.5 2.5l-.94 2.06-2.06.94zm10 10l.94 2.06.94-2.06 2.06-.94-2.06-.94-.94-2.06-.94 2.06-2.06.94z\"/><path d=\"M17.41 7.96l-1.37-1.37c-.4-.4-.92-.59-1.43-.59-.52 0-1.04.2-1.43.59L10.3 9.45l-7.72 7.72c-.78.78-.78 2.05 0 2.83L4 21.41c.39.39.9.59 1.41.59.51 0 1.02-.2 1.41-.59l7.78-7.78 2.81-2.81c.8-.78.8-2.07 0-2.86zM5.41 20L4 18.59l7.72-7.72 1.47 1.35L5.41 20z\"/>\n",
              "  </svg>\n",
              "      </button>\n",
              "      \n",
              "  <style>\n",
              "    .colab-df-container {\n",
              "      display:flex;\n",
              "      flex-wrap:wrap;\n",
              "      gap: 12px;\n",
              "    }\n",
              "\n",
              "    .colab-df-convert {\n",
              "      background-color: #E8F0FE;\n",
              "      border: none;\n",
              "      border-radius: 50%;\n",
              "      cursor: pointer;\n",
              "      display: none;\n",
              "      fill: #1967D2;\n",
              "      height: 32px;\n",
              "      padding: 0 0 0 0;\n",
              "      width: 32px;\n",
              "    }\n",
              "\n",
              "    .colab-df-convert:hover {\n",
              "      background-color: #E2EBFA;\n",
              "      box-shadow: 0px 1px 2px rgba(60, 64, 67, 0.3), 0px 1px 3px 1px rgba(60, 64, 67, 0.15);\n",
              "      fill: #174EA6;\n",
              "    }\n",
              "\n",
              "    [theme=dark] .colab-df-convert {\n",
              "      background-color: #3B4455;\n",
              "      fill: #D2E3FC;\n",
              "    }\n",
              "\n",
              "    [theme=dark] .colab-df-convert:hover {\n",
              "      background-color: #434B5C;\n",
              "      box-shadow: 0px 1px 3px 1px rgba(0, 0, 0, 0.15);\n",
              "      filter: drop-shadow(0px 1px 2px rgba(0, 0, 0, 0.3));\n",
              "      fill: #FFFFFF;\n",
              "    }\n",
              "  </style>\n",
              "\n",
              "      <script>\n",
              "        const buttonEl =\n",
              "          document.querySelector('#df-117a16d0-626c-48e2-8a41-4c73dfccd7ba button.colab-df-convert');\n",
              "        buttonEl.style.display =\n",
              "          google.colab.kernel.accessAllowed ? 'block' : 'none';\n",
              "\n",
              "        async function convertToInteractive(key) {\n",
              "          const element = document.querySelector('#df-117a16d0-626c-48e2-8a41-4c73dfccd7ba');\n",
              "          const dataTable =\n",
              "            await google.colab.kernel.invokeFunction('convertToInteractive',\n",
              "                                                     [key], {});\n",
              "          if (!dataTable) return;\n",
              "\n",
              "          const docLinkHtml = 'Like what you see? Visit the ' +\n",
              "            '<a target=\"_blank\" href=https://colab.research.google.com/notebooks/data_table.ipynb>data table notebook</a>'\n",
              "            + ' to learn more about interactive tables.';\n",
              "          element.innerHTML = '';\n",
              "          dataTable['output_type'] = 'display_data';\n",
              "          await google.colab.output.renderOutput(dataTable, element);\n",
              "          const docLink = document.createElement('div');\n",
              "          docLink.innerHTML = docLinkHtml;\n",
              "          element.appendChild(docLink);\n",
              "        }\n",
              "      </script>\n",
              "    </div>\n",
              "  </div>\n",
              "  "
            ]
          },
          "metadata": {},
          "execution_count": 73
        }
      ]
    },
    {
      "cell_type": "code",
      "source": [
        "cuisines_feature_df.shape"
      ],
      "metadata": {
        "colab": {
          "base_uri": "https://localhost:8080/"
        },
        "id": "eDJUD_q5LgiI",
        "outputId": "85679fdf-0691-4774-9fd4-218d6e3c1c81"
      },
      "execution_count": 156,
      "outputs": [
        {
          "output_type": "execute_result",
          "data": {
            "text/plain": [
              "(3995, 380)"
            ]
          },
          "metadata": {},
          "execution_count": 156
        }
      ]
    },
    {
      "cell_type": "markdown",
      "source": [
        "Now We are ready to train !"
      ],
      "metadata": {
        "id": "euOb_ZcgLhD1"
      }
    },
    {
      "cell_type": "markdown",
      "source": [
        "Split data first"
      ],
      "metadata": {
        "id": "l7iEkPe0QFhk"
      }
    },
    {
      "cell_type": "code",
      "source": [
        "X_train, X_test, y_train, y_test = train_test_split(cuisines_feature_df, cuisines_label_df, test_size=0.3)"
      ],
      "metadata": {
        "id": "8BmL6IFnLm8K"
      },
      "execution_count": 139,
      "outputs": []
    },
    {
      "cell_type": "markdown",
      "source": [
        "# apply logistic regression"
      ],
      "metadata": {
        "id": "yz2pjL2XQNhW"
      }
    },
    {
      "cell_type": "code",
      "source": [
        "np.ravel(y_train)"
      ],
      "metadata": {
        "colab": {
          "base_uri": "https://localhost:8080/"
        },
        "id": "Jk1kCuNzSqpX",
        "outputId": "3b6d46de-8c61-4555-f616-64593e5b7d36"
      },
      "execution_count": 138,
      "outputs": [
        {
          "output_type": "execute_result",
          "data": {
            "text/plain": [
              "array(['japanese', 'indian', 'indian', ..., 'thai', 'chinese', 'chinese'],\n",
              "      dtype=object)"
            ]
          },
          "metadata": {},
          "execution_count": 138
        }
      ]
    },
    {
      "cell_type": "code",
      "source": [
        "lr = LogisticRegression(multi_class='ovr',solver='liblinear')\n",
        "model = lr.fit(X_train, np.ravel(y_train))\n",
        "\n",
        "accuracy = model.score(X_test, y_test)\n",
        "print (\"Accuracy is {}\".format(accuracy))"
      ],
      "metadata": {
        "colab": {
          "base_uri": "https://localhost:8080/"
        },
        "id": "esqzkZIDLm5v",
        "outputId": "76eb6ce3-bc6a-4c2d-e835-090eba4d55ce"
      },
      "execution_count": 141,
      "outputs": [
        {
          "output_type": "stream",
          "name": "stdout",
          "text": [
            "Accuracy is 0.7939949958298582\n"
          ]
        }
      ]
    },
    {
      "cell_type": "code",
      "source": [
        "from sklearn.model_selection import GridSearchCV\n",
        "solver_list = ['liblinear', 'newton-cg', 'lbfgs', 'sag', 'saga']\n",
        "parameters = dict(solver=solver_list)\n",
        "lr = LogisticRegression(random_state=34, multi_class=\"ovr\")\n",
        "clf = GridSearchCV(lr, parameters, cv=20)\n",
        "clf.fit(X_train, y_train)\n",
        "scores = clf.cv_results_['mean_test_score']\n",
        "\n",
        "for score, solver, in zip(scores, solver_list):\n",
        "    print(f\"{solver}: {score:.3f}\")"
      ],
      "metadata": {
        "id": "4YOhv1dgU2H1",
        "outputId": "c16da1e9-8366-4689-eca0-c9ef0afa392a",
        "colab": {
          "base_uri": "https://localhost:8080/"
        }
      },
      "execution_count": 77,
      "outputs": [
        {
          "output_type": "stream",
          "name": "stdout",
          "text": [
            "liblinear: 0.776\n",
            "newton-cg: 0.776\n",
            "lbfgs: 0.776\n",
            "sag: 0.776\n",
            "saga: 0.776\n"
          ]
        }
      ]
    },
    {
      "cell_type": "code",
      "source": [
        "type(X_test.iloc[50][X_test.iloc[50]!=0])"
      ],
      "metadata": {
        "colab": {
          "base_uri": "https://localhost:8080/"
        },
        "id": "yKaYf0NmQ6iA",
        "outputId": "8d29af00-a58a-4512-f44a-9a6a34a178a9"
      },
      "execution_count": 153,
      "outputs": [
        {
          "output_type": "execute_result",
          "data": {
            "text/plain": [
              "pandas.core.series.Series"
            ]
          },
          "metadata": {},
          "execution_count": 153
        }
      ]
    },
    {
      "cell_type": "code",
      "source": [],
      "metadata": {
        "id": "eJudedKj1pSx"
      },
      "execution_count": 78,
      "outputs": []
    },
    {
      "cell_type": "code",
      "source": [
        "print(f'ingredients: {X_test.iloc[50][X_test.iloc[50]!=0].keys()}')\n",
        "print(f'cuisine: {y_test.iloc[50]}')"
      ],
      "metadata": {
        "colab": {
          "base_uri": "https://localhost:8080/"
        },
        "id": "8XKcQttjQpnh",
        "outputId": "58c5f634-0422-429f-ccf0-15351e83705a"
      },
      "execution_count": 154,
      "outputs": [
        {
          "output_type": "stream",
          "name": "stdout",
          "text": [
            "ingredients: Index(['black_pepper', 'butter', 'cayenne', 'cilantro', 'coriander', 'cumin',\n",
            "       'egg', 'scallion', 'tomato', 'turmeric'],\n",
            "      dtype='object')\n",
            "cuisine: indian\n"
          ]
        }
      ]
    },
    {
      "cell_type": "code",
      "source": [
        "X_test.iloc[50].values.reshape(-1, 1).T"
      ],
      "metadata": {
        "colab": {
          "base_uri": "https://localhost:8080/"
        },
        "id": "dEdX-gknTDiU",
        "outputId": "f69801f1-7770-4ead-9c46-44d8f8739efd"
      },
      "execution_count": 80,
      "outputs": [
        {
          "output_type": "execute_result",
          "data": {
            "text/plain": [
              "array([[0, 0, 0, 0, 0, 0, 0, 0, 0, 0, 0, 0, 0, 0, 0, 0, 0, 0, 0, 0, 0, 0,\n",
              "        0, 0, 0, 0, 0, 0, 0, 0, 0, 0, 0, 0, 0, 0, 0, 0, 0, 0, 0, 0, 0, 0,\n",
              "        0, 0, 0, 0, 0, 0, 0, 0, 0, 0, 0, 0, 0, 0, 0, 0, 0, 0, 0, 0, 0, 0,\n",
              "        0, 0, 0, 0, 0, 0, 0, 0, 0, 0, 0, 0, 0, 0, 0, 0, 0, 0, 0, 0, 0, 0,\n",
              "        0, 0, 0, 0, 0, 0, 0, 0, 0, 0, 0, 0, 0, 0, 0, 0, 0, 0, 0, 0, 0, 0,\n",
              "        0, 0, 0, 0, 0, 0, 0, 0, 0, 0, 0, 0, 0, 0, 0, 0, 0, 0, 0, 0, 0, 0,\n",
              "        0, 0, 0, 0, 0, 0, 0, 0, 0, 0, 0, 0, 0, 0, 0, 0, 0, 0, 0, 0, 0, 0,\n",
              "        0, 0, 0, 0, 0, 0, 0, 0, 0, 0, 0, 0, 0, 0, 0, 0, 0, 0, 0, 0, 0, 0,\n",
              "        0, 0, 0, 0, 0, 0, 0, 0, 0, 0, 0, 0, 0, 0, 0, 0, 0, 0, 0, 0, 0, 0,\n",
              "        0, 0, 0, 0, 0, 0, 0, 0, 0, 0, 0, 0, 0, 0, 0, 0, 0, 0, 0, 0, 0, 0,\n",
              "        0, 0, 0, 0, 0, 0, 0, 0, 0, 0, 0, 0, 0, 0, 0, 0, 0, 0, 0, 0, 0, 0,\n",
              "        0, 0, 0, 0, 0, 0, 0, 0, 0, 0, 0, 0, 0, 0, 0, 0, 0, 0, 0, 0, 0, 0,\n",
              "        0, 0, 0, 0, 0, 0, 0, 0, 0, 0, 0, 0, 0, 0, 0, 0, 0, 0, 0, 0, 0, 0,\n",
              "        0, 0, 0, 0, 0, 0, 0, 0, 0, 0, 0, 0, 0, 0, 0, 0, 0, 0, 0, 0, 0, 0,\n",
              "        0, 0, 0, 0, 0, 0, 0, 0, 0, 0, 0, 0, 0, 0, 0, 0, 0, 0, 0, 0, 0, 0,\n",
              "        0, 0, 0, 0, 0, 0, 0, 0, 0, 0, 0, 0, 0, 0, 0, 0, 0, 0, 0, 0, 0, 0,\n",
              "        0, 0, 0, 0, 0, 0, 0, 0, 0, 0, 0, 0, 0, 0, 0, 0, 0, 0, 0, 0, 0, 0,\n",
              "        0, 0, 0, 0, 0, 0]])"
            ]
          },
          "metadata": {},
          "execution_count": 80
        }
      ]
    },
    {
      "cell_type": "code",
      "source": [
        "test= X_test.iloc[50].values.reshape(-1, 1).T\n",
        "proba = model.predict_proba(test)\n",
        "classes = model.classes_\n",
        "print(proba)\n",
        "print(classes)\n",
        "resultdf = pd.DataFrame(data=proba, columns=classes)\n",
        "\n",
        "topPrediction = resultdf.T.sort_values(by=[0], ascending = [False])\n",
        "topPrediction.head()"
      ],
      "metadata": {
        "colab": {
          "base_uri": "https://localhost:8080/",
          "height": 315
        },
        "id": "7ygMvr1nSEx9",
        "outputId": "65bc198d-3a08-4c9f-cdc2-fd4a64be75f8"
      },
      "execution_count": 155,
      "outputs": [
        {
          "output_type": "stream",
          "name": "stdout",
          "text": [
            "[[3.25384670e-03 9.78303012e-01 3.41425810e-04 1.99906066e-03\n",
            "  1.61026553e-02]]\n",
            "['chinese' 'indian' 'japanese' 'korean' 'thai']\n"
          ]
        },
        {
          "output_type": "stream",
          "name": "stderr",
          "text": [
            "/usr/local/lib/python3.7/dist-packages/sklearn/base.py:451: UserWarning: X does not have valid feature names, but LogisticRegression was fitted with feature names\n",
            "  \"X does not have valid feature names, but\"\n"
          ]
        },
        {
          "output_type": "execute_result",
          "data": {
            "text/plain": [
              "                 0\n",
              "indian    0.978303\n",
              "thai      0.016103\n",
              "chinese   0.003254\n",
              "korean    0.001999\n",
              "japanese  0.000341"
            ],
            "text/html": [
              "\n",
              "  <div id=\"df-97268678-5a03-49ed-a0ae-9bf45466b992\">\n",
              "    <div class=\"colab-df-container\">\n",
              "      <div>\n",
              "<style scoped>\n",
              "    .dataframe tbody tr th:only-of-type {\n",
              "        vertical-align: middle;\n",
              "    }\n",
              "\n",
              "    .dataframe tbody tr th {\n",
              "        vertical-align: top;\n",
              "    }\n",
              "\n",
              "    .dataframe thead th {\n",
              "        text-align: right;\n",
              "    }\n",
              "</style>\n",
              "<table border=\"1\" class=\"dataframe\">\n",
              "  <thead>\n",
              "    <tr style=\"text-align: right;\">\n",
              "      <th></th>\n",
              "      <th>0</th>\n",
              "    </tr>\n",
              "  </thead>\n",
              "  <tbody>\n",
              "    <tr>\n",
              "      <th>indian</th>\n",
              "      <td>0.978303</td>\n",
              "    </tr>\n",
              "    <tr>\n",
              "      <th>thai</th>\n",
              "      <td>0.016103</td>\n",
              "    </tr>\n",
              "    <tr>\n",
              "      <th>chinese</th>\n",
              "      <td>0.003254</td>\n",
              "    </tr>\n",
              "    <tr>\n",
              "      <th>korean</th>\n",
              "      <td>0.001999</td>\n",
              "    </tr>\n",
              "    <tr>\n",
              "      <th>japanese</th>\n",
              "      <td>0.000341</td>\n",
              "    </tr>\n",
              "  </tbody>\n",
              "</table>\n",
              "</div>\n",
              "      <button class=\"colab-df-convert\" onclick=\"convertToInteractive('df-97268678-5a03-49ed-a0ae-9bf45466b992')\"\n",
              "              title=\"Convert this dataframe to an interactive table.\"\n",
              "              style=\"display:none;\">\n",
              "        \n",
              "  <svg xmlns=\"http://www.w3.org/2000/svg\" height=\"24px\"viewBox=\"0 0 24 24\"\n",
              "       width=\"24px\">\n",
              "    <path d=\"M0 0h24v24H0V0z\" fill=\"none\"/>\n",
              "    <path d=\"M18.56 5.44l.94 2.06.94-2.06 2.06-.94-2.06-.94-.94-2.06-.94 2.06-2.06.94zm-11 1L8.5 8.5l.94-2.06 2.06-.94-2.06-.94L8.5 2.5l-.94 2.06-2.06.94zm10 10l.94 2.06.94-2.06 2.06-.94-2.06-.94-.94-2.06-.94 2.06-2.06.94z\"/><path d=\"M17.41 7.96l-1.37-1.37c-.4-.4-.92-.59-1.43-.59-.52 0-1.04.2-1.43.59L10.3 9.45l-7.72 7.72c-.78.78-.78 2.05 0 2.83L4 21.41c.39.39.9.59 1.41.59.51 0 1.02-.2 1.41-.59l7.78-7.78 2.81-2.81c.8-.78.8-2.07 0-2.86zM5.41 20L4 18.59l7.72-7.72 1.47 1.35L5.41 20z\"/>\n",
              "  </svg>\n",
              "      </button>\n",
              "      \n",
              "  <style>\n",
              "    .colab-df-container {\n",
              "      display:flex;\n",
              "      flex-wrap:wrap;\n",
              "      gap: 12px;\n",
              "    }\n",
              "\n",
              "    .colab-df-convert {\n",
              "      background-color: #E8F0FE;\n",
              "      border: none;\n",
              "      border-radius: 50%;\n",
              "      cursor: pointer;\n",
              "      display: none;\n",
              "      fill: #1967D2;\n",
              "      height: 32px;\n",
              "      padding: 0 0 0 0;\n",
              "      width: 32px;\n",
              "    }\n",
              "\n",
              "    .colab-df-convert:hover {\n",
              "      background-color: #E2EBFA;\n",
              "      box-shadow: 0px 1px 2px rgba(60, 64, 67, 0.3), 0px 1px 3px 1px rgba(60, 64, 67, 0.15);\n",
              "      fill: #174EA6;\n",
              "    }\n",
              "\n",
              "    [theme=dark] .colab-df-convert {\n",
              "      background-color: #3B4455;\n",
              "      fill: #D2E3FC;\n",
              "    }\n",
              "\n",
              "    [theme=dark] .colab-df-convert:hover {\n",
              "      background-color: #434B5C;\n",
              "      box-shadow: 0px 1px 3px 1px rgba(0, 0, 0, 0.15);\n",
              "      filter: drop-shadow(0px 1px 2px rgba(0, 0, 0, 0.3));\n",
              "      fill: #FFFFFF;\n",
              "    }\n",
              "  </style>\n",
              "\n",
              "      <script>\n",
              "        const buttonEl =\n",
              "          document.querySelector('#df-97268678-5a03-49ed-a0ae-9bf45466b992 button.colab-df-convert');\n",
              "        buttonEl.style.display =\n",
              "          google.colab.kernel.accessAllowed ? 'block' : 'none';\n",
              "\n",
              "        async function convertToInteractive(key) {\n",
              "          const element = document.querySelector('#df-97268678-5a03-49ed-a0ae-9bf45466b992');\n",
              "          const dataTable =\n",
              "            await google.colab.kernel.invokeFunction('convertToInteractive',\n",
              "                                                     [key], {});\n",
              "          if (!dataTable) return;\n",
              "\n",
              "          const docLinkHtml = 'Like what you see? Visit the ' +\n",
              "            '<a target=\"_blank\" href=https://colab.research.google.com/notebooks/data_table.ipynb>data table notebook</a>'\n",
              "            + ' to learn more about interactive tables.';\n",
              "          element.innerHTML = '';\n",
              "          dataTable['output_type'] = 'display_data';\n",
              "          await google.colab.output.renderOutput(dataTable, element);\n",
              "          const docLink = document.createElement('div');\n",
              "          docLink.innerHTML = docLinkHtml;\n",
              "          element.appendChild(docLink);\n",
              "        }\n",
              "      </script>\n",
              "    </div>\n",
              "  </div>\n",
              "  "
            ]
          },
          "metadata": {},
          "execution_count": 155
        }
      ]
    },
    {
      "cell_type": "code",
      "source": [
        "y_pred = model.predict(X_test)\n",
        "print(classification_report(y_test,y_pred))"
      ],
      "metadata": {
        "colab": {
          "base_uri": "https://localhost:8080/"
        },
        "id": "TUEbM2e-SE6r",
        "outputId": "4a6b5162-0503-4fe8-f2b1-263eafbb8ae5"
      },
      "execution_count": 82,
      "outputs": [
        {
          "output_type": "stream",
          "name": "stdout",
          "text": [
            "              precision    recall  f1-score   support\n",
            "\n",
            "     chinese       0.72      0.76      0.74       218\n",
            "      indian       0.90      0.91      0.90       259\n",
            "    japanese       0.65      0.74      0.69       253\n",
            "      korean       0.83      0.85      0.84       227\n",
            "        thai       0.87      0.68      0.76       242\n",
            "\n",
            "    accuracy                           0.79      1199\n",
            "   macro avg       0.79      0.79      0.79      1199\n",
            "weighted avg       0.80      0.79      0.79      1199\n",
            "\n"
          ]
        }
      ]
    },
    {
      "cell_type": "markdown",
      "source": [
        "# Cuisine classifiers 2"
      ],
      "metadata": {
        "id": "Z4Lt-2oZg6rg"
      }
    },
    {
      "cell_type": "markdown",
      "source": [
        "# The plan\n",
        "\n",
        "This map is very helpful once you have a clear grasp of your data, as you can 'walk' along its paths to a decision:\n",
        "\n",
        "We have >50 samples\n",
        "\n",
        "We want to predict a category\n",
        "\n",
        "We have labeled data\n",
        "\n",
        "We have fewer than 100K samples\n",
        "\n",
        "✨ We can choose a Linear SVC\n",
        "\n",
        "If that doesn't work, since we have \n",
        "numeric data\n",
        "We can try a ✨ KNeighbors Classifier\n",
        "If that doesn't work, try ✨ SVC and ✨ Ensemble Classifiers"
      ],
      "metadata": {
        "id": "O0PjwqTxhVfo"
      }
    },
    {
      "cell_type": "code",
      "source": [
        "from sklearn.neighbors import KNeighborsClassifier\n",
        "from sklearn.linear_model import LogisticRegression\n",
        "from sklearn.svm import SVC , LinearSVC\n",
        "from sklearn.ensemble import RandomForestClassifier , AdaBoostClassifier\n",
        "from sklearn.model_selection import train_test_split , cross_val_score\n",
        "from sklearn.metrics import accuracy_score , precision_score , confusion_matrix\n",
        "import numpy as np\n"
      ],
      "metadata": {
        "id": "c51cZDEEg9Gt"
      },
      "execution_count": 216,
      "outputs": []
    },
    {
      "cell_type": "code",
      "source": [
        "# split our data (train & test)\n",
        "X_train , X_test , y_train , y_test = train_test_split(cuisines_feature_df,cuisines_label_df,test_size=0.3)"
      ],
      "metadata": {
        "id": "m2qfvh5FiQoY"
      },
      "execution_count": 158,
      "outputs": []
    },
    {
      "cell_type": "code",
      "source": [
        "# apply a linear svc (support vector clustring)\n",
        "C =15\n",
        "# Create different classifiers.\n",
        "classifiers = {\n",
        "    'Linear SVC' : SVC(kernel='linear',C=C,probability=True,random_state=0),\n",
        "    'KNN classifier':KNeighborsClassifier(C),\n",
        "    'Support Vector Classifier':SVC(),\n",
        "      'RFST': RandomForestClassifier(n_estimators=100),\n",
        "  'ADA': AdaBoostClassifier(n_estimators=100)\n",
        "\n",
        "}"
      ],
      "metadata": {
        "id": "NVOkntqDitFS"
      },
      "execution_count": 231,
      "outputs": []
    },
    {
      "cell_type": "code",
      "source": [
        "# train your model using the Linear SVC and print out the report\n",
        "n_classifiers = len(classifiers)\n",
        "for index , (name , classifier) in enumerate(classifiers.items()):\n",
        "  classifier.fit(X_train , np.ravel(y_train)) # flatting\n",
        "  y_pred = classifier.predict(X_test)\n",
        "  accuracy = accuracy_score(y_test,y_pred)\n",
        "  print(\"Accuracy (train) for %s: %0.1f%%\"%(name , accuracy*100))\n",
        "  print(classification_report(y_test,y_pred))"
      ],
      "metadata": {
        "id": "MlJawFmNjVwQ",
        "outputId": "40b7aa73-a818-469a-a426-8d7a3f5bc22c",
        "colab": {
          "base_uri": "https://localhost:8080/"
        }
      },
      "execution_count": 232,
      "outputs": [
        {
          "output_type": "stream",
          "name": "stdout",
          "text": [
            "Accuracy (train) for Linear SVC: 79.6%\n",
            "              precision    recall  f1-score   support\n",
            "\n",
            "     chinese       0.76      0.74      0.75       256\n",
            "      indian       0.90      0.86      0.88       247\n",
            "    japanese       0.77      0.75      0.76       219\n",
            "      korean       0.83      0.79      0.81       247\n",
            "        thai       0.72      0.84      0.78       230\n",
            "\n",
            "    accuracy                           0.80      1199\n",
            "   macro avg       0.80      0.80      0.80      1199\n",
            "weighted avg       0.80      0.80      0.80      1199\n",
            "\n",
            "Accuracy (train) for KNN classifier: 71.2%\n",
            "              precision    recall  f1-score   support\n",
            "\n",
            "     chinese       0.72      0.66      0.69       256\n",
            "      indian       0.87      0.75      0.80       247\n",
            "    japanese       0.58      0.84      0.69       219\n",
            "      korean       0.92      0.56      0.70       247\n",
            "        thai       0.63      0.76      0.69       230\n",
            "\n",
            "    accuracy                           0.71      1199\n",
            "   macro avg       0.74      0.72      0.71      1199\n",
            "weighted avg       0.75      0.71      0.71      1199\n",
            "\n",
            "Accuracy (train) for Support Vector Classifier: 81.9%\n",
            "              precision    recall  f1-score   support\n",
            "\n",
            "     chinese       0.78      0.78      0.78       256\n",
            "      indian       0.89      0.87      0.88       247\n",
            "    japanese       0.80      0.80      0.80       219\n",
            "      korean       0.90      0.79      0.84       247\n",
            "        thai       0.74      0.87      0.80       230\n",
            "\n",
            "    accuracy                           0.82      1199\n",
            "   macro avg       0.82      0.82      0.82      1199\n",
            "weighted avg       0.82      0.82      0.82      1199\n",
            "\n",
            "Accuracy (train) for RFST: 83.2%\n",
            "              precision    recall  f1-score   support\n",
            "\n",
            "     chinese       0.84      0.79      0.81       256\n",
            "      indian       0.90      0.87      0.88       247\n",
            "    japanese       0.79      0.80      0.80       219\n",
            "      korean       0.86      0.83      0.85       247\n",
            "        thai       0.78      0.87      0.82       230\n",
            "\n",
            "    accuracy                           0.83      1199\n",
            "   macro avg       0.83      0.83      0.83      1199\n",
            "weighted avg       0.83      0.83      0.83      1199\n",
            "\n",
            "Accuracy (train) for ADA: 68.6%\n",
            "              precision    recall  f1-score   support\n",
            "\n",
            "     chinese       0.70      0.45      0.55       256\n",
            "      indian       0.84      0.78      0.81       247\n",
            "    japanese       0.65      0.66      0.66       219\n",
            "      korean       0.62      0.81      0.71       247\n",
            "        thai       0.65      0.73      0.69       230\n",
            "\n",
            "    accuracy                           0.69      1199\n",
            "   macro avg       0.69      0.69      0.68      1199\n",
            "weighted avg       0.69      0.69      0.68      1199\n",
            "\n"
          ]
        }
      ]
    },
    {
      "cell_type": "code",
      "source": [
        "# k-neighbors classifier\n",
        "n_classifiers = len(classifiers)\n",
        "for index , (name , classifier) in enumerate(classifiers.items()):\n",
        "  classifier.fit(X_train , np.ravel(y_train)) # flatting\n",
        "  y_pred = classifier.predict(X_test)\n",
        "  accuracy = accuracy_score(y_test,y_pred)\n",
        "  print(\"Accuracy (train) for %s: %0.1f%%\"%(name , accuracy*100))\n",
        "  print(classification_report(y_test,y_pred))"
      ],
      "metadata": {
        "id": "OJykP_vIjVyn",
        "outputId": "8c9fc1ee-38ec-46c5-c1d8-944c84a91365",
        "colab": {
          "base_uri": "https://localhost:8080/"
        }
      },
      "execution_count": 167,
      "outputs": [
        {
          "output_type": "stream",
          "name": "stdout",
          "text": [
            "Accuracy (train) for Linear SVC: 80.2%\n",
            "              precision    recall  f1-score   support\n",
            "\n",
            "     chinese       0.76      0.76      0.76       256\n",
            "      indian       0.92      0.86      0.89       247\n",
            "    japanese       0.79      0.74      0.77       219\n",
            "      korean       0.83      0.79      0.81       247\n",
            "        thai       0.73      0.86      0.79       230\n",
            "\n",
            "    accuracy                           0.80      1199\n",
            "   macro avg       0.81      0.80      0.80      1199\n",
            "weighted avg       0.81      0.80      0.80      1199\n",
            "\n",
            "Accuracy (train) for KNN classifier: 73.5%\n",
            "              precision    recall  f1-score   support\n",
            "\n",
            "     chinese       0.73      0.72      0.72       256\n",
            "      indian       0.85      0.78      0.81       247\n",
            "    japanese       0.61      0.85      0.71       219\n",
            "      korean       0.92      0.56      0.70       247\n",
            "        thai       0.68      0.77      0.72       230\n",
            "\n",
            "    accuracy                           0.73      1199\n",
            "   macro avg       0.76      0.74      0.73      1199\n",
            "weighted avg       0.76      0.73      0.73      1199\n",
            "\n",
            "Accuracy (train) for SVC: 81.9%\n",
            "              precision    recall  f1-score   support\n",
            "\n",
            "     chinese       0.78      0.78      0.78       256\n",
            "      indian       0.89      0.87      0.88       247\n",
            "    japanese       0.80      0.80      0.80       219\n",
            "      korean       0.90      0.79      0.84       247\n",
            "        thai       0.74      0.87      0.80       230\n",
            "\n",
            "    accuracy                           0.82      1199\n",
            "   macro avg       0.82      0.82      0.82      1199\n",
            "weighted avg       0.82      0.82      0.82      1199\n",
            "\n"
          ]
        }
      ]
    },
    {
      "cell_type": "code",
      "source": [
        "from sklearn import svm\n",
        "X = [[0, 0 ], [5, 6] ]\n",
        "y = [5,9]\n",
        "clf = svm.SVC()\n",
        "clf.fit(X, y)"
      ],
      "metadata": {
        "id": "BNPUpRsEjV1W",
        "outputId": "55242ced-985b-4849-cbc1-5934159ca4f4",
        "colab": {
          "base_uri": "https://localhost:8080/"
        }
      },
      "execution_count": 212,
      "outputs": [
        {
          "output_type": "execute_result",
          "data": {
            "text/plain": [
              "SVC()"
            ]
          },
          "metadata": {},
          "execution_count": 212
        }
      ]
    },
    {
      "cell_type": "code",
      "source": [
        "clf.n_support_\n"
      ],
      "metadata": {
        "id": "LRrgggbdjV3j",
        "outputId": "182ec0cc-68c5-4eb8-e44b-836060d08e38",
        "colab": {
          "base_uri": "https://localhost:8080/"
        }
      },
      "execution_count": 213,
      "outputs": [
        {
          "output_type": "execute_result",
          "data": {
            "text/plain": [
              "array([1, 1], dtype=int32)"
            ]
          },
          "metadata": {},
          "execution_count": 213
        }
      ]
    },
    {
      "cell_type": "code",
      "source": [
        "clf.support_vectors_"
      ],
      "metadata": {
        "id": "t84tXmO375hW",
        "outputId": "2dcb2768-0072-4097-8d0a-f1a28cc13697",
        "colab": {
          "base_uri": "https://localhost:8080/"
        }
      },
      "execution_count": 214,
      "outputs": [
        {
          "output_type": "execute_result",
          "data": {
            "text/plain": [
              "array([[0., 0.],\n",
              "       [5., 6.]])"
            ]
          },
          "metadata": {},
          "execution_count": 214
        }
      ]
    },
    {
      "cell_type": "code",
      "source": [
        "import pandas as pd\n",
        "import matplotlib.pyplot as plt\n",
        "import seaborn as sns\n",
        "\n",
        "#Import the dataset\n",
        "from sklearn.datasets import load_iris\n",
        "\n",
        "def sklearn_to_df(sklearn_dataset):\n",
        "    df = pd.DataFrame(sklearn_dataset.data, columns=sklearn_dataset.feature_names)\n",
        "    df['target'] = pd.Series(sklearn_dataset.target)\n",
        "    return df\n",
        "df = sklearn_to_df(load_iris())\n",
        "print(df.info())\n",
        "#Create the collinearity matrix\n",
        "corr = df.corr()\n",
        "cmap = sns.diverging_palette(230, 20, as_cmap=True) #Color\n",
        "mask = np.triu(np.ones_like(corr, dtype=bool)) #Masking the diagonoal and above\n",
        "\n",
        "fig, ax = plt.subplots(figsize=(10,6))\n",
        "sns.heatmap(corr, center=0, cmap=\"coolwarm\", square=True,\n",
        "linewidth=0.3, cbar_kws={\"shrink\": .8}, annot=True, mask=mask)\n",
        "ax.set_title(\"Multi-Collinearity of the iris dataset\")\n",
        "\n",
        "#Calculating the VIF\n",
        "from statsmodels.stats.outliers_influence import variance_inflation_factor\n",
        "\n",
        "vif = pd.DataFrame()\n",
        "vif[\"Features\"] = df.columns\n",
        "vif[\"VIF\"] = [variance_inflation_factor(df.values, i) for i in range(df.shape[1])]\n",
        "vif.head(4)"
      ],
      "metadata": {
        "id": "InMx3VUt0fsi",
        "outputId": "0227aa7c-95e6-41e9-e468-1da621815e5b",
        "colab": {
          "base_uri": "https://localhost:8080/",
          "height": 858
        }
      },
      "execution_count": 83,
      "outputs": [
        {
          "output_type": "stream",
          "name": "stdout",
          "text": [
            "<class 'pandas.core.frame.DataFrame'>\n",
            "RangeIndex: 150 entries, 0 to 149\n",
            "Data columns (total 5 columns):\n",
            " #   Column             Non-Null Count  Dtype  \n",
            "---  ------             --------------  -----  \n",
            " 0   sepal length (cm)  150 non-null    float64\n",
            " 1   sepal width (cm)   150 non-null    float64\n",
            " 2   petal length (cm)  150 non-null    float64\n",
            " 3   petal width (cm)   150 non-null    float64\n",
            " 4   target             150 non-null    int64  \n",
            "dtypes: float64(4), int64(1)\n",
            "memory usage: 6.0 KB\n",
            "None\n"
          ]
        },
        {
          "output_type": "execute_result",
          "data": {
            "text/plain": [
              "            Features         VIF\n",
              "0  sepal length (cm)  268.296625\n",
              "1   sepal width (cm)   96.466731\n",
              "2  petal length (cm)  191.617053\n",
              "3   petal width (cm)   71.035195"
            ],
            "text/html": [
              "\n",
              "  <div id=\"df-1d9e4ef6-9a87-4dc5-9190-713ddbaa3d1d\">\n",
              "    <div class=\"colab-df-container\">\n",
              "      <div>\n",
              "<style scoped>\n",
              "    .dataframe tbody tr th:only-of-type {\n",
              "        vertical-align: middle;\n",
              "    }\n",
              "\n",
              "    .dataframe tbody tr th {\n",
              "        vertical-align: top;\n",
              "    }\n",
              "\n",
              "    .dataframe thead th {\n",
              "        text-align: right;\n",
              "    }\n",
              "</style>\n",
              "<table border=\"1\" class=\"dataframe\">\n",
              "  <thead>\n",
              "    <tr style=\"text-align: right;\">\n",
              "      <th></th>\n",
              "      <th>Features</th>\n",
              "      <th>VIF</th>\n",
              "    </tr>\n",
              "  </thead>\n",
              "  <tbody>\n",
              "    <tr>\n",
              "      <th>0</th>\n",
              "      <td>sepal length (cm)</td>\n",
              "      <td>268.296625</td>\n",
              "    </tr>\n",
              "    <tr>\n",
              "      <th>1</th>\n",
              "      <td>sepal width (cm)</td>\n",
              "      <td>96.466731</td>\n",
              "    </tr>\n",
              "    <tr>\n",
              "      <th>2</th>\n",
              "      <td>petal length (cm)</td>\n",
              "      <td>191.617053</td>\n",
              "    </tr>\n",
              "    <tr>\n",
              "      <th>3</th>\n",
              "      <td>petal width (cm)</td>\n",
              "      <td>71.035195</td>\n",
              "    </tr>\n",
              "  </tbody>\n",
              "</table>\n",
              "</div>\n",
              "      <button class=\"colab-df-convert\" onclick=\"convertToInteractive('df-1d9e4ef6-9a87-4dc5-9190-713ddbaa3d1d')\"\n",
              "              title=\"Convert this dataframe to an interactive table.\"\n",
              "              style=\"display:none;\">\n",
              "        \n",
              "  <svg xmlns=\"http://www.w3.org/2000/svg\" height=\"24px\"viewBox=\"0 0 24 24\"\n",
              "       width=\"24px\">\n",
              "    <path d=\"M0 0h24v24H0V0z\" fill=\"none\"/>\n",
              "    <path d=\"M18.56 5.44l.94 2.06.94-2.06 2.06-.94-2.06-.94-.94-2.06-.94 2.06-2.06.94zm-11 1L8.5 8.5l.94-2.06 2.06-.94-2.06-.94L8.5 2.5l-.94 2.06-2.06.94zm10 10l.94 2.06.94-2.06 2.06-.94-2.06-.94-.94-2.06-.94 2.06-2.06.94z\"/><path d=\"M17.41 7.96l-1.37-1.37c-.4-.4-.92-.59-1.43-.59-.52 0-1.04.2-1.43.59L10.3 9.45l-7.72 7.72c-.78.78-.78 2.05 0 2.83L4 21.41c.39.39.9.59 1.41.59.51 0 1.02-.2 1.41-.59l7.78-7.78 2.81-2.81c.8-.78.8-2.07 0-2.86zM5.41 20L4 18.59l7.72-7.72 1.47 1.35L5.41 20z\"/>\n",
              "  </svg>\n",
              "      </button>\n",
              "      \n",
              "  <style>\n",
              "    .colab-df-container {\n",
              "      display:flex;\n",
              "      flex-wrap:wrap;\n",
              "      gap: 12px;\n",
              "    }\n",
              "\n",
              "    .colab-df-convert {\n",
              "      background-color: #E8F0FE;\n",
              "      border: none;\n",
              "      border-radius: 50%;\n",
              "      cursor: pointer;\n",
              "      display: none;\n",
              "      fill: #1967D2;\n",
              "      height: 32px;\n",
              "      padding: 0 0 0 0;\n",
              "      width: 32px;\n",
              "    }\n",
              "\n",
              "    .colab-df-convert:hover {\n",
              "      background-color: #E2EBFA;\n",
              "      box-shadow: 0px 1px 2px rgba(60, 64, 67, 0.3), 0px 1px 3px 1px rgba(60, 64, 67, 0.15);\n",
              "      fill: #174EA6;\n",
              "    }\n",
              "\n",
              "    [theme=dark] .colab-df-convert {\n",
              "      background-color: #3B4455;\n",
              "      fill: #D2E3FC;\n",
              "    }\n",
              "\n",
              "    [theme=dark] .colab-df-convert:hover {\n",
              "      background-color: #434B5C;\n",
              "      box-shadow: 0px 1px 3px 1px rgba(0, 0, 0, 0.15);\n",
              "      filter: drop-shadow(0px 1px 2px rgba(0, 0, 0, 0.3));\n",
              "      fill: #FFFFFF;\n",
              "    }\n",
              "  </style>\n",
              "\n",
              "      <script>\n",
              "        const buttonEl =\n",
              "          document.querySelector('#df-1d9e4ef6-9a87-4dc5-9190-713ddbaa3d1d button.colab-df-convert');\n",
              "        buttonEl.style.display =\n",
              "          google.colab.kernel.accessAllowed ? 'block' : 'none';\n",
              "\n",
              "        async function convertToInteractive(key) {\n",
              "          const element = document.querySelector('#df-1d9e4ef6-9a87-4dc5-9190-713ddbaa3d1d');\n",
              "          const dataTable =\n",
              "            await google.colab.kernel.invokeFunction('convertToInteractive',\n",
              "                                                     [key], {});\n",
              "          if (!dataTable) return;\n",
              "\n",
              "          const docLinkHtml = 'Like what you see? Visit the ' +\n",
              "            '<a target=\"_blank\" href=https://colab.research.google.com/notebooks/data_table.ipynb>data table notebook</a>'\n",
              "            + ' to learn more about interactive tables.';\n",
              "          element.innerHTML = '';\n",
              "          dataTable['output_type'] = 'display_data';\n",
              "          await google.colab.output.renderOutput(dataTable, element);\n",
              "          const docLink = document.createElement('div');\n",
              "          docLink.innerHTML = docLinkHtml;\n",
              "          element.appendChild(docLink);\n",
              "        }\n",
              "      </script>\n",
              "    </div>\n",
              "  </div>\n",
              "  "
            ]
          },
          "metadata": {},
          "execution_count": 83
        },
        {
          "output_type": "display_data",
          "data": {
            "text/plain": [
              "<Figure size 720x432 with 2 Axes>"
            ],
            "image/png": "[encoded data removed]"
          },
          "metadata": {
            "needs_background": "light"
          }
        }
      ]
    },
    {
      "cell_type": "code",
      "source": [],
      "metadata": {
        "id": "1wAvz9jyDsab"
      },
      "execution_count": 83,
      "outputs": []
    },
    {
      "cell_type": "code",
      "source": [],
      "metadata": {
        "id": "CT-KjP7k0fu8"
      },
      "execution_count": 83,
      "outputs": []
    }
  ],
  "metadata": {
    "colab": {
      "collapsed_sections": [],
      "name": "colab-github-demo.ipynb",
      "provenance": [],
      "include_colab_link": true
    },
    "kernelspec": {
      "display_name": "Python 3",
      "name": "python3"
    }
  },
  "nbformat": 4,
  "nbformat_minor": 0
}